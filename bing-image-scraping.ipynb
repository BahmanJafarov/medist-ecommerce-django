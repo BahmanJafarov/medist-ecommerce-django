{
 "cells": [
  {
   "cell_type": "code",
   "execution_count": null,
   "metadata": {},
   "outputs": [
    {
     "name": "stderr",
     "output_type": "stream",
     "text": [
      "2025-02-05 15:36:04,924 - INFO - icrawler.crawler - start crawling...\n",
      "2025-02-05 15:36:04,926 - INFO - icrawler.crawler - starting 1 feeder threads...\n",
      "2025-02-05 15:36:04,928 - INFO - feeder - thread feeder-001 exit\n",
      "2025-02-05 15:36:04,929 - INFO - icrawler.crawler - starting 1 parser threads...\n",
      "2025-02-05 15:36:04,934 - INFO - icrawler.crawler - starting 1 downloader threads...\n",
      "2025-02-05 15:36:05,879 - INFO - parser - parsing result page https://www.bing.com/images/async?q=Smart Digital Weighing Scale&first=0\n",
      "2025-02-05 15:36:08,232 - INFO - downloader - image #1\thttp://www.digitalweighing-scales.com/photo/pl25210138-oiml_smart_touch_screen_bench_scale_digital_weighing_scales_with_printer.jpg\n",
      "2025-02-05 15:36:09,419 - INFO - downloader - downloaded images reach max num, thread downloader-001 is ready to exit\n",
      "2025-02-05 15:36:09,421 - INFO - downloader - thread downloader-001 exit\n",
      "2025-02-05 15:36:09,939 - INFO - icrawler.crawler - Crawling task done!\n",
      "2025-02-05 15:36:09,942 - INFO - icrawler.crawler - start crawling...\n",
      "2025-02-05 15:36:09,944 - INFO - icrawler.crawler - starting 1 feeder threads...\n",
      "2025-02-05 15:36:09,945 - INFO - feeder - thread feeder-001 exit\n",
      "2025-02-05 15:36:09,946 - INFO - icrawler.crawler - starting 1 parser threads...\n",
      "2025-02-05 15:36:09,953 - INFO - icrawler.crawler - starting 1 downloader threads...\n"
     ]
    },
    {
     "name": "stdout",
     "output_type": "stream",
     "text": [
      "Downloaded image for 'Smart Digital Weighing Scale' and saved as 'image/product/smart_digital_scale.jpg'\n"
     ]
    },
    {
     "name": "stderr",
     "output_type": "stream",
     "text": [
      "2025-02-05 15:36:10,238 - INFO - parser - downloaded image reached max num, thread parser-001 is ready to exit\n",
      "2025-02-05 15:36:10,239 - INFO - parser - thread parser-001 exit\n",
      "2025-02-05 15:36:10,896 - INFO - parser - parsing result page https://www.bing.com/images/async?q=Advanced Digital Weighing Scale&first=0\n",
      "2025-02-05 15:36:12,503 - INFO - downloader - image #1\thttps://tiimg.tistatic.com/fp/1/008/008/highly-utilized-easily-compatible-heavy-duty-advanced-digital-weighing-scale-293.jpg\n",
      "2025-02-05 15:36:14,943 - INFO - downloader - downloaded images reach max num, thread downloader-001 is ready to exit\n",
      "2025-02-05 15:36:14,945 - INFO - downloader - thread downloader-001 exit\n",
      "2025-02-05 15:36:14,958 - INFO - parser - downloaded image reached max num, thread parser-001 is ready to exit\n",
      "2025-02-05 15:36:14,960 - INFO - parser - thread parser-001 exit\n",
      "2025-02-05 15:36:14,961 - INFO - icrawler.crawler - Crawling task done!\n",
      "2025-02-05 15:36:14,966 - INFO - icrawler.crawler - start crawling...\n",
      "2025-02-05 15:36:14,967 - INFO - icrawler.crawler - starting 1 feeder threads...\n",
      "2025-02-05 15:36:14,969 - INFO - feeder - thread feeder-001 exit\n",
      "2025-02-05 15:36:14,971 - INFO - icrawler.crawler - starting 1 parser threads...\n",
      "2025-02-05 15:36:14,976 - INFO - icrawler.crawler - starting 1 downloader threads...\n"
     ]
    },
    {
     "name": "stdout",
     "output_type": "stream",
     "text": [
      "Downloaded image for 'Advanced Digital Weighing Scale' and saved as 'image/product/advanced_digital_scale.jpg'\n"
     ]
    },
    {
     "name": "stderr",
     "output_type": "stream",
     "text": [
      "2025-02-05 15:36:16,087 - INFO - parser - parsing result page https://www.bing.com/images/async?q=Classic Mechanical Scale&first=0\n",
      "2025-02-05 15:36:20,100 - INFO - downloader - image #1\thttps://harrellmachinerysales.com/wp-content/uploads/2021/04/2514B-scaled.jpg\n",
      "2025-02-05 15:36:22,106 - INFO - downloader - downloaded images reach max num, thread downloader-001 is ready to exit\n",
      "2025-02-05 15:36:22,107 - INFO - downloader - thread downloader-001 exit\n",
      "2025-02-05 15:36:22,121 - INFO - parser - downloaded image reached max num, thread parser-001 is ready to exit\n",
      "2025-02-05 15:36:22,123 - INFO - parser - thread parser-001 exit\n",
      "2025-02-05 15:36:22,982 - INFO - icrawler.crawler - Crawling task done!\n",
      "2025-02-05 15:36:22,987 - INFO - icrawler.crawler - start crawling...\n",
      "2025-02-05 15:36:22,989 - INFO - icrawler.crawler - starting 1 feeder threads...\n",
      "2025-02-05 15:36:22,990 - INFO - feeder - thread feeder-001 exit\n",
      "2025-02-05 15:36:22,992 - INFO - icrawler.crawler - starting 1 parser threads...\n",
      "2025-02-05 15:36:22,994 - INFO - icrawler.crawler - starting 1 downloader threads...\n"
     ]
    },
    {
     "name": "stdout",
     "output_type": "stream",
     "text": [
      "Downloaded image for 'Classic Mechanical Scale' and saved as 'image/product/classic_mechanical_scale.jpg'\n"
     ]
    },
    {
     "name": "stderr",
     "output_type": "stream",
     "text": [
      "2025-02-05 15:36:24,116 - INFO - parser - parsing result page https://www.bing.com/images/async?q=Heavy Duty Mechanical Scale&first=0\n",
      "2025-02-05 15:36:25,924 - INFO - downloader - image #1\thttps://www.taylorusa.com/cdn/shop/products/THD32D_3097a877-8134-4ab7-8835-fad2411e6623.jpg\n",
      "2025-02-05 15:36:27,178 - INFO - downloader - downloaded images reach max num, thread downloader-001 is ready to exit\n",
      "2025-02-05 15:36:27,179 - INFO - downloader - thread downloader-001 exit\n",
      "2025-02-05 15:36:27,998 - INFO - icrawler.crawler - Crawling task done!\n",
      "2025-02-05 15:36:28,003 - INFO - icrawler.crawler - start crawling...\n",
      "2025-02-05 15:36:28,004 - INFO - icrawler.crawler - starting 1 feeder threads...\n",
      "2025-02-05 15:36:28,006 - INFO - feeder - thread feeder-001 exit\n",
      "2025-02-05 15:36:28,006 - INFO - icrawler.crawler - starting 1 parser threads...\n",
      "2025-02-05 15:36:28,010 - INFO - icrawler.crawler - starting 1 downloader threads...\n",
      "2025-02-05 15:36:28,157 - INFO - parser - downloaded image reached max num, thread parser-001 is ready to exit\n",
      "2025-02-05 15:36:28,158 - INFO - parser - thread parser-001 exit\n"
     ]
    },
    {
     "name": "stdout",
     "output_type": "stream",
     "text": [
      "Downloaded image for 'Heavy Duty Mechanical Scale' and saved as 'image/product/heavy_duty_mechanical_scale.jpg'\n"
     ]
    },
    {
     "name": "stderr",
     "output_type": "stream",
     "text": [
      "2025-02-05 15:36:29,229 - INFO - parser - parsing result page https://www.bing.com/images/async?q=WiFi Smart Body Weight Scale&first=0\n",
      "2025-02-05 15:36:30,786 - INFO - downloader - image #1\thttps://dj1ofsc4ivjxq.cloudfront.net/vmall/v1/2021-09-01-52f0a8af-b1bf-454b-bfd2-af8e02a75389.jpg\n",
      "2025-02-05 15:36:33,333 - INFO - downloader - downloaded images reach max num, thread downloader-001 is ready to exit\n",
      "2025-02-05 15:36:33,334 - INFO - downloader - thread downloader-001 exit\n",
      "2025-02-05 15:36:34,016 - INFO - icrawler.crawler - Crawling task done!\n",
      "2025-02-05 15:36:34,020 - INFO - icrawler.crawler - start crawling...\n",
      "2025-02-05 15:36:34,021 - INFO - icrawler.crawler - starting 1 feeder threads...\n",
      "2025-02-05 15:36:34,022 - INFO - feeder - thread feeder-001 exit\n",
      "2025-02-05 15:36:34,023 - INFO - icrawler.crawler - starting 1 parser threads...\n",
      "2025-02-05 15:36:34,027 - INFO - icrawler.crawler - starting 1 downloader threads...\n"
     ]
    },
    {
     "name": "stdout",
     "output_type": "stream",
     "text": [
      "Downloaded image for 'WiFi Smart Body Weight Scale' and saved as 'image/product/wifi_smart_scale.jpg'\n"
     ]
    },
    {
     "name": "stderr",
     "output_type": "stream",
     "text": [
      "2025-02-05 15:36:34,281 - INFO - parser - downloaded image reached max num, thread parser-001 is ready to exit\n",
      "2025-02-05 15:36:34,282 - INFO - parser - thread parser-001 exit\n",
      "2025-02-05 15:36:35,023 - INFO - parser - parsing result page https://www.bing.com/images/async?q=Smart Body Composition Analyzer&first=0\n",
      "2025-02-05 15:36:36,327 - INFO - downloader - image #1\thttps://www.gosupps.com/media/catalog/product/cache/25/image/1500x/040ec09b1e35df139433887a97daa66f/7/1/71ghF5uCzPL._SL1500_.jpg\n",
      "2025-02-05 15:36:37,076 - INFO - downloader - downloaded images reach max num, thread downloader-001 is ready to exit\n",
      "2025-02-05 15:36:37,078 - INFO - downloader - thread downloader-001 exit\n",
      "2025-02-05 15:36:37,081 - INFO - parser - downloaded image reached max num, thread parser-001 is ready to exit\n",
      "2025-02-05 15:36:37,082 - INFO - parser - thread parser-001 exit\n",
      "2025-02-05 15:36:38,032 - INFO - icrawler.crawler - Crawling task done!\n",
      "2025-02-05 15:36:38,040 - INFO - icrawler.crawler - start crawling...\n",
      "2025-02-05 15:36:38,041 - INFO - icrawler.crawler - starting 1 feeder threads...\n",
      "2025-02-05 15:36:38,043 - INFO - feeder - thread feeder-001 exit\n",
      "2025-02-05 15:36:38,043 - INFO - icrawler.crawler - starting 1 parser threads...\n",
      "2025-02-05 15:36:38,046 - INFO - icrawler.crawler - starting 1 downloader threads...\n"
     ]
    },
    {
     "name": "stdout",
     "output_type": "stream",
     "text": [
      "Downloaded image for 'Smart Body Composition Analyzer' and saved as 'image/product/smart_body_composition.jpg'\n"
     ]
    },
    {
     "name": "stderr",
     "output_type": "stream",
     "text": [
      "2025-02-05 15:36:39,463 - INFO - parser - parsing result page https://www.bing.com/images/async?q=Sleek Bathroom Scale&first=0\n",
      "2025-02-05 15:36:41,782 - INFO - downloader - image #1\thttps://images.globalindustrial.com/images/pdp/B480575.jpg\n",
      "2025-02-05 15:36:42,980 - INFO - downloader - downloaded images reach max num, thread downloader-001 is ready to exit\n",
      "2025-02-05 15:36:42,981 - INFO - downloader - thread downloader-001 exit\n",
      "2025-02-05 15:36:43,051 - INFO - icrawler.crawler - Crawling task done!\n",
      "2025-02-05 15:36:43,054 - INFO - icrawler.crawler - start crawling...\n",
      "2025-02-05 15:36:43,056 - INFO - icrawler.crawler - starting 1 feeder threads...\n",
      "2025-02-05 15:36:43,058 - INFO - feeder - thread feeder-001 exit\n",
      "2025-02-05 15:36:43,058 - INFO - icrawler.crawler - starting 1 parser threads...\n",
      "2025-02-05 15:36:43,061 - INFO - icrawler.crawler - starting 1 downloader threads...\n"
     ]
    },
    {
     "name": "stdout",
     "output_type": "stream",
     "text": [
      "Downloaded image for 'Sleek Bathroom Scale' and saved as 'image/product/sleek_bathroom_scale.jpg'\n"
     ]
    },
    {
     "name": "stderr",
     "output_type": "stream",
     "text": [
      "2025-02-05 15:36:43,792 - INFO - parser - downloaded image reached max num, thread parser-001 is ready to exit\n",
      "2025-02-05 15:36:43,794 - INFO - parser - thread parser-001 exit\n",
      "2025-02-05 15:36:43,963 - INFO - parser - parsing result page https://www.bing.com/images/async?q=Compact Bathroom Scale&first=0\n",
      "2025-02-05 15:36:45,852 - INFO - downloader - image #1\thttp://images.esellerpro.com/2644/I/122/9024SV3R.jpg\n",
      "2025-02-05 15:36:47,586 - INFO - downloader - downloaded images reach max num, thread downloader-001 is ready to exit\n",
      "2025-02-05 15:36:47,587 - INFO - downloader - thread downloader-001 exit\n",
      "2025-02-05 15:36:48,084 - INFO - icrawler.crawler - Crawling task done!\n",
      "2025-02-05 15:36:48,088 - INFO - icrawler.crawler - start crawling...\n",
      "2025-02-05 15:36:48,089 - INFO - icrawler.crawler - starting 1 feeder threads...\n",
      "2025-02-05 15:36:48,090 - INFO - feeder - thread feeder-001 exit\n",
      "2025-02-05 15:36:48,091 - INFO - icrawler.crawler - starting 1 parser threads...\n",
      "2025-02-05 15:36:48,096 - INFO - icrawler.crawler - starting 1 downloader threads...\n",
      "2025-02-05 15:36:48,097 - INFO - parser - downloaded image reached max num, thread parser-001 is ready to exit\n",
      "2025-02-05 15:36:48,103 - INFO - parser - thread parser-001 exit\n"
     ]
    },
    {
     "name": "stdout",
     "output_type": "stream",
     "text": [
      "Downloaded image for 'Compact Bathroom Scale' and saved as 'image/product/compact_bathroom_scale.jpg'\n"
     ]
    },
    {
     "name": "stderr",
     "output_type": "stream",
     "text": [
      "2025-02-05 15:36:49,442 - INFO - parser - parsing result page https://www.bing.com/images/async?q=Sterile Disposable Syringes 10ml&first=0\n",
      "2025-02-05 15:36:50,362 - INFO - downloader - image #1\thttps://i0.wp.com/reflexmedical.co.uk/wp-content/uploads/2021/03/BD-Emerald-Range-1.jpg\n",
      "2025-02-05 15:36:53,039 - INFO - downloader - downloaded images reach max num, thread downloader-001 is ready to exit\n",
      "2025-02-05 15:36:53,040 - INFO - downloader - thread downloader-001 exit\n",
      "2025-02-05 15:36:53,104 - INFO - icrawler.crawler - Crawling task done!\n",
      "2025-02-05 15:36:53,108 - INFO - icrawler.crawler - start crawling...\n",
      "2025-02-05 15:36:53,110 - INFO - icrawler.crawler - starting 1 feeder threads...\n",
      "2025-02-05 15:36:53,112 - INFO - feeder - thread feeder-001 exit\n",
      "2025-02-05 15:36:53,113 - INFO - icrawler.crawler - starting 1 parser threads...\n",
      "2025-02-05 15:36:53,118 - INFO - icrawler.crawler - starting 1 downloader threads...\n"
     ]
    },
    {
     "name": "stdout",
     "output_type": "stream",
     "text": [
      "Downloaded image for 'Sterile Disposable Syringes 10ml' and saved as 'image/product/sterile_disposable_syringes_10ml.jpg'\n"
     ]
    },
    {
     "name": "stderr",
     "output_type": "stream",
     "text": [
      "2025-02-05 15:36:53,366 - INFO - parser - downloaded image reached max num, thread parser-001 is ready to exit\n",
      "2025-02-05 15:36:53,368 - INFO - parser - thread parser-001 exit\n",
      "2025-02-05 15:36:54,465 - INFO - parser - parsing result page https://www.bing.com/images/async?q=Disposable Syringes 5ml&first=0\n",
      "2025-02-05 15:36:55,858 - INFO - downloader - image #1\thttp://image.made-in-china.com/2f0j00ZsdEjBbGAQcz/5ml-Disposable-Syringes-5ml.jpg\n",
      "2025-02-05 15:36:58,599 - INFO - downloader - downloaded images reach max num, thread downloader-001 is ready to exit\n",
      "2025-02-05 15:36:58,600 - INFO - downloader - thread downloader-001 exit\n",
      "2025-02-05 15:36:59,123 - INFO - icrawler.crawler - Crawling task done!\n",
      "2025-02-05 15:36:59,126 - INFO - icrawler.crawler - start crawling...\n",
      "2025-02-05 15:36:59,127 - INFO - icrawler.crawler - starting 1 feeder threads...\n",
      "2025-02-05 15:36:59,129 - INFO - feeder - thread feeder-001 exit\n",
      "2025-02-05 15:36:59,130 - INFO - icrawler.crawler - starting 1 parser threads...\n",
      "2025-02-05 15:36:59,132 - INFO - icrawler.crawler - starting 1 downloader threads...\n"
     ]
    },
    {
     "name": "stdout",
     "output_type": "stream",
     "text": [
      "Downloaded image for 'Disposable Syringes 5ml' and saved as 'image/product/disposable_syringes_5ml.jpg'\n"
     ]
    },
    {
     "name": "stderr",
     "output_type": "stream",
     "text": [
      "2025-02-05 15:36:59,507 - INFO - parser - downloaded image reached max num, thread parser-001 is ready to exit\n",
      "2025-02-05 15:36:59,508 - INFO - parser - thread parser-001 exit\n",
      "2025-02-05 15:37:00,472 - INFO - parser - parsing result page https://www.bing.com/images/async?q=Insulin Syringes Pack 50&first=0\n",
      "2025-02-05 15:37:03,342 - INFO - downloader - image #1\thttps://www.kmedhealth.com/wp-content/uploads/2021/06/insulin-syringe-scaled.jpg\n",
      "2025-02-05 15:37:04,823 - INFO - downloader - downloaded images reach max num, thread downloader-001 is ready to exit\n",
      "2025-02-05 15:37:04,824 - INFO - downloader - thread downloader-001 exit\n",
      "2025-02-05 15:37:05,137 - INFO - icrawler.crawler - Crawling task done!\n",
      "2025-02-05 15:37:05,140 - INFO - icrawler.crawler - start crawling...\n",
      "2025-02-05 15:37:05,141 - INFO - icrawler.crawler - starting 1 feeder threads...\n",
      "2025-02-05 15:37:05,143 - INFO - feeder - thread feeder-001 exit\n",
      "2025-02-05 15:37:05,143 - INFO - icrawler.crawler - starting 1 parser threads...\n",
      "2025-02-05 15:37:05,146 - INFO - icrawler.crawler - starting 1 downloader threads...\n"
     ]
    },
    {
     "name": "stdout",
     "output_type": "stream",
     "text": [
      "Downloaded image for 'Insulin Syringes Pack 50' and saved as 'image/product/insulin_syringes_50.jpg'\n"
     ]
    },
    {
     "name": "stderr",
     "output_type": "stream",
     "text": [
      "2025-02-05 15:37:05,347 - INFO - parser - downloaded image reached max num, thread parser-001 is ready to exit\n",
      "2025-02-05 15:37:05,348 - INFO - parser - thread parser-001 exit\n",
      "2025-02-05 15:37:06,480 - INFO - parser - parsing result page https://www.bing.com/images/async?q=Insulin Syringes Pack 100&first=0\n",
      "2025-02-05 15:37:08,568 - INFO - downloader - image #1\thttps://m.media-amazon.com/images/I/81vjcT-Eq-L.jpg\n",
      "2025-02-05 15:37:09,355 - INFO - downloader - downloaded images reach max num, thread downloader-001 is ready to exit\n",
      "2025-02-05 15:37:09,357 - INFO - downloader - thread downloader-001 exit\n",
      "2025-02-05 15:37:10,150 - INFO - icrawler.crawler - Crawling task done!\n",
      "2025-02-05 15:37:10,154 - INFO - icrawler.crawler - start crawling...\n",
      "2025-02-05 15:37:10,155 - INFO - icrawler.crawler - starting 1 feeder threads...\n",
      "2025-02-05 15:37:10,157 - INFO - feeder - thread feeder-001 exit\n",
      "2025-02-05 15:37:10,158 - INFO - icrawler.crawler - starting 1 parser threads...\n",
      "2025-02-05 15:37:10,160 - INFO - icrawler.crawler - starting 1 downloader threads...\n"
     ]
    },
    {
     "name": "stdout",
     "output_type": "stream",
     "text": [
      "Downloaded image for 'Insulin Syringes Pack 100' and saved as 'image/product/insulin_syringes_100.jpg'\n"
     ]
    },
    {
     "name": "stderr",
     "output_type": "stream",
     "text": [
      "2025-02-05 15:37:10,574 - INFO - parser - downloaded image reached max num, thread parser-001 is ready to exit\n",
      "2025-02-05 15:37:10,575 - INFO - parser - thread parser-001 exit\n",
      "2025-02-05 15:37:11,622 - INFO - parser - parsing result page https://www.bing.com/images/async?q=Auto-disable Safety Syringes&first=0\n",
      "2025-02-05 15:37:13,326 - INFO - downloader - image #1\thttps://improvemedicalusa.com/wp-content/uploads/2023/07/Safety-Auto-Disable-Syringe.jpg\n",
      "2025-02-05 15:37:16,201 - INFO - downloader - downloaded images reach max num, thread downloader-001 is ready to exit\n",
      "2025-02-05 15:37:16,203 - INFO - downloader - thread downloader-001 exit\n",
      "2025-02-05 15:37:17,166 - INFO - icrawler.crawler - Crawling task done!\n",
      "2025-02-05 15:37:17,169 - INFO - icrawler.crawler - start crawling...\n",
      "2025-02-05 15:37:17,170 - INFO - icrawler.crawler - starting 1 feeder threads...\n",
      "2025-02-05 15:37:17,172 - INFO - feeder - thread feeder-001 exit\n",
      "2025-02-05 15:37:17,173 - INFO - icrawler.crawler - starting 1 parser threads...\n",
      "2025-02-05 15:37:17,176 - INFO - icrawler.crawler - starting 1 downloader threads...\n"
     ]
    },
    {
     "name": "stdout",
     "output_type": "stream",
     "text": [
      "Downloaded image for 'Auto-disable Safety Syringes' and saved as 'image/product/auto_disable_syringes.jpg'\n"
     ]
    },
    {
     "name": "stderr",
     "output_type": "stream",
     "text": [
      "2025-02-05 15:37:17,669 - INFO - parser - downloaded image reached max num, thread parser-001 is ready to exit\n",
      "2025-02-05 15:37:17,671 - INFO - parser - thread parser-001 exit\n",
      "2025-02-05 15:37:18,620 - INFO - parser - parsing result page https://www.bing.com/images/async?q=Needle-Free Safety Syringes&first=0\n",
      "2025-02-05 15:37:21,307 - INFO - downloader - image #1\thttps://www.medismed.com/wp-content/uploads/2017/07/Needle-Retractable-safety-syringes.jpg\n",
      "2025-02-05 15:37:23,201 - INFO - downloader - downloaded images reach max num, thread downloader-001 is ready to exit\n",
      "2025-02-05 15:37:23,203 - INFO - downloader - thread downloader-001 exit\n",
      "2025-02-05 15:37:23,311 - INFO - parser - downloaded image reached max num, thread parser-001 is ready to exit\n",
      "2025-02-05 15:37:23,312 - INFO - parser - thread parser-001 exit\n",
      "2025-02-05 15:37:24,181 - INFO - icrawler.crawler - Crawling task done!\n",
      "2025-02-05 15:37:24,186 - INFO - icrawler.crawler - start crawling...\n",
      "2025-02-05 15:37:24,189 - INFO - icrawler.crawler - starting 1 feeder threads...\n",
      "2025-02-05 15:37:24,192 - INFO - feeder - thread feeder-001 exit\n",
      "2025-02-05 15:37:24,193 - INFO - icrawler.crawler - starting 1 parser threads...\n",
      "2025-02-05 15:37:24,201 - INFO - icrawler.crawler - starting 1 downloader threads...\n"
     ]
    },
    {
     "name": "stdout",
     "output_type": "stream",
     "text": [
      "Downloaded image for 'Needle-Free Safety Syringes' and saved as 'image/product/needle_free_syringes.jpg'\n"
     ]
    },
    {
     "name": "stderr",
     "output_type": "stream",
     "text": [
      "2025-02-05 15:37:25,412 - INFO - parser - parsing result page https://www.bing.com/images/async?q=Luer Lock Syringes 5ml&first=0\n",
      "2025-02-05 15:37:27,245 - INFO - downloader - image #1\thttps://www.hallidayhealthcare.com/image.php?filename=syr02.jpg\n",
      "2025-02-05 15:37:29,601 - INFO - downloader - downloaded images reach max num, thread downloader-001 is ready to exit\n",
      "2025-02-05 15:37:29,602 - INFO - downloader - thread downloader-001 exit\n",
      "2025-02-05 15:37:30,211 - INFO - icrawler.crawler - Crawling task done!\n",
      "2025-02-05 15:37:30,213 - INFO - icrawler.crawler - start crawling...\n",
      "2025-02-05 15:37:30,215 - INFO - icrawler.crawler - starting 1 feeder threads...\n",
      "2025-02-05 15:37:30,216 - INFO - feeder - thread feeder-001 exit\n",
      "2025-02-05 15:37:30,217 - INFO - icrawler.crawler - starting 1 parser threads...\n",
      "2025-02-05 15:37:30,220 - INFO - icrawler.crawler - starting 1 downloader threads...\n"
     ]
    },
    {
     "name": "stdout",
     "output_type": "stream",
     "text": [
      "Downloaded image for 'Luer Lock Syringes 5ml' and saved as 'image/product/luer_lock_5ml.jpg'\n"
     ]
    },
    {
     "name": "stderr",
     "output_type": "stream",
     "text": [
      "2025-02-05 15:37:30,470 - INFO - parser - downloaded image reached max num, thread parser-001 is ready to exit\n",
      "2025-02-05 15:37:30,472 - INFO - parser - thread parser-001 exit\n",
      "2025-02-05 15:37:31,473 - INFO - parser - parsing result page https://www.bing.com/images/async?q=Luer Lock Syringes 10ml&first=0\n",
      "2025-02-05 15:37:33,523 - INFO - downloader - image #1\thttps://cdn.shopify.com/s/files/1/0079/5377/6692/products/10ml_luer_lock_syringe_sterile_medical_plastic_disposable_1200x865.jpg\n",
      "2025-02-05 15:37:36,942 - INFO - downloader - downloaded images reach max num, thread downloader-001 is ready to exit\n",
      "2025-02-05 15:37:36,943 - INFO - downloader - thread downloader-001 exit\n",
      "2025-02-05 15:37:37,225 - INFO - icrawler.crawler - Crawling task done!\n",
      "2025-02-05 15:37:37,228 - INFO - icrawler.crawler - start crawling...\n",
      "2025-02-05 15:37:37,229 - INFO - icrawler.crawler - starting 1 feeder threads...\n",
      "2025-02-05 15:37:37,230 - INFO - feeder - thread feeder-001 exit\n",
      "2025-02-05 15:37:37,231 - INFO - icrawler.crawler - starting 1 parser threads...\n",
      "2025-02-05 15:37:37,235 - INFO - icrawler.crawler - starting 1 downloader threads...\n"
     ]
    },
    {
     "name": "stdout",
     "output_type": "stream",
     "text": [
      "Downloaded image for 'Luer Lock Syringes 10ml' and saved as 'image/product/luer_lock_10ml.jpg'\n"
     ]
    },
    {
     "name": "stderr",
     "output_type": "stream",
     "text": [
      "2025-02-05 15:37:37,528 - INFO - parser - downloaded image reached max num, thread parser-001 is ready to exit\n",
      "2025-02-05 15:37:37,529 - INFO - parser - thread parser-001 exit\n",
      "2025-02-05 15:37:38,460 - INFO - parser - parsing result page https://www.bing.com/images/async?q=Lightweight Foldable Wheelchair&first=0\n",
      "2025-02-05 15:37:39,471 - INFO - downloader - image #1\thttps://m.media-amazon.com/images/I/61Dr-FyPEtL._AC_SL1500_.jpg\n",
      "2025-02-05 15:37:40,570 - INFO - downloader - downloaded images reach max num, thread downloader-001 is ready to exit\n",
      "2025-02-05 15:37:40,571 - INFO - downloader - thread downloader-001 exit\n",
      "2025-02-05 15:37:41,241 - INFO - icrawler.crawler - Crawling task done!\n",
      "2025-02-05 15:37:41,243 - INFO - icrawler.crawler - start crawling...\n",
      "2025-02-05 15:37:41,244 - INFO - icrawler.crawler - starting 1 feeder threads...\n",
      "2025-02-05 15:37:41,246 - INFO - feeder - thread feeder-001 exit\n",
      "2025-02-05 15:37:41,247 - INFO - icrawler.crawler - starting 1 parser threads...\n",
      "2025-02-05 15:37:41,250 - INFO - icrawler.crawler - starting 1 downloader threads...\n"
     ]
    },
    {
     "name": "stdout",
     "output_type": "stream",
     "text": [
      "Downloaded image for 'Lightweight Foldable Wheelchair' and saved as 'image/product/lightweight_foldable_wheelchair.jpg'\n"
     ]
    },
    {
     "name": "stderr",
     "output_type": "stream",
     "text": [
      "2025-02-05 15:37:41,475 - INFO - parser - downloaded image reached max num, thread parser-001 is ready to exit\n",
      "2025-02-05 15:37:41,477 - INFO - parser - thread parser-001 exit\n",
      "2025-02-05 15:37:42,309 - INFO - parser - parsing result page https://www.bing.com/images/async?q=Portable Foldable Wheelchair&first=0\n",
      "2025-02-05 15:37:43,221 - INFO - downloader - image #1\thttps://m.media-amazon.com/images/I/7101Kd8htNL._AC_SL1400_.jpg\n",
      "2025-02-05 15:37:43,788 - INFO - downloader - downloaded images reach max num, thread downloader-001 is ready to exit\n",
      "2025-02-05 15:37:43,790 - INFO - downloader - thread downloader-001 exit\n",
      "2025-02-05 15:37:44,254 - INFO - icrawler.crawler - Crawling task done!\n",
      "2025-02-05 15:37:44,258 - INFO - icrawler.crawler - start crawling...\n",
      "2025-02-05 15:37:44,260 - INFO - icrawler.crawler - starting 1 feeder threads...\n",
      "2025-02-05 15:37:44,262 - INFO - feeder - thread feeder-001 exit\n",
      "2025-02-05 15:37:44,263 - INFO - icrawler.crawler - starting 1 parser threads...\n",
      "2025-02-05 15:37:44,268 - INFO - icrawler.crawler - starting 1 downloader threads...\n"
     ]
    },
    {
     "name": "stdout",
     "output_type": "stream",
     "text": [
      "Downloaded image for 'Portable Foldable Wheelchair' and saved as 'image/product/portable_foldable_wheelchair.jpg'\n"
     ]
    },
    {
     "name": "stderr",
     "output_type": "stream",
     "text": [
      "2025-02-05 15:37:45,226 - INFO - parser - downloaded image reached max num, thread parser-001 is ready to exit\n",
      "2025-02-05 15:37:45,227 - INFO - parser - thread parser-001 exit\n",
      "2025-02-05 15:37:45,368 - INFO - parser - parsing result page https://www.bing.com/images/async?q=Battery-Powered Electric Wheelchair&first=0\n",
      "2025-02-05 15:37:46,498 - INFO - downloader - image #1\thttps://cdn.shopify.com/s/files/1/0355/8676/8940/products/powerwheelchair-2_1000x.jpg\n",
      "2025-02-05 15:37:47,919 - INFO - downloader - downloaded images reach max num, thread downloader-001 is ready to exit\n",
      "2025-02-05 15:37:47,923 - INFO - downloader - thread downloader-001 exit\n",
      "2025-02-05 15:37:48,272 - INFO - icrawler.crawler - Crawling task done!\n",
      "2025-02-05 15:37:48,276 - INFO - icrawler.crawler - start crawling...\n",
      "2025-02-05 15:37:48,277 - INFO - icrawler.crawler - starting 1 feeder threads...\n",
      "2025-02-05 15:37:48,279 - INFO - feeder - thread feeder-001 exit\n",
      "2025-02-05 15:37:48,280 - INFO - icrawler.crawler - starting 1 parser threads...\n",
      "2025-02-05 15:37:48,283 - INFO - icrawler.crawler - starting 1 downloader threads...\n",
      "2025-02-05 15:37:48,430 - INFO - parser - downloaded image reached max num, thread parser-001 is ready to exit\n",
      "2025-02-05 15:37:48,432 - INFO - parser - thread parser-001 exit\n"
     ]
    },
    {
     "name": "stdout",
     "output_type": "stream",
     "text": [
      "Downloaded image for 'Battery-Powered Electric Wheelchair' and saved as 'image/product/battery_electric_wheelchair.jpg'\n"
     ]
    },
    {
     "name": "stderr",
     "output_type": "stream",
     "text": [
      "2025-02-05 15:37:49,513 - INFO - parser - parsing result page https://www.bing.com/images/async?q=Rechargeable Electric Wheelchair&first=0\n",
      "2025-02-05 15:37:55,699 - INFO - downloader - image #1\thttp://www.hecobattery.com/photo/ps1490436-10ah_24volt_electric_wheelchair_lithium_battery_in_compact_size_long_cycle_life.jpg\n",
      "2025-02-05 15:37:56,609 - INFO - downloader - downloaded images reach max num, thread downloader-001 is ready to exit\n",
      "2025-02-05 15:37:56,611 - INFO - downloader - thread downloader-001 exit\n",
      "2025-02-05 15:37:57,289 - INFO - icrawler.crawler - Crawling task done!\n",
      "2025-02-05 15:37:57,293 - INFO - icrawler.crawler - start crawling...\n",
      "2025-02-05 15:37:57,294 - INFO - icrawler.crawler - starting 1 feeder threads...\n",
      "2025-02-05 15:37:57,296 - INFO - feeder - thread feeder-001 exit\n",
      "2025-02-05 15:37:57,296 - INFO - icrawler.crawler - starting 1 parser threads...\n",
      "2025-02-05 15:37:57,299 - INFO - icrawler.crawler - starting 1 downloader threads...\n"
     ]
    },
    {
     "name": "stdout",
     "output_type": "stream",
     "text": [
      "Downloaded image for 'Rechargeable Electric Wheelchair' and saved as 'image/product/rechargeable_electric_wheelchair.jpg'\n"
     ]
    },
    {
     "name": "stderr",
     "output_type": "stream",
     "text": [
      "2025-02-05 15:37:57,704 - INFO - parser - downloaded image reached max num, thread parser-001 is ready to exit\n",
      "2025-02-05 15:37:57,706 - INFO - parser - thread parser-001 exit\n",
      "2025-02-05 15:37:58,330 - INFO - parser - parsing result page https://www.bing.com/images/async?q=Standard Manual Wheelchair&first=0\n",
      "2025-02-05 15:37:59,726 - INFO - downloader - image #1\thttps://cdn.shopify.com/s/files/1/1749/7193/products/Invacare-Standard-Wheelchair---Black_39846b2f-bd70-442a-a8f6-fc561a1deabd_1000x_crop_center.jpg\n",
      "2025-02-05 15:38:02,693 - INFO - downloader - downloaded images reach max num, thread downloader-001 is ready to exit\n",
      "2025-02-05 15:38:02,695 - INFO - downloader - thread downloader-001 exit\n",
      "2025-02-05 15:38:03,306 - INFO - icrawler.crawler - Crawling task done!\n",
      "2025-02-05 15:38:03,309 - INFO - icrawler.crawler - start crawling...\n",
      "2025-02-05 15:38:03,311 - INFO - icrawler.crawler - starting 1 feeder threads...\n",
      "2025-02-05 15:38:03,313 - INFO - feeder - thread feeder-001 exit\n",
      "2025-02-05 15:38:03,314 - INFO - icrawler.crawler - starting 1 parser threads...\n",
      "2025-02-05 15:38:03,316 - INFO - icrawler.crawler - starting 1 downloader threads...\n",
      "2025-02-05 15:38:03,370 - INFO - parser - downloaded image reached max num, thread parser-001 is ready to exit\n",
      "2025-02-05 15:38:03,371 - INFO - parser - thread parser-001 exit\n"
     ]
    },
    {
     "name": "stdout",
     "output_type": "stream",
     "text": [
      "Downloaded image for 'Standard Manual Wheelchair' and saved as 'image/product/standard_manual_wheelchair.jpg'\n"
     ]
    },
    {
     "name": "stderr",
     "output_type": "stream",
     "text": [
      "2025-02-05 15:38:05,209 - INFO - parser - parsing result page https://www.bing.com/images/async?q=Lightweight Manual Wheelchair&first=0\n",
      "2025-02-05 15:38:06,637 - INFO - downloader - image #1\thttps://cdn.shopify.com/s/files/1/0488/5685/8776/products/ProgeoEgolightweightwheelchairfoldingbymaxwheelchairsbluewhite_580x@2x.jpg\n",
      "2025-02-05 15:38:08,037 - INFO - downloader - downloaded images reach max num, thread downloader-001 is ready to exit\n",
      "2025-02-05 15:38:08,039 - INFO - downloader - thread downloader-001 exit\n",
      "2025-02-05 15:38:08,322 - INFO - icrawler.crawler - Crawling task done!\n",
      "2025-02-05 15:38:08,326 - INFO - icrawler.crawler - start crawling...\n",
      "2025-02-05 15:38:08,328 - INFO - icrawler.crawler - starting 1 feeder threads...\n",
      "2025-02-05 15:38:08,331 - INFO - feeder - thread feeder-001 exit\n",
      "2025-02-05 15:38:08,332 - INFO - icrawler.crawler - starting 1 parser threads...\n",
      "2025-02-05 15:38:08,335 - INFO - icrawler.crawler - starting 1 downloader threads...\n"
     ]
    },
    {
     "name": "stdout",
     "output_type": "stream",
     "text": [
      "Downloaded image for 'Lightweight Manual Wheelchair' and saved as 'image/product/lightweight_manual_wheelchair.jpg'\n"
     ]
    },
    {
     "name": "stderr",
     "output_type": "stream",
     "text": [
      "2025-02-05 15:38:09,251 - INFO - parser - downloaded image reached max num, thread parser-001 is ready to exit\n",
      "2025-02-05 15:38:09,252 - INFO - parser - thread parser-001 exit\n",
      "2025-02-05 15:38:09,492 - INFO - parser - parsing result page https://www.bing.com/images/async?q=Reclining Comfort Wheelchair&first=0\n",
      "2025-02-05 15:38:12,302 - INFO - downloader - image #1\thttps://www.wheelchairs-ontherun.co.za/image/cache/catalog/Wheelchairsontherun/invacare-action-3-ng-comfort-wheelchair-lightweight-500x500.jpg\n",
      "2025-02-05 15:38:13,547 - INFO - downloader - downloaded images reach max num, thread downloader-001 is ready to exit\n",
      "2025-02-05 15:38:13,548 - INFO - downloader - thread downloader-001 exit\n",
      "2025-02-05 15:38:14,305 - INFO - parser - downloaded image reached max num, thread parser-001 is ready to exit\n",
      "2025-02-05 15:38:14,308 - INFO - parser - thread parser-001 exit\n",
      "2025-02-05 15:38:14,341 - INFO - icrawler.crawler - Crawling task done!\n",
      "2025-02-05 15:38:14,347 - INFO - icrawler.crawler - start crawling...\n",
      "2025-02-05 15:38:14,348 - INFO - icrawler.crawler - starting 1 feeder threads...\n",
      "2025-02-05 15:38:14,350 - INFO - feeder - thread feeder-001 exit\n",
      "2025-02-05 15:38:14,351 - INFO - icrawler.crawler - starting 1 parser threads...\n",
      "2025-02-05 15:38:14,357 - INFO - icrawler.crawler - starting 1 downloader threads...\n"
     ]
    },
    {
     "name": "stdout",
     "output_type": "stream",
     "text": [
      "Downloaded image for 'Reclining Comfort Wheelchair' and saved as 'image/product/reclining_comfort_wheelchair.jpg'\n"
     ]
    },
    {
     "name": "stderr",
     "output_type": "stream",
     "text": [
      "2025-02-05 15:38:15,386 - INFO - parser - parsing result page https://www.bing.com/images/async?q=Luxury Reclining Wheelchair&first=0\n",
      "2025-02-05 15:38:16,595 - INFO - downloader - image #1\thttps://image.made-in-china.com/2f0j00UzQbyHGggCkJ/Reclining-Manual-Wheelchair-Luxury-Medline-Reclining-Wheelchair.jpg\n",
      "2025-02-05 15:38:18,011 - INFO - downloader - downloaded images reach max num, thread downloader-001 is ready to exit\n",
      "2025-02-05 15:38:18,013 - INFO - downloader - thread downloader-001 exit\n",
      "2025-02-05 15:38:18,364 - INFO - icrawler.crawler - Crawling task done!\n",
      "2025-02-05 15:38:18,367 - INFO - icrawler.crawler - start crawling...\n",
      "2025-02-05 15:38:18,368 - INFO - icrawler.crawler - starting 1 feeder threads...\n",
      "2025-02-05 15:38:18,370 - INFO - feeder - thread feeder-001 exit\n",
      "2025-02-05 15:38:18,371 - INFO - icrawler.crawler - starting 1 parser threads...\n",
      "2025-02-05 15:38:18,376 - INFO - icrawler.crawler - starting 1 downloader threads...\n",
      "2025-02-05 15:38:18,442 - INFO - parser - downloaded image reached max num, thread parser-001 is ready to exit\n",
      "2025-02-05 15:38:18,444 - INFO - parser - thread parser-001 exit\n"
     ]
    },
    {
     "name": "stdout",
     "output_type": "stream",
     "text": [
      "Downloaded image for 'Luxury Reclining Wheelchair' and saved as 'image/product/luxury_reclining_wheelchair.jpg'\n"
     ]
    },
    {
     "name": "stderr",
     "output_type": "stream",
     "text": [
      "2025-02-05 15:38:19,813 - INFO - parser - parsing result page https://www.bing.com/images/async?q=Hardcover Medical Research Notebook&first=0\n",
      "2025-02-05 15:38:20,798 - ERROR - downloader - Response status code 418, file https://snco.com/wp-content/uploads/2019/12/13-1-scaled-2048x2048.jpg\n",
      "2025-02-05 15:38:21,063 - ERROR - downloader - Response status code 418, file https://snco.com/wp-content/uploads/2019/12/02-scaled.jpg\n",
      "2025-02-05 15:38:21,377 - ERROR - downloader - Response status code 418, file https://snco.com/wp-content/uploads/2019/12/11-1-scaled-1536x1536.jpg\n",
      "2025-02-05 15:38:21,701 - ERROR - downloader - Response status code 418, file https://snco.com/wp-content/uploads/2019/12/01-2.jpg\n",
      "2025-02-05 15:38:22,024 - ERROR - downloader - Response status code 418, file https://snco.com/wp-content/uploads/2019/12/26-1536x1536.jpg\n",
      "2025-02-05 15:38:22,354 - ERROR - downloader - Response status code 418, file https://snco.com/wp-content/uploads/2019/12/black3.jpg\n",
      "2025-02-05 15:38:22,608 - ERROR - downloader - Response status code 418, file https://snco.com/wp-content/uploads/2019/12/21-2048x2048.jpg\n",
      "2025-02-05 15:38:22,808 - ERROR - downloader - Response status code 418, file https://snco.com/wp-content/uploads/2019/12/04-1-scaled.jpg\n",
      "2025-02-05 15:38:24,165 - INFO - downloader - image #1\thttp://content.etilize.com/images/900/11971116.jpg\n",
      "2025-02-05 15:38:24,405 - INFO - downloader - downloaded images reach max num, thread downloader-001 is ready to exit\n",
      "2025-02-05 15:38:24,407 - INFO - downloader - thread downloader-001 exit\n",
      "2025-02-05 15:38:24,811 - INFO - parser - downloaded image reached max num, thread parser-001 is ready to exit\n",
      "2025-02-05 15:38:24,813 - INFO - parser - thread parser-001 exit\n",
      "2025-02-05 15:38:25,382 - INFO - icrawler.crawler - Crawling task done!\n",
      "2025-02-05 15:38:25,388 - INFO - icrawler.crawler - start crawling...\n",
      "2025-02-05 15:38:25,389 - INFO - icrawler.crawler - starting 1 feeder threads...\n",
      "2025-02-05 15:38:25,391 - INFO - feeder - thread feeder-001 exit\n",
      "2025-02-05 15:38:25,392 - INFO - icrawler.crawler - starting 1 parser threads...\n",
      "2025-02-05 15:38:25,397 - INFO - icrawler.crawler - starting 1 downloader threads...\n"
     ]
    },
    {
     "name": "stdout",
     "output_type": "stream",
     "text": [
      "Downloaded image for 'Hardcover Medical Research Notebook' and saved as 'image/product/hardcover_medical_notebook.jpg'\n"
     ]
    },
    {
     "name": "stderr",
     "output_type": "stream",
     "text": [
      "2025-02-05 15:38:26,386 - INFO - parser - parsing result page https://www.bing.com/images/async?q=A5 Medical Journal&first=0\n",
      "2025-02-05 15:38:28,675 - INFO - downloader - image #1\thttps://i.etsystatic.com/24030046/r/il/090e37/2490713736/il_fullxfull.2490713736_8w4b.jpg\n",
      "2025-02-05 15:38:29,300 - INFO - downloader - downloaded images reach max num, thread downloader-001 is ready to exit\n",
      "2025-02-05 15:38:29,302 - INFO - downloader - thread downloader-001 exit\n",
      "2025-02-05 15:38:29,400 - INFO - icrawler.crawler - Crawling task done!\n",
      "2025-02-05 15:38:29,403 - INFO - icrawler.crawler - start crawling...\n",
      "2025-02-05 15:38:29,404 - INFO - icrawler.crawler - starting 1 feeder threads...\n",
      "2025-02-05 15:38:29,406 - INFO - feeder - thread feeder-001 exit\n",
      "2025-02-05 15:38:29,406 - INFO - icrawler.crawler - starting 1 parser threads...\n",
      "2025-02-05 15:38:29,411 - INFO - icrawler.crawler - starting 1 downloader threads...\n"
     ]
    },
    {
     "name": "stdout",
     "output_type": "stream",
     "text": [
      "Downloaded image for 'A5 Medical Journal' and saved as 'image/product/a5_medical_journal.jpg'\n"
     ]
    },
    {
     "name": "stderr",
     "output_type": "stream",
     "text": [
      "2025-02-05 15:38:29,680 - INFO - parser - downloaded image reached max num, thread parser-001 is ready to exit\n",
      "2025-02-05 15:38:29,683 - INFO - parser - thread parser-001 exit\n",
      "2025-02-05 15:38:30,252 - INFO - parser - parsing result page https://www.bing.com/images/async?q=Pocket Medical Notebook&first=0\n",
      "2025-02-05 15:38:31,946 - INFO - downloader - image #1\thttps://d1mhq73dsagkr8.cloudfront.net/media/product/0/5/1678246639_05.jpg\n",
      "2025-02-05 15:38:36,355 - INFO - downloader - downloaded images reach max num, thread downloader-001 is ready to exit\n",
      "2025-02-05 15:38:36,357 - INFO - downloader - thread downloader-001 exit\n",
      "2025-02-05 15:38:36,416 - INFO - icrawler.crawler - Crawling task done!\n",
      "2025-02-05 15:38:36,419 - INFO - icrawler.crawler - start crawling...\n",
      "2025-02-05 15:38:36,421 - INFO - icrawler.crawler - starting 1 feeder threads...\n",
      "2025-02-05 15:38:36,423 - INFO - feeder - thread feeder-001 exit\n",
      "2025-02-05 15:38:36,424 - INFO - icrawler.crawler - starting 1 parser threads...\n",
      "2025-02-05 15:38:36,430 - INFO - icrawler.crawler - starting 1 downloader threads...\n"
     ]
    },
    {
     "name": "stdout",
     "output_type": "stream",
     "text": [
      "Downloaded image for 'Pocket Medical Notebook' and saved as 'image/product/pocket_medical_notebook.jpg'\n"
     ]
    },
    {
     "name": "stderr",
     "output_type": "stream",
     "text": [
      "2025-02-05 15:38:37,310 - INFO - parser - downloaded image reached max num, thread parser-001 is ready to exit\n",
      "2025-02-05 15:38:37,312 - INFO - parser - thread parser-001 exit\n",
      "2025-02-05 15:38:37,876 - INFO - parser - parsing result page https://www.bing.com/images/async?q=Compact Pocket Notebook&first=0\n",
      "2025-02-05 15:38:41,227 - INFO - downloader - image #1\thttps://cdn0.woolworths.media/content/wowproductimages/large/935602.jpg\n",
      "2025-02-05 15:38:43,160 - INFO - downloader - downloaded images reach max num, thread downloader-001 is ready to exit\n",
      "2025-02-05 15:38:43,162 - INFO - downloader - thread downloader-001 exit\n",
      "2025-02-05 15:38:43,433 - INFO - icrawler.crawler - Crawling task done!\n",
      "2025-02-05 15:38:43,437 - INFO - icrawler.crawler - start crawling...\n",
      "2025-02-05 15:38:43,439 - INFO - icrawler.crawler - starting 1 feeder threads...\n",
      "2025-02-05 15:38:43,442 - INFO - feeder - thread feeder-001 exit\n",
      "2025-02-05 15:38:43,443 - INFO - icrawler.crawler - starting 1 parser threads...\n",
      "2025-02-05 15:38:43,447 - INFO - icrawler.crawler - starting 1 downloader threads...\n"
     ]
    },
    {
     "name": "stdout",
     "output_type": "stream",
     "text": [
      "Downloaded image for 'Compact Pocket Notebook' and saved as 'image/product/compact_pocket_notebook.jpg'\n"
     ]
    },
    {
     "name": "stderr",
     "output_type": "stream",
     "text": [
      "2025-02-05 15:38:43,949 - INFO - parser - downloaded image reached max num, thread parser-001 is ready to exit\n",
      "2025-02-05 15:38:43,951 - INFO - parser - thread parser-001 exit\n",
      "2025-02-05 15:38:44,576 - INFO - parser - parsing result page https://www.bing.com/images/async?q=Adjustable Dumbbell Set (2-24 kg)&first=0\n",
      "2025-02-05 15:38:45,467 - INFO - downloader - image #1\thttp://ecx.images-amazon.com/images/I/817Sl-L8vXS._SL1500_.jpg\n",
      "2025-02-05 15:38:48,393 - INFO - downloader - downloaded images reach max num, thread downloader-001 is ready to exit\n",
      "2025-02-05 15:38:48,394 - INFO - downloader - thread downloader-001 exit\n",
      "2025-02-05 15:38:48,459 - INFO - icrawler.crawler - Crawling task done!\n",
      "2025-02-05 15:38:48,463 - INFO - icrawler.crawler - start crawling...\n",
      "2025-02-05 15:38:48,464 - INFO - icrawler.crawler - starting 1 feeder threads...\n",
      "2025-02-05 15:38:48,466 - INFO - feeder - thread feeder-001 exit\n",
      "2025-02-05 15:38:48,467 - INFO - icrawler.crawler - starting 1 parser threads...\n",
      "2025-02-05 15:38:48,471 - INFO - icrawler.crawler - starting 1 downloader threads...\n",
      "2025-02-05 15:38:48,473 - INFO - parser - downloaded image reached max num, thread parser-001 is ready to exit\n",
      "2025-02-05 15:38:48,476 - INFO - parser - thread parser-001 exit\n"
     ]
    },
    {
     "name": "stdout",
     "output_type": "stream",
     "text": [
      "Downloaded image for 'Adjustable Dumbbell Set (2-24 kg)' and saved as 'image/product/adjustable_dumbbell_set.jpg'\n"
     ]
    },
    {
     "name": "stderr",
     "output_type": "stream",
     "text": [
      "2025-02-05 15:38:49,677 - INFO - parser - parsing result page https://www.bing.com/images/async?q=Heavy Duty Adjustable Dumbbell&first=0\n",
      "2025-02-05 15:38:50,534 - INFO - downloader - image #1\thttps://i.pinimg.com/originals/ba/fd/d8/bafdd8af2705163e5ca2478e7198830b.jpg\n",
      "2025-02-05 15:38:51,233 - INFO - downloader - downloaded images reach max num, thread downloader-001 is ready to exit\n",
      "2025-02-05 15:38:51,234 - INFO - downloader - thread downloader-001 exit\n",
      "2025-02-05 15:38:51,476 - INFO - icrawler.crawler - Crawling task done!\n",
      "2025-02-05 15:38:51,478 - INFO - icrawler.crawler - start crawling...\n",
      "2025-02-05 15:38:51,479 - INFO - icrawler.crawler - starting 1 feeder threads...\n",
      "2025-02-05 15:38:51,480 - INFO - feeder - thread feeder-001 exit\n",
      "2025-02-05 15:38:51,480 - INFO - icrawler.crawler - starting 1 parser threads...\n",
      "2025-02-05 15:38:51,483 - INFO - icrawler.crawler - starting 1 downloader threads...\n",
      "2025-02-05 15:38:51,538 - INFO - parser - downloaded image reached max num, thread parser-001 is ready to exit\n",
      "2025-02-05 15:38:51,539 - INFO - parser - thread parser-001 exit\n"
     ]
    },
    {
     "name": "stdout",
     "output_type": "stream",
     "text": [
      "Downloaded image for 'Heavy Duty Adjustable Dumbbell' and saved as 'image/product/heavy_duty_dumbbell.jpg'\n"
     ]
    },
    {
     "name": "stderr",
     "output_type": "stream",
     "text": [
      "2025-02-05 15:38:52,595 - INFO - parser - parsing result page https://www.bing.com/images/async?q=Hex Dumbbell Set&first=0\n",
      "2025-02-05 15:38:54,062 - INFO - downloader - image #1\thttps://www.dontwasteyourmoney.com/wp-content/uploads/2020/09/xmark-premium-550-pound-hex-dumbbell-weight-set-dumbbell-set.jpg\n",
      "2025-02-05 15:38:55,206 - INFO - downloader - downloaded images reach max num, thread downloader-001 is ready to exit\n",
      "2025-02-05 15:38:55,208 - INFO - downloader - thread downloader-001 exit\n",
      "2025-02-05 15:38:55,486 - INFO - icrawler.crawler - Crawling task done!\n",
      "2025-02-05 15:38:55,489 - INFO - icrawler.crawler - start crawling...\n",
      "2025-02-05 15:38:55,490 - INFO - icrawler.crawler - starting 1 feeder threads...\n",
      "2025-02-05 15:38:55,494 - INFO - feeder - thread feeder-001 exit\n",
      "2025-02-05 15:38:55,495 - INFO - icrawler.crawler - starting 1 parser threads...\n",
      "2025-02-05 15:38:55,499 - INFO - icrawler.crawler - starting 1 downloader threads...\n",
      "2025-02-05 15:38:55,651 - INFO - parser - downloaded image reached max num, thread parser-001 is ready to exit\n",
      "2025-02-05 15:38:55,652 - INFO - parser - thread parser-001 exit\n"
     ]
    },
    {
     "name": "stdout",
     "output_type": "stream",
     "text": [
      "Downloaded image for 'Hex Dumbbell Set' and saved as 'image/product/hex_dumbbell_set.jpg'\n"
     ]
    },
    {
     "name": "stderr",
     "output_type": "stream",
     "text": [
      "2025-02-05 15:38:56,634 - INFO - parser - parsing result page https://www.bing.com/images/async?q=Single Hex Dumbbell&first=0\n",
      "2025-02-05 15:38:58,588 - INFO - downloader - image #1\thttp://hirakraja.com/417-large_default/rubber-hex-dumbbell-single.jpg\n",
      "2025-02-05 15:39:00,379 - INFO - downloader - downloaded images reach max num, thread downloader-001 is ready to exit\n",
      "2025-02-05 15:39:00,382 - INFO - downloader - thread downloader-001 exit\n",
      "2025-02-05 15:39:00,505 - INFO - icrawler.crawler - Crawling task done!\n",
      "2025-02-05 15:39:00,508 - INFO - icrawler.crawler - start crawling...\n",
      "2025-02-05 15:39:00,509 - INFO - icrawler.crawler - starting 1 feeder threads...\n",
      "2025-02-05 15:39:00,511 - INFO - feeder - thread feeder-001 exit\n",
      "2025-02-05 15:39:00,511 - INFO - icrawler.crawler - starting 1 parser threads...\n",
      "2025-02-05 15:39:00,515 - INFO - icrawler.crawler - starting 1 downloader threads...\n",
      "2025-02-05 15:39:00,700 - INFO - parser - downloaded image reached max num, thread parser-001 is ready to exit\n",
      "2025-02-05 15:39:00,702 - INFO - parser - thread parser-001 exit\n"
     ]
    },
    {
     "name": "stdout",
     "output_type": "stream",
     "text": [
      "Downloaded image for 'Single Hex Dumbbell' and saved as 'image/product/single_hex_dumbbell.jpg'\n"
     ]
    },
    {
     "name": "stderr",
     "output_type": "stream",
     "text": [
      "2025-02-05 15:39:01,555 - INFO - parser - parsing result page https://www.bing.com/images/async?q=Rubber-Coated Dumbbell Pair&first=0\n",
      "2025-02-05 15:39:04,210 - INFO - downloader - image #1\thttps://images.bonanzastatic.com/afu/images/94ee/1724/c8ad_9597264857/__57.jpg\n",
      "2025-02-05 15:39:05,248 - INFO - downloader - downloaded images reach max num, thread downloader-001 is ready to exit\n",
      "2025-02-05 15:39:05,249 - INFO - downloader - thread downloader-001 exit\n",
      "2025-02-05 15:39:05,519 - INFO - icrawler.crawler - Crawling task done!\n",
      "2025-02-05 15:39:05,524 - INFO - icrawler.crawler - start crawling...\n",
      "2025-02-05 15:39:05,526 - INFO - icrawler.crawler - starting 1 feeder threads...\n",
      "2025-02-05 15:39:05,528 - INFO - feeder - thread feeder-001 exit\n",
      "2025-02-05 15:39:05,528 - INFO - icrawler.crawler - starting 1 parser threads...\n",
      "2025-02-05 15:39:05,532 - INFO - icrawler.crawler - starting 1 downloader threads...\n"
     ]
    },
    {
     "name": "stdout",
     "output_type": "stream",
     "text": [
      "Downloaded image for 'Rubber-Coated Dumbbell Pair' and saved as 'image/product/rubber_coated_dumbbell_pair.jpg'\n"
     ]
    },
    {
     "name": "stderr",
     "output_type": "stream",
     "text": [
      "2025-02-05 15:39:06,215 - INFO - parser - downloaded image reached max num, thread parser-001 is ready to exit\n",
      "2025-02-05 15:39:06,217 - INFO - parser - thread parser-001 exit\n",
      "2025-02-05 15:39:06,404 - INFO - parser - parsing result page https://www.bing.com/images/async?q=Set of Rubber-Coated Dumbbells&first=0\n",
      "2025-02-05 15:39:07,616 - INFO - downloader - image #1\thttps://customgymequipment.ie/wp-content/uploads/2019/03/round-rubber-coated-dumbbells.jpg\n",
      "2025-02-05 15:39:09,307 - INFO - downloader - downloaded images reach max num, thread downloader-001 is ready to exit\n",
      "2025-02-05 15:39:09,308 - INFO - downloader - thread downloader-001 exit\n",
      "2025-02-05 15:39:09,535 - INFO - icrawler.crawler - Crawling task done!\n",
      "2025-02-05 15:39:09,539 - INFO - icrawler.crawler - start crawling...\n",
      "2025-02-05 15:39:09,541 - INFO - icrawler.crawler - starting 1 feeder threads...\n",
      "2025-02-05 15:39:09,543 - INFO - feeder - thread feeder-001 exit\n",
      "2025-02-05 15:39:09,545 - INFO - icrawler.crawler - starting 1 parser threads...\n",
      "2025-02-05 15:39:09,551 - INFO - icrawler.crawler - starting 1 downloader threads...\n"
     ]
    },
    {
     "name": "stdout",
     "output_type": "stream",
     "text": [
      "Downloaded image for 'Set of Rubber-Coated Dumbbells' and saved as 'image/product/rubber_coated_dumbbell_set.jpg'\n"
     ]
    },
    {
     "name": "stderr",
     "output_type": "stream",
     "text": [
      "2025-02-05 15:39:10,439 - INFO - parser - downloaded image reached max num, thread parser-001 is ready to exit\n",
      "2025-02-05 15:39:10,441 - INFO - parser - thread parser-001 exit\n",
      "2025-02-05 15:39:10,727 - INFO - parser - parsing result page https://www.bing.com/images/async?q=Vinyl Dumbbell Pair&first=0\n",
      "2025-02-05 15:39:11,692 - ERROR - downloader - Response status code 403, file https://westcoastfitness.ie/wp-content/uploads/2019/08/bodymax_6kgvinyldumbbell.jpg\n",
      "2025-02-05 15:39:12,719 - ERROR - downloader - Response status code 404, file https://www.sportsdirect.com/images/imgzoom/84/84468903_xxl.jpg\n",
      "2025-02-05 15:39:13,331 - ERROR - downloader - Response status code 404, file https://www.sportsdirect.com/images/imgzoom/84/84468903_xxl_a11.jpg\n",
      "2025-02-05 15:39:14,510 - INFO - downloader - image #1\thttps://www.prosportskw.com/cdn/shop/files/3-vinyl-dumbbells_jpeg.jpg\n",
      "2025-02-05 15:39:15,027 - INFO - downloader - downloaded images reach max num, thread downloader-001 is ready to exit\n",
      "2025-02-05 15:39:15,028 - INFO - downloader - thread downloader-001 exit\n",
      "2025-02-05 15:39:15,559 - INFO - icrawler.crawler - Crawling task done!\n",
      "2025-02-05 15:39:15,564 - INFO - icrawler.crawler - start crawling...\n",
      "2025-02-05 15:39:15,568 - INFO - icrawler.crawler - starting 1 feeder threads...\n",
      "2025-02-05 15:39:15,573 - INFO - feeder - thread feeder-001 exit\n",
      "2025-02-05 15:39:15,574 - INFO - icrawler.crawler - starting 1 parser threads...\n",
      "2025-02-05 15:39:15,586 - INFO - icrawler.crawler - starting 1 downloader threads...\n"
     ]
    },
    {
     "name": "stdout",
     "output_type": "stream",
     "text": [
      "Downloaded image for 'Vinyl Dumbbell Pair' and saved as 'image/product/vinyl_dumbbell_pair.jpg'\n"
     ]
    },
    {
     "name": "stderr",
     "output_type": "stream",
     "text": [
      "2025-02-05 15:39:16,518 - INFO - parser - downloaded image reached max num, thread parser-001 is ready to exit\n",
      "2025-02-05 15:39:16,519 - INFO - parser - thread parser-001 exit\n",
      "2025-02-05 15:39:16,894 - INFO - parser - parsing result page https://www.bing.com/images/async?q=Set of Vinyl Dumbbells&first=0\n",
      "2025-02-05 15:39:18,313 - INFO - downloader - image #1\thttps://www.just-rackets.co.uk/images/product/full/960010_VinylHantelset_1-2.jpg\n",
      "2025-02-05 15:39:19,739 - INFO - downloader - downloaded images reach max num, thread downloader-001 is ready to exit\n",
      "2025-02-05 15:39:19,740 - INFO - downloader - thread downloader-001 exit\n",
      "2025-02-05 15:39:20,590 - INFO - icrawler.crawler - Crawling task done!\n",
      "2025-02-05 15:39:20,594 - INFO - icrawler.crawler - start crawling...\n",
      "2025-02-05 15:39:20,596 - INFO - icrawler.crawler - starting 1 feeder threads...\n",
      "2025-02-05 15:39:20,597 - INFO - feeder - thread feeder-001 exit\n",
      "2025-02-05 15:39:20,598 - INFO - icrawler.crawler - starting 1 parser threads...\n",
      "2025-02-05 15:39:20,602 - INFO - icrawler.crawler - starting 1 downloader threads...\n"
     ]
    },
    {
     "name": "stdout",
     "output_type": "stream",
     "text": [
      "Downloaded image for 'Set of Vinyl Dumbbells' and saved as 'image/product/vinyl_dumbbell_set.jpg'\n"
     ]
    },
    {
     "name": "stderr",
     "output_type": "stream",
     "text": [
      "2025-02-05 15:39:20,952 - INFO - parser - downloaded image reached max num, thread parser-001 is ready to exit\n",
      "2025-02-05 15:39:20,954 - INFO - parser - thread parser-001 exit\n",
      "2025-02-05 15:39:22,273 - INFO - parser - parsing result page https://www.bing.com/images/async?q=Non-Contact Infrared Thermometer&first=0\n",
      "2025-02-05 15:39:24,988 - INFO - downloader - image #1\thttps://www.pearsondental.com/catalog/img_ext/z190120_Item_Side_Held.jpg\n",
      "2025-02-05 15:39:27,667 - INFO - downloader - downloaded images reach max num, thread downloader-001 is ready to exit\n",
      "2025-02-05 15:39:27,669 - INFO - downloader - thread downloader-001 exit\n",
      "2025-02-05 15:39:28,608 - INFO - icrawler.crawler - Crawling task done!\n",
      "2025-02-05 15:39:28,611 - INFO - icrawler.crawler - start crawling...\n",
      "2025-02-05 15:39:28,612 - INFO - icrawler.crawler - starting 1 feeder threads...\n",
      "2025-02-05 15:39:28,616 - INFO - feeder - thread feeder-001 exit\n",
      "2025-02-05 15:39:28,616 - INFO - icrawler.crawler - starting 1 parser threads...\n",
      "2025-02-05 15:39:28,620 - INFO - icrawler.crawler - starting 1 downloader threads...\n"
     ]
    },
    {
     "name": "stdout",
     "output_type": "stream",
     "text": [
      "Downloaded image for 'Non-Contact Infrared Thermometer' and saved as 'image/product/non_contact_infrared.jpg'\n"
     ]
    },
    {
     "name": "stderr",
     "output_type": "stream",
     "text": [
      "2025-02-05 15:39:28,994 - INFO - parser - downloaded image reached max num, thread parser-001 is ready to exit\n",
      "2025-02-05 15:39:28,995 - INFO - parser - thread parser-001 exit\n",
      "2025-02-05 15:39:29,859 - INFO - parser - parsing result page https://www.bing.com/images/async?q=Professional Infrared Thermometer&first=0\n",
      "2025-02-05 15:39:32,525 - INFO - downloader - image #1\thttps://hvactools.co.nz/wp-content/uploads/ut305s-professional-infrared-thermometer-2.jpg\n",
      "2025-02-05 15:39:34,635 - INFO - downloader - downloaded images reach max num, thread downloader-001 is ready to exit\n",
      "2025-02-05 15:39:34,636 - INFO - downloader - thread downloader-001 exit\n",
      "2025-02-05 15:39:35,624 - INFO - icrawler.crawler - Crawling task done!\n",
      "2025-02-05 15:39:35,628 - INFO - icrawler.crawler - start crawling...\n",
      "2025-02-05 15:39:35,629 - INFO - icrawler.crawler - starting 1 feeder threads...\n",
      "2025-02-05 15:39:35,632 - INFO - feeder - thread feeder-001 exit\n",
      "2025-02-05 15:39:35,633 - INFO - icrawler.crawler - starting 1 parser threads...\n",
      "2025-02-05 15:39:35,639 - INFO - icrawler.crawler - starting 1 downloader threads...\n"
     ]
    },
    {
     "name": "stdout",
     "output_type": "stream",
     "text": [
      "Downloaded image for 'Professional Infrared Thermometer' and saved as 'image/product/professional_infrared.jpg'\n"
     ]
    },
    {
     "name": "stderr",
     "output_type": "stream",
     "text": [
      "2025-02-05 15:39:36,530 - INFO - parser - downloaded image reached max num, thread parser-001 is ready to exit\n",
      "2025-02-05 15:39:36,532 - INFO - parser - thread parser-001 exit\n",
      "2025-02-05 15:39:37,030 - INFO - parser - parsing result page https://www.bing.com/images/async?q=Digital Oral Thermometer&first=0\n",
      "2025-02-05 15:39:37,913 - INFO - downloader - image #1\thttps://www.dontwasteyourmoney.com/wp-content/uploads/2020/11/boncare-10s-digital-oral-thermometer-dark-blue-digital-thermometer.jpg\n",
      "2025-02-05 15:39:39,028 - INFO - downloader - downloaded images reach max num, thread downloader-001 is ready to exit\n",
      "2025-02-05 15:39:39,029 - INFO - downloader - thread downloader-001 exit\n",
      "2025-02-05 15:39:39,644 - INFO - icrawler.crawler - Crawling task done!\n",
      "2025-02-05 15:39:39,647 - INFO - icrawler.crawler - start crawling...\n",
      "2025-02-05 15:39:39,649 - INFO - icrawler.crawler - starting 1 feeder threads...\n",
      "2025-02-05 15:39:39,651 - INFO - feeder - thread feeder-001 exit\n",
      "2025-02-05 15:39:39,652 - INFO - icrawler.crawler - starting 1 parser threads...\n",
      "2025-02-05 15:39:39,656 - INFO - icrawler.crawler - starting 1 downloader threads...\n"
     ]
    },
    {
     "name": "stdout",
     "output_type": "stream",
     "text": [
      "Downloaded image for 'Digital Oral Thermometer' and saved as 'image/product/digital_oral_thermometer.jpg'\n"
     ]
    },
    {
     "name": "stderr",
     "output_type": "stream",
     "text": [
      "2025-02-05 15:39:39,917 - INFO - parser - downloaded image reached max num, thread parser-001 is ready to exit\n",
      "2025-02-05 15:39:39,919 - INFO - parser - thread parser-001 exit\n",
      "2025-02-05 15:39:41,949 - INFO - parser - parsing result page https://www.bing.com/images/async?q=Digital Ear Thermometer&first=0\n",
      "2025-02-05 15:39:43,794 - INFO - downloader - image #1\thttp://ak1.ostkcdn.com/images/products/5308349/70/795/Veridian-Instant-Digital-Ear-Thermometer-L13117544.jpg\n",
      "2025-02-05 15:39:47,242 - INFO - downloader - downloaded images reach max num, thread downloader-001 is ready to exit\n",
      "2025-02-05 15:39:47,243 - INFO - downloader - thread downloader-001 exit\n",
      "2025-02-05 15:39:47,662 - INFO - icrawler.crawler - Crawling task done!\n",
      "2025-02-05 15:39:47,665 - INFO - icrawler.crawler - start crawling...\n",
      "2025-02-05 15:39:47,666 - INFO - icrawler.crawler - starting 1 feeder threads...\n",
      "2025-02-05 15:39:47,669 - INFO - feeder - thread feeder-001 exit\n",
      "2025-02-05 15:39:47,669 - INFO - icrawler.crawler - starting 1 parser threads...\n",
      "2025-02-05 15:39:47,672 - INFO - icrawler.crawler - starting 1 downloader threads...\n"
     ]
    },
    {
     "name": "stdout",
     "output_type": "stream",
     "text": [
      "Downloaded image for 'Digital Ear Thermometer' and saved as 'image/product/digital_ear_thermometer.jpg'\n"
     ]
    },
    {
     "name": "stderr",
     "output_type": "stream",
     "text": [
      "2025-02-05 15:39:48,009 - INFO - parser - downloaded image reached max num, thread parser-001 is ready to exit\n",
      "2025-02-05 15:39:48,010 - INFO - parser - thread parser-001 exit\n",
      "2025-02-05 15:39:48,867 - INFO - parser - parsing result page https://www.bing.com/images/async?q=Classic Mercury Thermometer&first=0\n",
      "2025-02-05 15:39:49,793 - INFO - downloader - image #1\thttps://images-na.ssl-images-amazon.com/images/I/51TeUshMTML._AC_SL1100_.jpg\n",
      "2025-02-05 15:39:51,651 - INFO - downloader - downloaded images reach max num, thread downloader-001 is ready to exit\n",
      "2025-02-05 15:39:51,653 - INFO - downloader - thread downloader-001 exit\n",
      "2025-02-05 15:39:51,678 - INFO - icrawler.crawler - Crawling task done!\n",
      "2025-02-05 15:39:51,680 - INFO - icrawler.crawler - start crawling...\n",
      "2025-02-05 15:39:51,681 - INFO - icrawler.crawler - starting 1 feeder threads...\n",
      "2025-02-05 15:39:51,684 - INFO - feeder - thread feeder-001 exit\n",
      "2025-02-05 15:39:51,686 - INFO - icrawler.crawler - starting 1 parser threads...\n",
      "2025-02-05 15:39:51,688 - INFO - icrawler.crawler - starting 1 downloader threads...\n",
      "2025-02-05 15:39:51,796 - INFO - parser - downloaded image reached max num, thread parser-001 is ready to exit\n",
      "2025-02-05 15:39:51,799 - INFO - parser - thread parser-001 exit\n"
     ]
    },
    {
     "name": "stdout",
     "output_type": "stream",
     "text": [
      "Downloaded image for 'Classic Mercury Thermometer' and saved as 'image/product/classic_mercury_thermometer.jpg'\n"
     ]
    },
    {
     "name": "stderr",
     "output_type": "stream",
     "text": [
      "2025-02-05 15:39:53,256 - INFO - parser - parsing result page https://www.bing.com/images/async?q=Antique Mercury Thermometer&first=0\n",
      "2025-02-05 15:39:55,323 - INFO - downloader - image #1\thttps://i.etsystatic.com/6645587/r/il/8de539/2647596648/il_fullxfull.2647596648_l89y.jpg\n",
      "2025-02-05 15:39:57,056 - INFO - downloader - downloaded images reach max num, thread downloader-001 is ready to exit\n",
      "2025-02-05 15:39:57,058 - INFO - downloader - thread downloader-001 exit\n",
      "2025-02-05 15:39:57,328 - INFO - parser - downloaded image reached max num, thread parser-001 is ready to exit\n",
      "2025-02-05 15:39:57,330 - INFO - parser - thread parser-001 exit\n",
      "2025-02-05 15:39:57,691 - INFO - icrawler.crawler - Crawling task done!\n",
      "2025-02-05 15:39:57,697 - INFO - icrawler.crawler - start crawling...\n",
      "2025-02-05 15:39:57,698 - INFO - icrawler.crawler - starting 1 feeder threads...\n",
      "2025-02-05 15:39:57,700 - INFO - feeder - thread feeder-001 exit\n",
      "2025-02-05 15:39:57,701 - INFO - icrawler.crawler - starting 1 parser threads...\n",
      "2025-02-05 15:39:57,705 - INFO - icrawler.crawler - starting 1 downloader threads...\n"
     ]
    },
    {
     "name": "stdout",
     "output_type": "stream",
     "text": [
      "Downloaded image for 'Antique Mercury Thermometer' and saved as 'image/product/antique_mercury_thermometer.jpg'\n"
     ]
    },
    {
     "name": "stderr",
     "output_type": "stream",
     "text": [
      "2025-02-05 15:39:59,416 - INFO - parser - parsing result page https://www.bing.com/images/async?q=Clinical Digital Thermometer&first=0\n",
      "2025-02-05 15:40:01,290 - INFO - downloader - image #1\thttps://halomedicals.com/wp-content/uploads/2020/08/Clinical-Thermometer.jpg\n",
      "2025-02-05 15:40:03,793 - INFO - downloader - downloaded images reach max num, thread downloader-001 is ready to exit\n",
      "2025-02-05 15:40:03,794 - INFO - downloader - thread downloader-001 exit\n",
      "2025-02-05 15:40:04,709 - INFO - icrawler.crawler - Crawling task done!\n",
      "2025-02-05 15:40:04,712 - INFO - icrawler.crawler - start crawling...\n",
      "2025-02-05 15:40:04,713 - INFO - icrawler.crawler - starting 1 feeder threads...\n",
      "2025-02-05 15:40:04,715 - INFO - feeder - thread feeder-001 exit\n",
      "2025-02-05 15:40:04,716 - INFO - icrawler.crawler - starting 1 parser threads...\n",
      "2025-02-05 15:40:04,718 - INFO - icrawler.crawler - starting 1 downloader threads...\n"
     ]
    },
    {
     "name": "stdout",
     "output_type": "stream",
     "text": [
      "Downloaded image for 'Clinical Digital Thermometer' and saved as 'image/product/clinical_digital_thermometer.jpg'\n"
     ]
    },
    {
     "name": "stderr",
     "output_type": "stream",
     "text": [
      "2025-02-05 15:40:05,471 - INFO - parser - downloaded image reached max num, thread parser-001 is ready to exit\n",
      "2025-02-05 15:40:05,472 - INFO - parser - thread parser-001 exit\n",
      "2025-02-05 15:40:06,003 - INFO - parser - parsing result page https://www.bing.com/images/async?q=Medical Clinical Thermometer&first=0\n",
      "2025-02-05 15:40:13,342 - INFO - downloader - image #1\thttps://www.godamonline.com/storage/products/2022/August/12/000000_Clinical_Thermometer_With_Digital_Display_wowdokan_1660285181.jpg\n",
      "2025-02-05 15:40:15,392 - INFO - downloader - downloaded images reach max num, thread downloader-001 is ready to exit\n",
      "2025-02-05 15:40:15,393 - INFO - downloader - thread downloader-001 exit\n",
      "2025-02-05 15:40:15,724 - INFO - icrawler.crawler - Crawling task done!\n",
      "2025-02-05 15:40:15,727 - INFO - icrawler.crawler - start crawling...\n",
      "2025-02-05 15:40:15,728 - INFO - icrawler.crawler - starting 1 feeder threads...\n",
      "2025-02-05 15:40:15,729 - INFO - feeder - thread feeder-001 exit\n",
      "2025-02-05 15:40:15,730 - INFO - icrawler.crawler - starting 1 parser threads...\n",
      "2025-02-05 15:40:15,733 - INFO - icrawler.crawler - starting 1 downloader threads...\n"
     ]
    },
    {
     "name": "stdout",
     "output_type": "stream",
     "text": [
      "Downloaded image for 'Medical Clinical Thermometer' and saved as 'image/product/medical_clinical_thermometer.jpg'\n"
     ]
    },
    {
     "name": "stderr",
     "output_type": "stream",
     "text": [
      "2025-02-05 15:40:16,052 - INFO - parser - downloaded image reached max num, thread parser-001 is ready to exit\n",
      "2025-02-05 15:40:16,053 - INFO - parser - thread parser-001 exit\n",
      "2025-02-05 15:40:16,710 - INFO - parser - parsing result page https://www.bing.com/images/async?q=Electronic Digital Stethoscope&first=0\n",
      "2025-02-05 15:40:18,700 - INFO - downloader - image #1\thttps://www.mystethoscope.com/image/cache/catalog/product/5fb1a7a214825_core-1-1100x1100h.jpg\n",
      "2025-02-05 15:40:21,530 - INFO - downloader - downloaded images reach max num, thread downloader-001 is ready to exit\n",
      "2025-02-05 15:40:21,531 - INFO - downloader - thread downloader-001 exit\n",
      "2025-02-05 15:40:21,740 - INFO - icrawler.crawler - Crawling task done!\n",
      "2025-02-05 15:40:21,744 - INFO - icrawler.crawler - start crawling...\n",
      "2025-02-05 15:40:21,745 - INFO - icrawler.crawler - starting 1 feeder threads...\n",
      "2025-02-05 15:40:21,747 - INFO - feeder - thread feeder-001 exit\n",
      "2025-02-05 15:40:21,747 - INFO - icrawler.crawler - starting 1 parser threads...\n",
      "2025-02-05 15:40:21,752 - INFO - icrawler.crawler - starting 1 downloader threads...\n",
      "2025-02-05 15:40:21,771 - INFO - parser - downloaded image reached max num, thread parser-001 is ready to exit\n",
      "2025-02-05 15:40:21,773 - INFO - parser - thread parser-001 exit\n"
     ]
    },
    {
     "name": "stdout",
     "output_type": "stream",
     "text": [
      "Downloaded image for 'Electronic Digital Stethoscope' and saved as 'image/product/electronic_digital_stethoscope.jpg'\n"
     ]
    },
    {
     "name": "stderr",
     "output_type": "stream",
     "text": [
      "2025-02-05 15:40:22,864 - INFO - parser - parsing result page https://www.bing.com/images/async?q=Bluetooth Digital Stethoscope&first=0\n",
      "2025-02-05 15:40:25,633 - INFO - downloader - image #1\thttps://medsupplyna.com/wp-content/uploads/2023/01/New-Electronic-Medical-Bluetooth-Digital-Stethoscope-Wireless-Intelligent-Can-Be-Connected-To-Professional-Doctor-Estetoscopio-3.jpg\n",
      "2025-02-05 15:40:27,183 - INFO - downloader - downloaded images reach max num, thread downloader-001 is ready to exit\n",
      "2025-02-05 15:40:27,185 - INFO - downloader - thread downloader-001 exit\n",
      "2025-02-05 15:40:27,638 - INFO - parser - downloaded image reached max num, thread parser-001 is ready to exit\n",
      "2025-02-05 15:40:27,639 - INFO - parser - thread parser-001 exit\n",
      "2025-02-05 15:40:27,759 - INFO - icrawler.crawler - Crawling task done!\n",
      "2025-02-05 15:40:27,766 - INFO - icrawler.crawler - start crawling...\n",
      "2025-02-05 15:40:27,767 - INFO - icrawler.crawler - starting 1 feeder threads...\n",
      "2025-02-05 15:40:27,769 - INFO - feeder - thread feeder-001 exit\n",
      "2025-02-05 15:40:27,770 - INFO - icrawler.crawler - starting 1 parser threads...\n",
      "2025-02-05 15:40:27,773 - INFO - icrawler.crawler - starting 1 downloader threads...\n"
     ]
    },
    {
     "name": "stdout",
     "output_type": "stream",
     "text": [
      "Downloaded image for 'Bluetooth Digital Stethoscope' and saved as 'image/product/bluetooth_digital_stethoscope.jpg'\n"
     ]
    },
    {
     "name": "stderr",
     "output_type": "stream",
     "text": [
      "2025-02-05 15:40:28,716 - INFO - parser - parsing result page https://www.bing.com/images/async?q=Dual Head Acoustic Stethoscope&first=0\n",
      "2025-02-05 15:40:29,976 - INFO - downloader - image #1\thttps://m.media-amazon.com/images/I/61cxl7vXPpL._AC_.jpg\n",
      "2025-02-05 15:40:30,150 - INFO - downloader - downloaded images reach max num, thread downloader-001 is ready to exit\n",
      "2025-02-05 15:40:30,152 - INFO - downloader - thread downloader-001 exit\n",
      "2025-02-05 15:40:30,771 - INFO - parser - downloaded image reached max num, thread parser-001 is ready to exit\n",
      "2025-02-05 15:40:30,773 - INFO - parser - thread parser-001 exit\n",
      "2025-02-05 15:40:30,777 - INFO - icrawler.crawler - Crawling task done!\n",
      "2025-02-05 15:40:30,780 - INFO - icrawler.crawler - start crawling...\n",
      "2025-02-05 15:40:30,781 - INFO - icrawler.crawler - starting 1 feeder threads...\n",
      "2025-02-05 15:40:30,783 - INFO - feeder - thread feeder-001 exit\n",
      "2025-02-05 15:40:30,784 - INFO - icrawler.crawler - starting 1 parser threads...\n",
      "2025-02-05 15:40:30,788 - INFO - icrawler.crawler - starting 1 downloader threads...\n"
     ]
    },
    {
     "name": "stdout",
     "output_type": "stream",
     "text": [
      "Downloaded image for 'Dual Head Acoustic Stethoscope' and saved as 'image/product/dual_head_acoustic_stethoscope.jpg'\n"
     ]
    },
    {
     "name": "stderr",
     "output_type": "stream",
     "text": [
      "2025-02-05 15:40:32,130 - INFO - parser - parsing result page https://www.bing.com/images/async?q=Dual Head Professional Stethoscope&first=0\n",
      "2025-02-05 15:40:34,858 - INFO - downloader - image #1\thttps://www.carolina.com/images/product/large/691646_w.jpg\n",
      "2025-02-05 15:40:37,927 - INFO - downloader - downloaded images reach max num, thread downloader-001 is ready to exit\n",
      "2025-02-05 15:40:37,928 - INFO - downloader - thread downloader-001 exit\n",
      "2025-02-05 15:40:38,793 - INFO - icrawler.crawler - Crawling task done!\n",
      "2025-02-05 15:40:38,796 - INFO - icrawler.crawler - start crawling...\n",
      "2025-02-05 15:40:38,797 - INFO - icrawler.crawler - starting 1 feeder threads...\n",
      "2025-02-05 15:40:38,798 - INFO - feeder - thread feeder-001 exit\n",
      "2025-02-05 15:40:38,799 - INFO - icrawler.crawler - starting 1 parser threads...\n",
      "2025-02-05 15:40:38,801 - INFO - icrawler.crawler - starting 1 downloader threads...\n",
      "2025-02-05 15:40:38,863 - INFO - parser - downloaded image reached max num, thread parser-001 is ready to exit\n",
      "2025-02-05 15:40:38,865 - INFO - parser - thread parser-001 exit\n"
     ]
    },
    {
     "name": "stdout",
     "output_type": "stream",
     "text": [
      "Downloaded image for 'Dual Head Professional Stethoscope' and saved as 'image/product/dual_head_professional_stethoscope.jpg'\n"
     ]
    },
    {
     "name": "stderr",
     "output_type": "stream",
     "text": [
      "2025-02-05 15:40:40,045 - INFO - parser - parsing result page https://www.bing.com/images/async?q=Ultra Lightweight Stethoscope&first=0\n",
      "2025-02-05 15:40:41,115 - INFO - downloader - image #1\thttps://m.media-amazon.com/images/I/514jsuAp4CL._SL1500_.jpg\n",
      "2025-02-05 15:40:42,014 - INFO - downloader - downloaded images reach max num, thread downloader-001 is ready to exit\n",
      "2025-02-05 15:40:42,015 - INFO - downloader - thread downloader-001 exit\n",
      "2025-02-05 15:40:42,097 - INFO - parser - downloaded image reached max num, thread parser-001 is ready to exit\n",
      "2025-02-05 15:40:42,098 - INFO - parser - thread parser-001 exit\n",
      "2025-02-05 15:40:42,808 - INFO - icrawler.crawler - Crawling task done!\n",
      "2025-02-05 15:40:42,814 - INFO - icrawler.crawler - start crawling...\n",
      "2025-02-05 15:40:42,815 - INFO - icrawler.crawler - starting 1 feeder threads...\n",
      "2025-02-05 15:40:42,817 - INFO - feeder - thread feeder-001 exit\n",
      "2025-02-05 15:40:42,818 - INFO - icrawler.crawler - starting 1 parser threads...\n",
      "2025-02-05 15:40:42,821 - INFO - icrawler.crawler - starting 1 downloader threads...\n"
     ]
    },
    {
     "name": "stdout",
     "output_type": "stream",
     "text": [
      "Downloaded image for 'Ultra Lightweight Stethoscope' and saved as 'image/product/ultra_lightweight_stethoscope.jpg'\n"
     ]
    },
    {
     "name": "stderr",
     "output_type": "stream",
     "text": [
      "2025-02-05 15:40:43,991 - INFO - parser - parsing result page https://www.bing.com/images/async?q=Compact Lightweight Stethoscope&first=0\n",
      "2025-02-05 15:40:45,493 - INFO - downloader - image #1\thttps://cdn.shopify.com/s/files/1/2234/6037/products/00_1024x1024.jpg\n",
      "2025-02-05 15:40:46,666 - INFO - downloader - downloaded images reach max num, thread downloader-001 is ready to exit\n",
      "2025-02-05 15:40:46,667 - INFO - downloader - thread downloader-001 exit\n",
      "2025-02-05 15:40:46,827 - INFO - icrawler.crawler - Crawling task done!\n",
      "2025-02-05 15:40:46,830 - INFO - icrawler.crawler - start crawling...\n",
      "2025-02-05 15:40:46,831 - INFO - icrawler.crawler - starting 1 feeder threads...\n",
      "2025-02-05 15:40:46,832 - INFO - feeder - thread feeder-001 exit\n",
      "2025-02-05 15:40:46,833 - INFO - icrawler.crawler - starting 1 parser threads...\n",
      "2025-02-05 15:40:46,836 - INFO - icrawler.crawler - starting 1 downloader threads...\n",
      "2025-02-05 15:40:47,029 - INFO - parser - downloaded image reached max num, thread parser-001 is ready to exit\n"
     ]
    },
    {
     "name": "stdout",
     "output_type": "stream",
     "text": [
      "Downloaded image for 'Compact Lightweight Stethoscope' and saved as 'image/product/compact_lightweight_stethoscope.jpg'\n"
     ]
    },
    {
     "name": "stderr",
     "output_type": "stream",
     "text": [
      "2025-02-05 15:40:47,031 - INFO - parser - thread parser-001 exit\n",
      "2025-02-05 15:40:47,869 - INFO - parser - parsing result page https://www.bing.com/images/async?q=Pediatric Stethoscope&first=0\n",
      "2025-02-05 15:40:49,468 - INFO - downloader - image #1\thttps://cdn7.bigcommerce.com/s-irr3ntsf5r/images/stencil/1280x1280/products/285/531/604BK__62397.1529089803.jpg\n",
      "2025-02-05 15:40:50,210 - INFO - downloader - downloaded images reach max num, thread downloader-001 is ready to exit\n",
      "2025-02-05 15:40:50,212 - INFO - downloader - thread downloader-001 exit\n",
      "2025-02-05 15:40:50,843 - INFO - icrawler.crawler - Crawling task done!\n",
      "2025-02-05 15:40:50,847 - INFO - icrawler.crawler - start crawling...\n",
      "2025-02-05 15:40:50,848 - INFO - icrawler.crawler - starting 1 feeder threads...\n",
      "2025-02-05 15:40:50,850 - INFO - feeder - thread feeder-001 exit\n",
      "2025-02-05 15:40:50,850 - INFO - icrawler.crawler - starting 1 parser threads...\n",
      "2025-02-05 15:40:50,855 - INFO - icrawler.crawler - starting 1 downloader threads...\n",
      "2025-02-05 15:40:50,924 - INFO - parser - downloaded image reached max num, thread parser-001 is ready to exit\n",
      "2025-02-05 15:40:50,925 - INFO - parser - thread parser-001 exit\n"
     ]
    },
    {
     "name": "stdout",
     "output_type": "stream",
     "text": [
      "Downloaded image for 'Pediatric Stethoscope' and saved as 'image/product/pediatric_stethoscope.jpg'\n"
     ]
    },
    {
     "name": "stderr",
     "output_type": "stream",
     "text": [
      "2025-02-05 15:40:51,746 - INFO - parser - parsing result page https://www.bing.com/images/async?q=Child-Friendly Stethoscope&first=0\n",
      "2025-02-05 15:40:52,875 - INFO - downloader - image #1\thttps://thumbs.dreamstime.com/z/stethoscope-children-4751898.jpg\n",
      "2025-02-05 15:40:55,249 - INFO - downloader - downloaded images reach max num, thread downloader-001 is ready to exit\n",
      "2025-02-05 15:40:55,253 - INFO - downloader - thread downloader-001 exit\n",
      "2025-02-05 15:40:55,798 - INFO - parser - downloaded image reached max num, thread parser-001 is ready to exit\n",
      "2025-02-05 15:40:55,801 - INFO - parser - thread parser-001 exit\n",
      "2025-02-05 15:40:55,861 - INFO - icrawler.crawler - Crawling task done!\n",
      "2025-02-05 15:40:55,867 - INFO - icrawler.crawler - start crawling...\n",
      "2025-02-05 15:40:55,869 - INFO - icrawler.crawler - starting 1 feeder threads...\n",
      "2025-02-05 15:40:55,872 - INFO - feeder - thread feeder-001 exit\n",
      "2025-02-05 15:40:55,872 - INFO - icrawler.crawler - starting 1 parser threads...\n",
      "2025-02-05 15:40:55,876 - INFO - icrawler.crawler - starting 1 downloader threads...\n"
     ]
    },
    {
     "name": "stdout",
     "output_type": "stream",
     "text": [
      "Downloaded image for 'Child-Friendly Stethoscope' and saved as 'image/product/child_friendly_stethoscope.jpg'\n"
     ]
    },
    {
     "name": "stderr",
     "output_type": "stream",
     "text": [
      "2025-02-05 15:40:56,866 - INFO - parser - parsing result page https://www.bing.com/images/async?q=Home Basic First Aid Kit&first=0\n",
      "2025-02-05 15:40:59,612 - INFO - downloader - image #1\thttps://assuredfas.ca/wp-content/uploads/2020/12/afas_basic_first_aid_1024.jpg\n",
      "2025-02-05 15:41:04,017 - INFO - downloader - downloaded images reach max num, thread downloader-001 is ready to exit\n",
      "2025-02-05 15:41:04,018 - INFO - downloader - thread downloader-001 exit\n",
      "2025-02-05 15:41:04,882 - INFO - icrawler.crawler - Crawling task done!\n",
      "2025-02-05 15:41:04,885 - INFO - icrawler.crawler - start crawling...\n",
      "2025-02-05 15:41:04,886 - INFO - icrawler.crawler - starting 1 feeder threads...\n",
      "2025-02-05 15:41:04,889 - INFO - feeder - thread feeder-001 exit\n",
      "2025-02-05 15:41:04,889 - INFO - icrawler.crawler - starting 1 parser threads...\n",
      "2025-02-05 15:41:04,893 - INFO - icrawler.crawler - starting 1 downloader threads...\n"
     ]
    },
    {
     "name": "stdout",
     "output_type": "stream",
     "text": [
      "Downloaded image for 'Home Basic First Aid Kit' and saved as 'image/product/home_basic_first_aid_kit.jpg'\n"
     ]
    },
    {
     "name": "stderr",
     "output_type": "stream",
     "text": [
      "2025-02-05 15:41:05,618 - INFO - parser - downloaded image reached max num, thread parser-001 is ready to exit\n",
      "2025-02-05 15:41:05,620 - INFO - parser - thread parser-001 exit\n",
      "2025-02-05 15:41:06,211 - INFO - parser - parsing result page https://www.bing.com/images/async?q=Travel Basic First Aid Kit&first=0\n",
      "2025-02-05 15:41:07,656 - INFO - downloader - image #1\thttps://www.awortheyread.com/wp-content/uploads/2017/07/Travel-First-Aid-Kit-Checklist-printable-1.jpg\n",
      "2025-02-05 15:41:08,537 - INFO - downloader - downloaded images reach max num, thread downloader-001 is ready to exit\n",
      "2025-02-05 15:41:08,539 - INFO - downloader - thread downloader-001 exit\n",
      "2025-02-05 15:41:08,898 - INFO - icrawler.crawler - Crawling task done!\n",
      "2025-02-05 15:41:08,900 - INFO - icrawler.crawler - start crawling...\n",
      "2025-02-05 15:41:08,901 - INFO - icrawler.crawler - starting 1 feeder threads...\n",
      "2025-02-05 15:41:08,903 - INFO - feeder - thread feeder-001 exit\n",
      "2025-02-05 15:41:08,903 - INFO - icrawler.crawler - starting 1 parser threads...\n",
      "2025-02-05 15:41:08,907 - INFO - icrawler.crawler - starting 1 downloader threads...\n"
     ]
    },
    {
     "name": "stdout",
     "output_type": "stream",
     "text": [
      "Downloaded image for 'Travel Basic First Aid Kit' and saved as 'image/product/travel_basic_first_aid_kit.jpg'\n"
     ]
    },
    {
     "name": "stderr",
     "output_type": "stream",
     "text": [
      "2025-02-05 15:41:09,274 - INFO - parser - downloaded image reached max num, thread parser-001 is ready to exit\n",
      "2025-02-05 15:41:09,276 - INFO - parser - thread parser-001 exit\n",
      "2025-02-05 15:41:10,134 - INFO - parser - parsing result page https://www.bing.com/images/async?q=Advanced Home First Aid Kit&first=0\n",
      "2025-02-05 15:41:12,471 - INFO - downloader - image #1\thttps://images.sportsdirect.com/images/imgzoom/78/78431508_xxl.jpg\n",
      "2025-02-05 15:41:14,076 - INFO - downloader - downloaded images reach max num, thread downloader-001 is ready to exit\n",
      "2025-02-05 15:41:14,078 - INFO - downloader - thread downloader-001 exit\n",
      "2025-02-05 15:41:14,475 - INFO - parser - downloaded image reached max num, thread parser-001 is ready to exit\n",
      "2025-02-05 15:41:14,477 - INFO - parser - thread parser-001 exit\n",
      "2025-02-05 15:41:14,915 - INFO - icrawler.crawler - Crawling task done!\n",
      "2025-02-05 15:41:14,919 - INFO - icrawler.crawler - start crawling...\n",
      "2025-02-05 15:41:14,920 - INFO - icrawler.crawler - starting 1 feeder threads...\n",
      "2025-02-05 15:41:14,922 - INFO - feeder - thread feeder-001 exit\n",
      "2025-02-05 15:41:14,922 - INFO - icrawler.crawler - starting 1 parser threads...\n",
      "2025-02-05 15:41:14,925 - INFO - icrawler.crawler - starting 1 downloader threads...\n"
     ]
    },
    {
     "name": "stdout",
     "output_type": "stream",
     "text": [
      "Downloaded image for 'Advanced Home First Aid Kit' and saved as 'image/product/advanced_home_first_aid_kit.jpg'\n"
     ]
    },
    {
     "name": "stderr",
     "output_type": "stream",
     "text": [
      "2025-02-05 15:41:15,748 - INFO - parser - parsing result page https://www.bing.com/images/async?q=Advanced Travel First Aid Kit&first=0\n",
      "2025-02-05 15:41:16,766 - INFO - downloader - image #1\thttps://www.gapyeartravelstore.com/wp-content/uploads/deluxe-travel-first-aid-kit-600x600.jpg\n",
      "2025-02-05 15:41:17,953 - INFO - downloader - downloaded images reach max num, thread downloader-001 is ready to exit\n",
      "2025-02-05 15:41:17,955 - INFO - downloader - thread downloader-001 exit\n",
      "2025-02-05 15:41:18,771 - INFO - parser - downloaded image reached max num, thread parser-001 is ready to exit\n",
      "2025-02-05 15:41:18,773 - INFO - parser - thread parser-001 exit\n",
      "2025-02-05 15:41:18,929 - INFO - icrawler.crawler - Crawling task done!\n",
      "2025-02-05 15:41:18,933 - INFO - icrawler.crawler - start crawling...\n",
      "2025-02-05 15:41:18,934 - INFO - icrawler.crawler - starting 1 feeder threads...\n",
      "2025-02-05 15:41:18,936 - INFO - feeder - thread feeder-001 exit\n",
      "2025-02-05 15:41:18,936 - INFO - icrawler.crawler - starting 1 parser threads...\n",
      "2025-02-05 15:41:18,939 - INFO - icrawler.crawler - starting 1 downloader threads...\n"
     ]
    },
    {
     "name": "stdout",
     "output_type": "stream",
     "text": [
      "Downloaded image for 'Advanced Travel First Aid Kit' and saved as 'image/product/advanced_travel_first_aid_kit.jpg'\n"
     ]
    },
    {
     "name": "stderr",
     "output_type": "stream",
     "text": [
      "2025-02-05 15:41:20,059 - INFO - parser - parsing result page https://www.bing.com/images/async?q=Compact Travel First Aid Kit&first=0\n",
      "2025-02-05 15:41:21,112 - INFO - downloader - image #1\thttps://m.media-amazon.com/images/I/61ALYKratOL._AC_SL1500_.jpg\n",
      "2025-02-05 15:41:22,367 - INFO - downloader - downloaded images reach max num, thread downloader-001 is ready to exit\n",
      "2025-02-05 15:41:22,368 - INFO - downloader - thread downloader-001 exit\n",
      "2025-02-05 15:41:22,944 - INFO - icrawler.crawler - Crawling task done!\n",
      "2025-02-05 15:41:22,947 - INFO - icrawler.crawler - start crawling...\n",
      "2025-02-05 15:41:22,948 - INFO - icrawler.crawler - starting 1 feeder threads...\n",
      "2025-02-05 15:41:22,950 - INFO - feeder - thread feeder-001 exit\n",
      "2025-02-05 15:41:22,950 - INFO - icrawler.crawler - starting 1 parser threads...\n",
      "2025-02-05 15:41:22,953 - INFO - icrawler.crawler - starting 1 downloader threads...\n",
      "2025-02-05 15:41:23,116 - INFO - parser - downloaded image reached max num, thread parser-001 is ready to exit\n",
      "2025-02-05 15:41:23,117 - INFO - parser - thread parser-001 exit\n"
     ]
    },
    {
     "name": "stdout",
     "output_type": "stream",
     "text": [
      "Downloaded image for 'Compact Travel First Aid Kit' and saved as 'image/product/compact_travel_first_aid_kit.jpg'\n"
     ]
    },
    {
     "name": "stderr",
     "output_type": "stream",
     "text": [
      "2025-02-05 15:41:24,138 - INFO - parser - parsing result page https://www.bing.com/images/async?q=Portable Travel First Aid Kit&first=0\n",
      "2025-02-05 15:41:26,037 - INFO - downloader - image #1\thttps://m.media-amazon.com/images/I/71dI2W+WSpL._AC_SL1080_.jpg\n",
      "2025-02-05 15:41:26,424 - INFO - downloader - downloaded images reach max num, thread downloader-001 is ready to exit\n",
      "2025-02-05 15:41:26,426 - INFO - downloader - thread downloader-001 exit\n",
      "2025-02-05 15:41:26,960 - INFO - icrawler.crawler - Crawling task done!\n",
      "2025-02-05 15:41:26,962 - INFO - icrawler.crawler - start crawling...\n",
      "2025-02-05 15:41:26,963 - INFO - icrawler.crawler - starting 1 feeder threads...\n",
      "2025-02-05 15:41:26,964 - INFO - feeder - thread feeder-001 exit\n",
      "2025-02-05 15:41:26,965 - INFO - icrawler.crawler - starting 1 parser threads...\n",
      "2025-02-05 15:41:26,968 - INFO - icrawler.crawler - starting 1 downloader threads...\n"
     ]
    },
    {
     "name": "stdout",
     "output_type": "stream",
     "text": [
      "Downloaded image for 'Portable Travel First Aid Kit' and saved as 'image/product/portable_travel_first_aid_kit.jpg'\n"
     ]
    },
    {
     "name": "stderr",
     "output_type": "stream",
     "text": [
      "2025-02-05 15:41:27,188 - INFO - parser - downloaded image reached max num, thread parser-001 is ready to exit\n",
      "2025-02-05 15:41:27,190 - INFO - parser - thread parser-001 exit\n",
      "2025-02-05 15:41:27,768 - INFO - parser - parsing result page https://www.bing.com/images/async?q=Industrial Grade First Aid Kit&first=0\n",
      "2025-02-05 15:41:29,422 - INFO - downloader - image #1\thttps://images.homedepot-static.com/productImages/ffd43c10-8a31-487e-a28b-8edd8b54001e/svn/first-aid-only-first-aid-kits-248-o-p-64_1000.jpg\n",
      "2025-02-05 15:41:30,368 - INFO - downloader - downloaded images reach max num, thread downloader-001 is ready to exit\n",
      "2025-02-05 15:41:30,370 - INFO - downloader - thread downloader-001 exit\n",
      "2025-02-05 15:41:30,973 - INFO - icrawler.crawler - Crawling task done!\n",
      "2025-02-05 15:41:30,976 - INFO - icrawler.crawler - start crawling...\n",
      "2025-02-05 15:41:30,978 - INFO - icrawler.crawler - starting 1 feeder threads...\n",
      "2025-02-05 15:41:30,979 - INFO - feeder - thread feeder-001 exit\n",
      "2025-02-05 15:41:30,981 - INFO - icrawler.crawler - starting 1 parser threads...\n",
      "2025-02-05 15:41:30,984 - INFO - icrawler.crawler - starting 1 downloader threads...\n"
     ]
    },
    {
     "name": "stdout",
     "output_type": "stream",
     "text": [
      "Downloaded image for 'Industrial Grade First Aid Kit' and saved as 'image/product/industrial_first_aid_kit.jpg'\n"
     ]
    },
    {
     "name": "stderr",
     "output_type": "stream",
     "text": [
      "2025-02-05 15:41:31,811 - INFO - parser - downloaded image reached max num, thread parser-001 is ready to exit\n",
      "2025-02-05 15:41:31,813 - INFO - parser - thread parser-001 exit\n",
      "2025-02-05 15:41:32,267 - INFO - parser - parsing result page https://www.bing.com/images/async?q=Heavy-Duty Industrial First Aid Kit&first=0\n",
      "2025-02-05 15:41:37,729 - INFO - downloader - image #1\thttps://everythingsafety.com.au/wp-content/uploads/2019/06/FAKCLANAT_2048x2048.jpg\n",
      "2025-02-05 15:41:39,131 - INFO - downloader - downloaded images reach max num, thread downloader-001 is ready to exit\n",
      "2025-02-05 15:41:39,132 - INFO - downloader - thread downloader-001 exit\n",
      "2025-02-05 15:41:39,990 - INFO - icrawler.crawler - Crawling task done!\n",
      "2025-02-05 15:41:39,994 - INFO - icrawler.crawler - start crawling...\n",
      "2025-02-05 15:41:39,995 - INFO - icrawler.crawler - starting 1 feeder threads...\n",
      "2025-02-05 15:41:39,996 - INFO - feeder - thread feeder-001 exit\n",
      "2025-02-05 15:41:39,998 - INFO - icrawler.crawler - starting 1 parser threads...\n",
      "2025-02-05 15:41:40,001 - INFO - icrawler.crawler - starting 1 downloader threads...\n"
     ]
    },
    {
     "name": "stdout",
     "output_type": "stream",
     "text": [
      "Downloaded image for 'Heavy-Duty Industrial First Aid Kit' and saved as 'image/product/heavy_duty_industrial_first_aid_kit.jpg'\n"
     ]
    },
    {
     "name": "stderr",
     "output_type": "stream",
     "text": [
      "2025-02-05 15:41:40,323 - INFO - parser - downloaded image reached max num, thread parser-001 is ready to exit\n",
      "2025-02-05 15:41:40,325 - INFO - parser - thread parser-001 exit\n",
      "2025-02-05 15:41:41,104 - INFO - parser - parsing result page https://www.bing.com/images/async?q=USB Digital Microscope&first=0\n",
      "2025-02-05 15:41:41,948 - INFO - downloader - image #1\thttps://m.media-amazon.com/images/I/61yYBr4qxBL._SL1276_.jpg\n",
      "2025-02-05 15:41:42,990 - INFO - downloader - downloaded images reach max num, thread downloader-001 is ready to exit\n",
      "2025-02-05 15:41:42,992 - INFO - downloader - thread downloader-001 exit\n",
      "2025-02-05 15:41:43,007 - INFO - icrawler.crawler - Crawling task done!\n",
      "2025-02-05 15:41:43,012 - INFO - icrawler.crawler - start crawling...\n",
      "2025-02-05 15:41:43,014 - INFO - icrawler.crawler - starting 1 feeder threads...\n",
      "2025-02-05 15:41:43,016 - INFO - feeder - thread feeder-001 exit\n",
      "2025-02-05 15:41:43,016 - INFO - icrawler.crawler - starting 1 parser threads...\n",
      "2025-02-05 15:41:43,019 - INFO - icrawler.crawler - starting 1 downloader threads...\n"
     ]
    },
    {
     "name": "stdout",
     "output_type": "stream",
     "text": [
      "Downloaded image for 'USB Digital Microscope' and saved as 'image/product/usb_digital_microscope.jpg'\n"
     ]
    },
    {
     "name": "stderr",
     "output_type": "stream",
     "text": [
      "2025-02-05 15:41:43,952 - INFO - parser - downloaded image reached max num, thread parser-001 is ready to exit\n",
      "2025-02-05 15:41:43,953 - INFO - parser - thread parser-001 exit\n",
      "2025-02-05 15:41:44,304 - INFO - parser - parsing result page https://www.bing.com/images/async?q=Portable Digital Microscope&first=0\n",
      "2025-02-05 15:41:45,644 - INFO - downloader - image #1\thttps://www.bhphotovideo.com/images/images2000x2000/Celestron_44310_Micro_2_4_LCD_Handheld_761336.jpg\n",
      "2025-02-05 15:41:46,248 - INFO - downloader - downloaded images reach max num, thread downloader-001 is ready to exit\n",
      "2025-02-05 15:41:46,250 - INFO - downloader - thread downloader-001 exit\n",
      "2025-02-05 15:41:46,365 - INFO - parser - downloaded image reached max num, thread parser-001 is ready to exit\n",
      "2025-02-05 15:41:46,367 - INFO - parser - thread parser-001 exit\n",
      "2025-02-05 15:41:47,025 - INFO - icrawler.crawler - Crawling task done!\n",
      "2025-02-05 15:41:47,032 - INFO - icrawler.crawler - start crawling...\n",
      "2025-02-05 15:41:47,033 - INFO - icrawler.crawler - starting 1 feeder threads...\n",
      "2025-02-05 15:41:47,034 - INFO - feeder - thread feeder-001 exit\n",
      "2025-02-05 15:41:47,035 - INFO - icrawler.crawler - starting 1 parser threads...\n",
      "2025-02-05 15:41:47,038 - INFO - icrawler.crawler - starting 1 downloader threads...\n"
     ]
    },
    {
     "name": "stdout",
     "output_type": "stream",
     "text": [
      "Downloaded image for 'Portable Digital Microscope' and saved as 'image/product/portable_digital_microscope.jpg'\n"
     ]
    },
    {
     "name": "stderr",
     "output_type": "stream",
     "text": [
      "2025-02-05 15:41:48,087 - INFO - parser - parsing result page https://www.bing.com/images/async?q=Advanced Research Microscope&first=0\n",
      "2025-02-05 15:41:49,562 - INFO - downloader - image #1\thttps://www.carolina.com/images/product/large/591075_mic.jpg\n",
      "2025-02-05 15:41:51,337 - INFO - downloader - downloaded images reach max num, thread downloader-001 is ready to exit\n",
      "2025-02-05 15:41:51,338 - INFO - downloader - thread downloader-001 exit\n",
      "2025-02-05 15:41:52,042 - INFO - icrawler.crawler - Crawling task done!\n",
      "2025-02-05 15:41:52,045 - INFO - icrawler.crawler - start crawling...\n",
      "2025-02-05 15:41:52,046 - INFO - icrawler.crawler - starting 1 feeder threads...\n",
      "2025-02-05 15:41:52,047 - INFO - feeder - thread feeder-001 exit\n",
      "2025-02-05 15:41:52,048 - INFO - icrawler.crawler - starting 1 parser threads...\n",
      "2025-02-05 15:41:52,052 - INFO - icrawler.crawler - starting 1 downloader threads...\n",
      "2025-02-05 15:41:52,146 - INFO - parser - downloaded image reached max num, thread parser-001 is ready to exit\n",
      "2025-02-05 15:41:52,148 - INFO - parser - thread parser-001 exit\n"
     ]
    },
    {
     "name": "stdout",
     "output_type": "stream",
     "text": [
      "Downloaded image for 'Advanced Research Microscope' and saved as 'image/product/advanced_research_microscope.jpg'\n"
     ]
    },
    {
     "name": "stderr",
     "output_type": "stream",
     "text": [
      "2025-02-05 15:41:53,044 - INFO - parser - parsing result page https://www.bing.com/images/async?q=Professional Biological Microscope&first=0\n",
      "2025-02-05 15:41:54,596 - INFO - downloader - image #1\thttp://www.digital-usb-microscopes.com/assets/images/Motic/B Series/B3 Clinlab.jpg\n",
      "2025-02-05 15:41:55,773 - INFO - downloader - downloaded images reach max num, thread downloader-001 is ready to exit\n",
      "2025-02-05 15:41:55,775 - INFO - downloader - thread downloader-001 exit\n",
      "2025-02-05 15:41:56,057 - INFO - icrawler.crawler - Crawling task done!\n",
      "2025-02-05 15:41:56,060 - INFO - icrawler.crawler - start crawling...\n",
      "2025-02-05 15:41:56,062 - INFO - icrawler.crawler - starting 1 feeder threads...\n",
      "2025-02-05 15:41:56,063 - INFO - feeder - thread feeder-001 exit\n",
      "2025-02-05 15:41:56,064 - INFO - icrawler.crawler - starting 1 parser threads...\n",
      "2025-02-05 15:41:56,067 - INFO - icrawler.crawler - starting 1 downloader threads...\n",
      "2025-02-05 15:41:56,104 - INFO - parser - downloaded image reached max num, thread parser-001 is ready to exit\n",
      "2025-02-05 15:41:56,105 - INFO - parser - thread parser-001 exit\n"
     ]
    },
    {
     "name": "stdout",
     "output_type": "stream",
     "text": [
      "Downloaded image for 'Professional Biological Microscope' and saved as 'image/product/professional_bio_microscope.jpg'\n"
     ]
    },
    {
     "name": "stderr",
     "output_type": "stream",
     "text": [
      "2025-02-05 15:41:56,916 - INFO - parser - parsing result page https://www.bing.com/images/async?q=Budget USB Microscope&first=0\n",
      "2025-02-05 15:41:57,859 - INFO - downloader - image #1\thttps://www.lidl.es/media/product/0/0/4/6/6/6/4/microscopio-digital-usb-zoom--2.jpg\n",
      "2025-02-05 15:42:00,452 - INFO - downloader - downloaded images reach max num, thread downloader-001 is ready to exit\n",
      "2025-02-05 15:42:00,453 - INFO - downloader - thread downloader-001 exit\n",
      "2025-02-05 15:42:01,072 - INFO - icrawler.crawler - Crawling task done!\n",
      "2025-02-05 15:42:01,076 - INFO - icrawler.crawler - start crawling...\n",
      "2025-02-05 15:42:01,077 - INFO - icrawler.crawler - starting 1 feeder threads...\n",
      "2025-02-05 15:42:01,079 - INFO - feeder - thread feeder-001 exit\n",
      "2025-02-05 15:42:01,079 - INFO - icrawler.crawler - starting 1 parser threads...\n",
      "2025-02-05 15:42:01,082 - INFO - icrawler.crawler - starting 1 downloader threads...\n"
     ]
    },
    {
     "name": "stdout",
     "output_type": "stream",
     "text": [
      "Downloaded image for 'Budget USB Microscope' and saved as 'image/product/budget_usb_microscope.jpg'\n"
     ]
    },
    {
     "name": "stderr",
     "output_type": "stream",
     "text": [
      "2025-02-05 15:42:01,864 - INFO - parser - downloaded image reached max num, thread parser-001 is ready to exit\n",
      "2025-02-05 15:42:01,865 - INFO - parser - thread parser-001 exit\n",
      "2025-02-05 15:42:02,419 - INFO - parser - parsing result page https://www.bing.com/images/async?q=High-Res USB Microscope&first=0\n",
      "2025-02-05 15:42:03,347 - INFO - downloader - image #1\thttps://cdn.shopify.com/s/files/1/0663/7145/products/bodelin_handheld.jpg\n",
      "2025-02-05 15:42:04,548 - INFO - downloader - downloaded images reach max num, thread downloader-001 is ready to exit\n",
      "2025-02-05 15:42:04,549 - INFO - downloader - thread downloader-001 exit\n",
      "2025-02-05 15:42:05,087 - INFO - icrawler.crawler - Crawling task done!\n",
      "2025-02-05 15:42:05,090 - INFO - icrawler.crawler - start crawling...\n",
      "2025-02-05 15:42:05,092 - INFO - icrawler.crawler - starting 1 feeder threads...\n",
      "2025-02-05 15:42:05,093 - INFO - feeder - thread feeder-001 exit\n",
      "2025-02-05 15:42:05,094 - INFO - icrawler.crawler - starting 1 parser threads...\n",
      "2025-02-05 15:42:05,097 - INFO - icrawler.crawler - starting 1 downloader threads...\n"
     ]
    },
    {
     "name": "stdout",
     "output_type": "stream",
     "text": [
      "Downloaded image for 'High-Res USB Microscope' and saved as 'image/product/high_res_usb_microscope.jpg'\n"
     ]
    },
    {
     "name": "stderr",
     "output_type": "stream",
     "text": [
      "2025-02-05 15:42:05,350 - INFO - parser - downloaded image reached max num, thread parser-001 is ready to exit\n",
      "2025-02-05 15:42:05,351 - INFO - parser - thread parser-001 exit\n",
      "2025-02-05 15:42:06,414 - INFO - parser - parsing result page https://www.bing.com/images/async?q=Basic Student Microscope&first=0\n",
      "2025-02-05 15:42:09,740 - INFO - downloader - image #1\thttps://www.learningstore.com.my/image/cache/data/EC2135a-500x500.jpg\n",
      "2025-02-05 15:42:11,629 - INFO - downloader - downloaded images reach max num, thread downloader-001 is ready to exit\n",
      "2025-02-05 15:42:11,631 - INFO - downloader - thread downloader-001 exit\n",
      "2025-02-05 15:42:12,101 - INFO - icrawler.crawler - Crawling task done!\n",
      "2025-02-05 15:42:12,104 - INFO - icrawler.crawler - start crawling...\n",
      "2025-02-05 15:42:12,105 - INFO - icrawler.crawler - starting 1 feeder threads...\n",
      "2025-02-05 15:42:12,107 - INFO - feeder - thread feeder-001 exit\n",
      "2025-02-05 15:42:12,108 - INFO - icrawler.crawler - starting 1 parser threads...\n",
      "2025-02-05 15:42:12,111 - INFO - icrawler.crawler - starting 1 downloader threads...\n"
     ]
    },
    {
     "name": "stdout",
     "output_type": "stream",
     "text": [
      "Downloaded image for 'Basic Student Microscope' and saved as 'image/product/basic_student_microscope.jpg'\n"
     ]
    },
    {
     "name": "stderr",
     "output_type": "stream",
     "text": [
      "2025-02-05 15:42:12,467 - INFO - parser - downloaded image reached max num, thread parser-001 is ready to exit\n",
      "2025-02-05 15:42:12,468 - INFO - parser - thread parser-001 exit\n",
      "2025-02-05 15:42:13,294 - INFO - parser - parsing result page https://www.bing.com/images/async?q=Portable Student Microscope&first=0\n",
      "2025-02-05 15:42:14,192 - INFO - downloader - image #1\thttps://images-na.ssl-images-amazon.com/images/I/41DHTitanHL.jpg\n",
      "2025-02-05 15:42:15,406 - INFO - downloader - downloaded images reach max num, thread downloader-001 is ready to exit\n",
      "2025-02-05 15:42:15,407 - INFO - downloader - thread downloader-001 exit\n",
      "2025-02-05 15:42:16,117 - INFO - icrawler.crawler - Crawling task done!\n",
      "2025-02-05 15:42:16,120 - INFO - icrawler.crawler - start crawling...\n",
      "2025-02-05 15:42:16,121 - INFO - icrawler.crawler - starting 1 feeder threads...\n",
      "2025-02-05 15:42:16,122 - INFO - feeder - thread feeder-001 exit\n",
      "2025-02-05 15:42:16,123 - INFO - icrawler.crawler - starting 1 parser threads...\n",
      "2025-02-05 15:42:16,127 - INFO - icrawler.crawler - starting 1 downloader threads...\n",
      "2025-02-05 15:42:16,196 - INFO - parser - downloaded image reached max num, thread parser-001 is ready to exit\n",
      "2025-02-05 15:42:16,198 - INFO - parser - thread parser-001 exit\n"
     ]
    },
    {
     "name": "stdout",
     "output_type": "stream",
     "text": [
      "Downloaded image for 'Portable Student Microscope' and saved as 'image/product/portable_student_microscope.jpg'\n"
     ]
    },
    {
     "name": "stderr",
     "output_type": "stream",
     "text": [
      "2025-02-05 15:42:17,180 - INFO - parser - parsing result page https://www.bing.com/images/async?q=Pack of Disposable Scalpel Blades&first=0\n",
      "2025-02-05 15:42:17,957 - INFO - downloader - image #1\thttps://m.media-amazon.com/images/I/61MRVPeW6rL.jpg\n",
      "2025-02-05 15:42:18,577 - INFO - downloader - downloaded images reach max num, thread downloader-001 is ready to exit\n",
      "2025-02-05 15:42:18,579 - INFO - downloader - thread downloader-001 exit\n",
      "2025-02-05 15:42:19,130 - INFO - icrawler.crawler - Crawling task done!\n",
      "2025-02-05 15:42:19,134 - INFO - icrawler.crawler - start crawling...\n",
      "2025-02-05 15:42:19,136 - INFO - icrawler.crawler - starting 1 feeder threads...\n",
      "2025-02-05 15:42:19,138 - INFO - feeder - thread feeder-001 exit\n",
      "2025-02-05 15:42:19,139 - INFO - icrawler.crawler - starting 1 parser threads...\n",
      "2025-02-05 15:42:19,147 - INFO - icrawler.crawler - starting 1 downloader threads...\n"
     ]
    },
    {
     "name": "stdout",
     "output_type": "stream",
     "text": [
      "Downloaded image for 'Pack of Disposable Scalpel Blades' and saved as 'image/product/disposable_scalpel_blades.jpg'\n"
     ]
    },
    {
     "name": "stderr",
     "output_type": "stream",
     "text": [
      "2025-02-05 15:42:19,962 - INFO - parser - downloaded image reached max num, thread parser-001 is ready to exit\n",
      "2025-02-05 15:42:19,963 - INFO - parser - thread parser-001 exit\n",
      "2025-02-05 15:42:20,091 - INFO - parser - parsing result page https://www.bing.com/images/async?q=Premium Disposable Scalpel Blades&first=0\n",
      "2025-02-05 15:42:21,245 - INFO - downloader - image #1\thttps://m.media-amazon.com/images/I/71povtigEKL._SL1500_.jpg\n",
      "2025-02-05 15:42:22,575 - INFO - downloader - downloaded images reach max num, thread downloader-001 is ready to exit\n",
      "2025-02-05 15:42:22,577 - INFO - downloader - thread downloader-001 exit\n",
      "2025-02-05 15:42:23,156 - INFO - icrawler.crawler - Crawling task done!\n",
      "2025-02-05 15:42:23,159 - INFO - icrawler.crawler - start crawling...\n",
      "2025-02-05 15:42:23,161 - INFO - icrawler.crawler - starting 1 feeder threads...\n",
      "2025-02-05 15:42:23,163 - INFO - feeder - thread feeder-001 exit\n",
      "2025-02-05 15:42:23,163 - INFO - icrawler.crawler - starting 1 parser threads...\n",
      "2025-02-05 15:42:23,167 - INFO - icrawler.crawler - starting 1 downloader threads...\n"
     ]
    },
    {
     "name": "stdout",
     "output_type": "stream",
     "text": [
      "Downloaded image for 'Premium Disposable Scalpel Blades' and saved as 'image/product/premium_scalpel_blades.jpg'\n"
     ]
    },
    {
     "name": "stderr",
     "output_type": "stream",
     "text": [
      "2025-02-05 15:42:24,155 - INFO - parser - downloaded image reached max num, thread parser-001 is ready to exit\n",
      "2025-02-05 15:42:24,156 - INFO - parser - thread parser-001 exit\n",
      "2025-02-05 15:42:24,662 - INFO - parser - parsing result page https://www.bing.com/images/async?q=Standard Surgical Scalpel&first=0\n",
      "2025-02-05 15:42:25,553 - INFO - downloader - image #1\thttps://thumbs.dreamstime.com/z/surgical-scalpel-standard-replaceable-blade-instrument-32314426.jpg\n",
      "2025-02-05 15:42:26,774 - INFO - downloader - downloaded images reach max num, thread downloader-001 is ready to exit\n",
      "2025-02-05 15:42:26,776 - INFO - downloader - thread downloader-001 exit\n",
      "2025-02-05 15:42:27,170 - INFO - icrawler.crawler - Crawling task done!\n",
      "2025-02-05 15:42:27,173 - INFO - icrawler.crawler - start crawling...\n",
      "2025-02-05 15:42:27,174 - INFO - icrawler.crawler - starting 1 feeder threads...\n",
      "2025-02-05 15:42:27,176 - INFO - feeder - thread feeder-001 exit\n",
      "2025-02-05 15:42:27,176 - INFO - icrawler.crawler - starting 1 parser threads...\n",
      "2025-02-05 15:42:27,180 - INFO - icrawler.crawler - starting 1 downloader threads...\n"
     ]
    },
    {
     "name": "stdout",
     "output_type": "stream",
     "text": [
      "Downloaded image for 'Standard Surgical Scalpel' and saved as 'image/product/standard_surgical_scalpel.jpg'\n"
     ]
    },
    {
     "name": "stderr",
     "output_type": "stream",
     "text": [
      "2025-02-05 15:42:27,557 - INFO - parser - downloaded image reached max num, thread parser-001 is ready to exit\n",
      "2025-02-05 15:42:27,558 - INFO - parser - thread parser-001 exit\n",
      "2025-02-05 15:42:28,382 - INFO - parser - parsing result page https://www.bing.com/images/async?q=Precision Surgical Scalpel&first=0\n",
      "2025-02-05 15:42:29,474 - INFO - downloader - image #1\thttps://c8.alamy.com/comp/2R1CN9B/scalpel-blade-surgical-instrument-angled-close-up-surgery-precision-stainless-steal-equipment-specialized-medical-cutting-health-care-white-background-2R1CN9B.jpg\n",
      "2025-02-05 15:42:30,280 - INFO - downloader - downloaded images reach max num, thread downloader-001 is ready to exit\n",
      "2025-02-05 15:42:30,282 - INFO - downloader - thread downloader-001 exit\n",
      "2025-02-05 15:42:31,185 - INFO - icrawler.crawler - Crawling task done!\n",
      "2025-02-05 15:42:31,188 - INFO - icrawler.crawler - start crawling...\n",
      "2025-02-05 15:42:31,189 - INFO - icrawler.crawler - starting 1 feeder threads...\n",
      "2025-02-05 15:42:31,190 - INFO - feeder - thread feeder-001 exit\n",
      "2025-02-05 15:42:31,191 - INFO - icrawler.crawler - starting 1 parser threads...\n",
      "2025-02-05 15:42:31,196 - INFO - icrawler.crawler - starting 1 downloader threads...\n"
     ]
    },
    {
     "name": "stdout",
     "output_type": "stream",
     "text": [
      "Downloaded image for 'Precision Surgical Scalpel' and saved as 'image/product/precision_surgical_scalpel.jpg'\n"
     ]
    },
    {
     "name": "stderr",
     "output_type": "stream",
     "text": [
      "2025-02-05 15:42:31,479 - INFO - parser - downloaded image reached max num, thread parser-001 is ready to exit\n",
      "2025-02-05 15:42:31,480 - INFO - parser - thread parser-001 exit\n",
      "2025-02-05 15:42:32,304 - INFO - parser - parsing result page https://www.bing.com/images/async?q=Stainless Steel Scalpel&first=0\n",
      "2025-02-05 15:42:32,911 - INFO - downloader - image #1\thttps://c8.alamy.com/comp/2PTMC3B/surgical-stainless-steel-metal-scalpel-on-a-white-background-3d-rendering-2PTMC3B.jpg\n",
      "2025-02-05 15:42:34,871 - INFO - downloader - downloaded images reach max num, thread downloader-001 is ready to exit\n",
      "2025-02-05 15:42:34,872 - INFO - downloader - thread downloader-001 exit\n",
      "2025-02-05 15:42:34,915 - INFO - parser - downloaded image reached max num, thread parser-001 is ready to exit\n",
      "2025-02-05 15:42:34,917 - INFO - parser - thread parser-001 exit\n",
      "2025-02-05 15:42:35,202 - INFO - icrawler.crawler - Crawling task done!\n",
      "2025-02-05 15:42:35,208 - INFO - icrawler.crawler - start crawling...\n",
      "2025-02-05 15:42:35,210 - INFO - icrawler.crawler - starting 1 feeder threads...\n",
      "2025-02-05 15:42:35,212 - INFO - feeder - thread feeder-001 exit\n",
      "2025-02-05 15:42:35,214 - INFO - icrawler.crawler - starting 1 parser threads...\n",
      "2025-02-05 15:42:35,216 - INFO - icrawler.crawler - starting 1 downloader threads...\n"
     ]
    },
    {
     "name": "stdout",
     "output_type": "stream",
     "text": [
      "Downloaded image for 'Stainless Steel Scalpel' and saved as 'image/product/stainless_steel_scalpel.jpg'\n"
     ]
    },
    {
     "name": "stderr",
     "output_type": "stream",
     "text": [
      "2025-02-05 15:42:36,220 - INFO - parser - parsing result page https://www.bing.com/images/async?q=Premium Stainless Steel Scalpel&first=0\n",
      "2025-02-05 15:42:38,836 - INFO - downloader - image #1\thttps://img.alicdn.com/imgextra/i1/6000000000901/O1CN01LpqrMo1IWhdLPfY7T_!!6000000000901-0-tbvideo.jpg\n",
      "2025-02-05 15:42:39,594 - INFO - downloader - downloaded images reach max num, thread downloader-001 is ready to exit\n",
      "2025-02-05 15:42:39,596 - INFO - downloader - thread downloader-001 exit\n",
      "2025-02-05 15:42:40,223 - INFO - icrawler.crawler - Crawling task done!\n",
      "2025-02-05 15:42:40,227 - INFO - icrawler.crawler - start crawling...\n",
      "2025-02-05 15:42:40,229 - INFO - icrawler.crawler - starting 1 feeder threads...\n",
      "2025-02-05 15:42:40,231 - INFO - feeder - thread feeder-001 exit\n",
      "2025-02-05 15:42:40,232 - INFO - icrawler.crawler - starting 1 parser threads...\n",
      "2025-02-05 15:42:40,234 - INFO - icrawler.crawler - starting 1 downloader threads...\n"
     ]
    },
    {
     "name": "stdout",
     "output_type": "stream",
     "text": [
      "Downloaded image for 'Premium Stainless Steel Scalpel' and saved as 'image/product/premium_stainless_scalpel.jpg'\n"
     ]
    },
    {
     "name": "stderr",
     "output_type": "stream",
     "text": [
      "2025-02-05 15:42:40,841 - INFO - parser - downloaded image reached max num, thread parser-001 is ready to exit\n",
      "2025-02-05 15:42:40,843 - INFO - parser - thread parser-001 exit\n",
      "2025-02-05 15:42:42,505 - INFO - parser - parsing result page https://www.bing.com/images/async?q=Sterile Scalpel Blade Pack&first=0\n",
      "2025-02-05 15:42:44,407 - INFO - downloader - image #1\thttps://cdn11.bigcommerce.com/s-ufhcuzfxw9/images/stencil/1280x1280/products/14387/15029/DE-SC22BLD__58675.1573683375.jpg\n",
      "2025-02-05 15:42:47,151 - INFO - downloader - downloaded images reach max num, thread downloader-001 is ready to exit\n",
      "2025-02-05 15:42:47,153 - INFO - downloader - thread downloader-001 exit\n",
      "2025-02-05 15:42:47,240 - INFO - icrawler.crawler - Crawling task done!\n",
      "2025-02-05 15:42:47,245 - INFO - icrawler.crawler - start crawling...\n",
      "2025-02-05 15:42:47,246 - INFO - icrawler.crawler - starting 1 feeder threads...\n",
      "2025-02-05 15:42:47,247 - INFO - feeder - thread feeder-001 exit\n",
      "2025-02-05 15:42:47,249 - INFO - icrawler.crawler - starting 1 parser threads...\n",
      "2025-02-05 15:42:47,253 - INFO - icrawler.crawler - starting 1 downloader threads...\n"
     ]
    },
    {
     "name": "stdout",
     "output_type": "stream",
     "text": [
      "Downloaded image for 'Sterile Scalpel Blade Pack' and saved as 'image/product/sterile_scalpel_blade_pack.jpg'\n"
     ]
    },
    {
     "name": "stderr",
     "output_type": "stream",
     "text": [
      "2025-02-05 15:42:47,575 - INFO - parser - downloaded image reached max num, thread parser-001 is ready to exit\n",
      "2025-02-05 15:42:47,576 - INFO - parser - thread parser-001 exit\n",
      "2025-02-05 15:42:48,351 - INFO - parser - parsing result page https://www.bing.com/images/async?q=Extra Sterile Scalpel Blades&first=0\n",
      "2025-02-05 15:42:49,122 - INFO - downloader - image #1\thttps://rjrorwxhojkqll5p-static.micyjz.com/cloud/lpBprKqqljSRoimlokokiq/daopianxiangqing_04.jpg\n",
      "2025-02-05 15:42:50,247 - INFO - downloader - downloaded images reach max num, thread downloader-001 is ready to exit\n",
      "2025-02-05 15:42:50,249 - INFO - downloader - thread downloader-001 exit\n",
      "2025-02-05 15:42:50,256 - INFO - icrawler.crawler - Crawling task done!\n",
      "2025-02-05 15:42:50,259 - INFO - icrawler.crawler - start crawling...\n",
      "2025-02-05 15:42:50,260 - INFO - icrawler.crawler - starting 1 feeder threads...\n",
      "2025-02-05 15:42:50,263 - INFO - feeder - thread feeder-001 exit\n",
      "2025-02-05 15:42:50,264 - INFO - icrawler.crawler - starting 1 parser threads...\n",
      "2025-02-05 15:42:50,269 - INFO - icrawler.crawler - starting 1 downloader threads...\n"
     ]
    },
    {
     "name": "stdout",
     "output_type": "stream",
     "text": [
      "Downloaded image for 'Extra Sterile Scalpel Blades' and saved as 'image/product/extra_sterile_scalpel_blades.jpg'\n"
     ]
    },
    {
     "name": "stderr",
     "output_type": "stream",
     "text": [
      "2025-02-05 15:42:51,126 - INFO - parser - downloaded image reached max num, thread parser-001 is ready to exit\n",
      "2025-02-05 15:42:51,128 - INFO - parser - thread parser-001 exit\n",
      "2025-02-05 15:42:51,711 - INFO - parser - parsing result page https://www.bing.com/images/async?q=Portable ECG Monitor Pro&first=0\n",
      "2025-02-05 15:42:53,353 - INFO - downloader - image #1\thttps://m.media-amazon.com/images/I/61Fq9mcfuiL.jpg\n",
      "2025-02-05 15:42:56,678 - INFO - downloader - downloaded images reach max num, thread downloader-001 is ready to exit\n",
      "2025-02-05 15:42:56,680 - INFO - downloader - thread downloader-001 exit\n",
      "2025-02-05 15:42:57,274 - INFO - icrawler.crawler - Crawling task done!\n",
      "2025-02-05 15:42:57,277 - INFO - icrawler.crawler - start crawling...\n",
      "2025-02-05 15:42:57,279 - INFO - icrawler.crawler - starting 1 feeder threads...\n",
      "2025-02-05 15:42:57,281 - INFO - feeder - thread feeder-001 exit\n",
      "2025-02-05 15:42:57,282 - INFO - icrawler.crawler - starting 1 parser threads...\n",
      "2025-02-05 15:42:57,285 - INFO - icrawler.crawler - starting 1 downloader threads...\n"
     ]
    },
    {
     "name": "stdout",
     "output_type": "stream",
     "text": [
      "Downloaded image for 'Portable ECG Monitor Pro' and saved as 'image/product/portable_ecg_monitor_pro.jpg'\n"
     ]
    },
    {
     "name": "stderr",
     "output_type": "stream",
     "text": [
      "2025-02-05 15:42:57,758 - INFO - parser - downloaded image reached max num, thread parser-001 is ready to exit\n",
      "2025-02-05 15:42:57,760 - INFO - parser - thread parser-001 exit\n",
      "2025-02-05 15:42:58,580 - INFO - parser - parsing result page https://www.bing.com/images/async?q=Portable ECG Monitor Lite&first=0\n",
      "2025-02-05 15:42:59,968 - INFO - downloader - image #1\thttps://img.medicalexpo.com/images_me/photo-g/100940-8264459.jpg\n",
      "2025-02-05 15:43:01,805 - INFO - downloader - downloaded images reach max num, thread downloader-001 is ready to exit\n",
      "2025-02-05 15:43:01,806 - INFO - downloader - thread downloader-001 exit\n",
      "2025-02-05 15:43:02,290 - INFO - icrawler.crawler - Crawling task done!\n",
      "2025-02-05 15:43:02,293 - INFO - icrawler.crawler - start crawling...\n",
      "2025-02-05 15:43:02,294 - INFO - icrawler.crawler - starting 1 feeder threads...\n",
      "2025-02-05 15:43:02,296 - INFO - feeder - thread feeder-001 exit\n",
      "2025-02-05 15:43:02,297 - INFO - icrawler.crawler - starting 1 parser threads...\n",
      "2025-02-05 15:43:02,302 - INFO - icrawler.crawler - starting 1 downloader threads...\n"
     ]
    },
    {
     "name": "stdout",
     "output_type": "stream",
     "text": [
      "Downloaded image for 'Portable ECG Monitor Lite' and saved as 'image/product/portable_ecg_monitor_lite.jpg'\n"
     ]
    },
    {
     "name": "stderr",
     "output_type": "stream",
     "text": [
      "2025-02-05 15:43:02,647 - INFO - parser - downloaded image reached max num, thread parser-001 is ready to exit\n",
      "2025-02-05 15:43:02,648 - INFO - parser - thread parser-001 exit\n",
      "2025-02-05 15:43:03,299 - INFO - parser - parsing result page https://www.bing.com/images/async?q=Wireless Heart Rate Monitor&first=0\n",
      "2025-02-05 15:43:04,014 - INFO - downloader - image #1\thttps://images-na.ssl-images-amazon.com/images/I/81mRD9WR-vL._AC_SL1500_.jpg\n",
      "2025-02-05 15:43:04,521 - INFO - downloader - downloaded images reach max num, thread downloader-001 is ready to exit\n",
      "2025-02-05 15:43:04,523 - INFO - downloader - thread downloader-001 exit\n",
      "2025-02-05 15:43:05,307 - INFO - icrawler.crawler - Crawling task done!\n",
      "2025-02-05 15:43:05,311 - INFO - icrawler.crawler - start crawling...\n",
      "2025-02-05 15:43:05,313 - INFO - icrawler.crawler - starting 1 feeder threads...\n",
      "2025-02-05 15:43:05,315 - INFO - feeder - thread feeder-001 exit\n",
      "2025-02-05 15:43:05,316 - INFO - icrawler.crawler - starting 1 parser threads...\n",
      "2025-02-05 15:43:05,319 - INFO - icrawler.crawler - starting 1 downloader threads...\n"
     ]
    },
    {
     "name": "stdout",
     "output_type": "stream",
     "text": [
      "Downloaded image for 'Wireless Heart Rate Monitor' and saved as 'image/product/wireless_heart_rate_monitor.jpg'\n"
     ]
    },
    {
     "name": "stderr",
     "output_type": "stream",
     "text": [
      "2025-02-05 15:43:06,017 - INFO - parser - downloaded image reached max num, thread parser-001 is ready to exit\n",
      "2025-02-05 15:43:06,019 - INFO - parser - thread parser-001 exit\n",
      "2025-02-05 15:43:06,347 - INFO - parser - parsing result page https://www.bing.com/images/async?q=Chest Strap Heart Rate Monitor&first=0\n",
      "2025-02-05 15:43:07,105 - INFO - downloader - image #1\thttps://static.sscontent.com/thumb/500/500/products/124/v1172262_prozis_score-chest-strap-heart-rate-monitor_single-size_no-code_newin.jpg\n",
      "2025-02-05 15:43:07,850 - INFO - downloader - downloaded images reach max num, thread downloader-001 is ready to exit\n",
      "2025-02-05 15:43:07,852 - INFO - downloader - thread downloader-001 exit\n",
      "2025-02-05 15:43:08,328 - INFO - icrawler.crawler - Crawling task done!\n",
      "2025-02-05 15:43:08,331 - INFO - icrawler.crawler - start crawling...\n",
      "2025-02-05 15:43:08,333 - INFO - icrawler.crawler - starting 1 feeder threads...\n",
      "2025-02-05 15:43:08,335 - INFO - feeder - thread feeder-001 exit\n",
      "2025-02-05 15:43:08,336 - INFO - icrawler.crawler - starting 1 parser threads...\n",
      "2025-02-05 15:43:08,338 - INFO - icrawler.crawler - starting 1 downloader threads...\n"
     ]
    },
    {
     "name": "stdout",
     "output_type": "stream",
     "text": [
      "Downloaded image for 'Chest Strap Heart Rate Monitor' and saved as 'image/product/chest_strap_heart_rate_monitor.jpg'\n"
     ]
    },
    {
     "name": "stderr",
     "output_type": "stream",
     "text": [
      "2025-02-05 15:43:09,109 - INFO - parser - downloaded image reached max num, thread parser-001 is ready to exit\n",
      "2025-02-05 15:43:09,110 - INFO - parser - thread parser-001 exit\n",
      "2025-02-05 15:43:09,398 - INFO - parser - parsing result page https://www.bing.com/images/async?q=Digital Blood Pressure Monitor&first=0\n",
      "2025-02-05 15:43:10,897 - INFO - downloader - image #1\thttps://www.zoomhealth.co.uk/wp-content/uploads/2014/09/omron-m2-basic.jpg\n",
      "2025-02-05 15:43:11,828 - INFO - downloader - downloaded images reach max num, thread downloader-001 is ready to exit\n",
      "2025-02-05 15:43:11,830 - INFO - downloader - thread downloader-001 exit\n",
      "2025-02-05 15:43:12,342 - INFO - icrawler.crawler - Crawling task done!\n",
      "2025-02-05 15:43:12,346 - INFO - icrawler.crawler - start crawling...\n",
      "2025-02-05 15:43:12,347 - INFO - icrawler.crawler - starting 1 feeder threads...\n",
      "2025-02-05 15:43:12,350 - INFO - feeder - thread feeder-001 exit\n",
      "2025-02-05 15:43:12,350 - INFO - icrawler.crawler - starting 1 parser threads...\n",
      "2025-02-05 15:43:12,353 - INFO - icrawler.crawler - starting 1 downloader threads...\n",
      "2025-02-05 15:43:12,461 - INFO - parser - downloaded image reached max num, thread parser-001 is ready to exit\n",
      "2025-02-05 15:43:12,463 - INFO - parser - thread parser-001 exit\n"
     ]
    },
    {
     "name": "stdout",
     "output_type": "stream",
     "text": [
      "Downloaded image for 'Digital Blood Pressure Monitor' and saved as 'image/product/digital_bp_monitor.jpg'\n"
     ]
    },
    {
     "name": "stderr",
     "output_type": "stream",
     "text": [
      "2025-02-05 15:43:13,282 - INFO - parser - parsing result page https://www.bing.com/images/async?q=Arm Cuff Blood Pressure Monitor&first=0\n",
      "2025-02-05 15:43:14,637 - INFO - downloader - image #1\thttps://m.media-amazon.com/images/S/aplus-media/vc/fa0f950b-9a99-4201-8b99-b8a282e02bde.jpg\n",
      "2025-02-05 15:43:15,492 - INFO - downloader - downloaded images reach max num, thread downloader-001 is ready to exit\n",
      "2025-02-05 15:43:15,494 - INFO - downloader - thread downloader-001 exit\n",
      "2025-02-05 15:43:16,357 - INFO - icrawler.crawler - Crawling task done!\n",
      "2025-02-05 15:43:16,361 - INFO - icrawler.crawler - start crawling...\n",
      "2025-02-05 15:43:16,363 - INFO - icrawler.crawler - starting 1 feeder threads...\n",
      "2025-02-05 15:43:16,365 - INFO - feeder - thread feeder-001 exit\n",
      "2025-02-05 15:43:16,366 - INFO - icrawler.crawler - starting 1 parser threads...\n",
      "2025-02-05 15:43:16,369 - INFO - icrawler.crawler - starting 1 downloader threads...\n"
     ]
    },
    {
     "name": "stdout",
     "output_type": "stream",
     "text": [
      "Downloaded image for 'Arm Cuff Blood Pressure Monitor' and saved as 'image/product/arm_cuff_bp_monitor.jpg'\n"
     ]
    },
    {
     "name": "stderr",
     "output_type": "stream",
     "text": [
      "2025-02-05 15:43:17,336 - INFO - parser - downloaded image reached max num, thread parser-001 is ready to exit\n",
      "2025-02-05 15:43:17,338 - INFO - parser - thread parser-001 exit\n",
      "2025-02-05 15:43:17,899 - INFO - parser - parsing result page https://www.bing.com/images/async?q=Portable EKG Machine&first=0\n",
      "2025-02-05 15:43:20,686 - INFO - downloader - image #1\thttp://numed.co.uk/files/uploads/Product/mac 600 ecg 2.jpg\n",
      "2025-02-05 15:43:23,165 - INFO - downloader - downloaded images reach max num, thread downloader-001 is ready to exit\n",
      "2025-02-05 15:43:23,166 - INFO - downloader - thread downloader-001 exit\n",
      "2025-02-05 15:43:23,374 - INFO - icrawler.crawler - Crawling task done!\n",
      "2025-02-05 15:43:23,377 - INFO - icrawler.crawler - start crawling...\n",
      "2025-02-05 15:43:23,378 - INFO - icrawler.crawler - starting 1 feeder threads...\n",
      "2025-02-05 15:43:23,380 - INFO - feeder - thread feeder-001 exit\n",
      "2025-02-05 15:43:23,381 - INFO - icrawler.crawler - starting 1 parser threads...\n",
      "2025-02-05 15:43:23,385 - INFO - icrawler.crawler - starting 1 downloader threads...\n"
     ]
    },
    {
     "name": "stdout",
     "output_type": "stream",
     "text": [
      "Downloaded image for 'Portable EKG Machine' and saved as 'image/product/portable_ekg_machine.jpg'\n"
     ]
    },
    {
     "name": "stderr",
     "output_type": "stream",
     "text": [
      "2025-02-05 15:43:23,691 - INFO - parser - downloaded image reached max num, thread parser-001 is ready to exit\n",
      "2025-02-05 15:43:23,692 - INFO - parser - thread parser-001 exit\n",
      "2025-02-05 15:43:24,790 - INFO - parser - parsing result page https://www.bing.com/images/async?q=Advanced EKG Machine&first=0\n",
      "2025-02-05 15:43:26,274 - INFO - downloader - image #1\thttps://storage.googleapis.com/avante/images/1977-1-dre-true-ecg-advance.jpg\n",
      "2025-02-05 15:43:27,908 - INFO - downloader - downloaded images reach max num, thread downloader-001 is ready to exit\n",
      "2025-02-05 15:43:27,909 - INFO - downloader - thread downloader-001 exit\n",
      "2025-02-05 15:43:28,391 - INFO - icrawler.crawler - Crawling task done!\n"
     ]
    },
    {
     "name": "stdout",
     "output_type": "stream",
     "text": [
      "Downloaded image for 'Advanced EKG Machine' and saved as 'image/product/advanced_ekg_machine.jpg'\n"
     ]
    },
    {
     "name": "stderr",
     "output_type": "stream",
     "text": [
      "2025-02-05 15:43:28,851 - INFO - parser - downloaded image reached max num, thread parser-001 is ready to exit\n",
      "2025-02-05 15:43:28,852 - INFO - parser - thread parser-001 exit\n"
     ]
    }
   ],
   "source": [
    "import os\n",
    "import shutil\n",
    "from icrawler.builtin import BingImageCrawler\n",
    "\n",
    "def download_image(keyword, save_path):\n",
    "    \"\"\"\n",
    "    Searches for an image using the given keyword and downloads one image.\n",
    "    Then moves (renames) the downloaded image to the desired save_path.\n",
    "    \"\"\"\n",
    "    # Temporary directory where images will be downloaded by the crawler\n",
    "    temp_dir = \"temp_images\"\n",
    "    if not os.path.exists(temp_dir):\n",
    "        os.makedirs(temp_dir)\n",
    "    \n",
    "    # Create and configure the Bing image crawler\n",
    "    crawler = BingImageCrawler(storage={\"root_dir\": temp_dir})\n",
    "    \n",
    "    # Crawl for one image using the product name as the keyword\n",
    "    crawler.crawl(keyword=keyword, max_num=1)\n",
    "    \n",
    "    # Get a list of files downloaded in temp_dir\n",
    "    downloaded_files = os.listdir(temp_dir)\n",
    "    if not downloaded_files:\n",
    "        print(f\"No image found for keyword: {keyword}\")\n",
    "        return\n",
    "    \n",
    "    # Choose the first downloaded file\n",
    "    downloaded_file = os.path.join(temp_dir, downloaded_files[0])\n",
    "    \n",
    "    # Ensure the target directory exists\n",
    "    target_dir = os.path.dirname(save_path)\n",
    "    if not os.path.exists(target_dir):\n",
    "        os.makedirs(target_dir)\n",
    "    \n",
    "    # Move (rename) the file to the desired save path\n",
    "    shutil.move(downloaded_file, save_path)\n",
    "    print(f\"Downloaded image for '{keyword}' and saved as '{save_path}'\")\n",
    "    \n",
    "    # Clean up any remaining files in the temporary directory\n",
    "    for f in os.listdir(temp_dir):\n",
    "        os.remove(os.path.join(temp_dir, f))\n",
    "\n",
    "# List of products with their search keywords and desired image file paths.\n",
    "# (You can extend this list to include all 44 subcategories and desired product names.)\n",
    "products = [\n",
    "    {\"name\": \"Smart Digital Weighing Scale\", \"filepath\": \"image/product/smart_digital_scale.jpg\"},\n",
    "    {\"name\": \"Advanced Digital Weighing Scale\", \"filepath\": \"image/product/advanced_digital_scale.jpg\"},\n",
    "    {\"name\": \"Classic Mechanical Scale\", \"filepath\": \"image/product/classic_mechanical_scale.jpg\"},\n",
    "    {\"name\": \"Heavy Duty Mechanical Scale\", \"filepath\": \"image/product/heavy_duty_mechanical_scale.jpg\"},\n",
    "    {\"name\": \"WiFi Smart Body Weight Scale\", \"filepath\": \"image/product/wifi_smart_scale.jpg\"},\n",
    "    {\"name\": \"Smart Body Composition Analyzer\", \"filepath\": \"image/product/smart_body_composition.jpg\"},\n",
    "    {\"name\": \"Sleek Bathroom Scale\", \"filepath\": \"image/product/sleek_bathroom_scale.jpg\"},\n",
    "    {\"name\": \"Compact Bathroom Scale\", \"filepath\": \"image/product/compact_bathroom_scale.jpg\"},\n",
    "    {\"name\": \"Sterile Disposable Syringes 10ml\", \"filepath\": \"image/product/sterile_disposable_syringes_10ml.jpg\"},\n",
    "    {\"name\": \"Disposable Syringes 5ml\", \"filepath\": \"image/product/disposable_syringes_5ml.jpg\"},\n",
    "    {\"name\": \"Insulin Syringes Pack 50\", \"filepath\": \"image/product/insulin_syringes_50.jpg\"},\n",
    "    {\"name\": \"Insulin Syringes Pack 100\", \"filepath\": \"image/product/insulin_syringes_100.jpg\"},\n",
    "    {\"name\": \"Auto-disable Safety Syringes\", \"filepath\": \"image/product/auto_disable_syringes.jpg\"},\n",
    "    {\"name\": \"Needle-Free Safety Syringes\", \"filepath\": \"image/product/needle_free_syringes.jpg\"},\n",
    "    {\"name\": \"Luer Lock Syringes 5ml\", \"filepath\": \"image/product/luer_lock_5ml.jpg\"},\n",
    "    {\"name\": \"Luer Lock Syringes 10ml\", \"filepath\": \"image/product/luer_lock_10ml.jpg\"},\n",
    "    {\"name\": \"Lightweight Foldable Wheelchair\", \"filepath\": \"image/product/lightweight_foldable_wheelchair.jpg\"},\n",
    "    {\"name\": \"Portable Foldable Wheelchair\", \"filepath\": \"image/product/portable_foldable_wheelchair.jpg\"},\n",
    "    {\"name\": \"Battery-Powered Electric Wheelchair\", \"filepath\": \"image/product/battery_electric_wheelchair.jpg\"},\n",
    "    {\"name\": \"Rechargeable Electric Wheelchair\", \"filepath\": \"image/product/rechargeable_electric_wheelchair.jpg\"},\n",
    "    {\"name\": \"Standard Manual Wheelchair\", \"filepath\": \"image/product/standard_manual_wheelchair.jpg\"},\n",
    "    {\"name\": \"Lightweight Manual Wheelchair\", \"filepath\": \"image/product/lightweight_manual_wheelchair.jpg\"},\n",
    "    {\"name\": \"Reclining Comfort Wheelchair\", \"filepath\": \"image/product/reclining_comfort_wheelchair.jpg\"},\n",
    "    {\"name\": \"Luxury Reclining Wheelchair\", \"filepath\": \"image/product/luxury_reclining_wheelchair.jpg\"},\n",
    "    {\"name\": \"Hardcover Medical Research Notebook\", \"filepath\": \"image/product/hardcover_medical_notebook.jpg\"},\n",
    "    {\"name\": \"A5 Medical Journal\", \"filepath\": \"image/product/a5_medical_journal.jpg\"},\n",
    "    {\"name\": \"Pocket Medical Notebook\", \"filepath\": \"image/product/pocket_medical_notebook.jpg\"},\n",
    "    {\"name\": \"Compact Pocket Notebook\", \"filepath\": \"image/product/compact_pocket_notebook.jpg\"},\n",
    "    {\"name\": \"Adjustable Dumbbell Set (2-24 kg)\", \"filepath\": \"image/product/adjustable_dumbbell_set.jpg\"},\n",
    "    {\"name\": \"Heavy Duty Adjustable Dumbbell\", \"filepath\": \"image/product/heavy_duty_dumbbell.jpg\"},\n",
    "    {\"name\": \"Hex Dumbbell Set\", \"filepath\": \"image/product/hex_dumbbell_set.jpg\"},\n",
    "    {\"name\": \"Single Hex Dumbbell\", \"filepath\": \"image/product/single_hex_dumbbell.jpg\"},\n",
    "    {\"name\": \"Rubber-Coated Dumbbell Pair\", \"filepath\": \"image/product/rubber_coated_dumbbell_pair.jpg\"},\n",
    "    {\"name\": \"Set of Rubber-Coated Dumbbells\", \"filepath\": \"image/product/rubber_coated_dumbbell_set.jpg\"},\n",
    "    {\"name\": \"Vinyl Dumbbell Pair\", \"filepath\": \"image/product/vinyl_dumbbell_pair.jpg\"},\n",
    "    {\"name\": \"Set of Vinyl Dumbbells\", \"filepath\": \"image/product/vinyl_dumbbell_set.jpg\"},\n",
    "    {\"name\": \"Non-Contact Infrared Thermometer\", \"filepath\": \"image/product/non_contact_infrared.jpg\"},\n",
    "    {\"name\": \"Professional Infrared Thermometer\", \"filepath\": \"image/product/professional_infrared.jpg\"},\n",
    "    {\"name\": \"Digital Oral Thermometer\", \"filepath\": \"image/product/digital_oral_thermometer.jpg\"},\n",
    "    {\"name\": \"Digital Ear Thermometer\", \"filepath\": \"image/product/digital_ear_thermometer.jpg\"},\n",
    "    {\"name\": \"Classic Mercury Thermometer\", \"filepath\": \"image/product/classic_mercury_thermometer.jpg\"},\n",
    "    {\"name\": \"Antique Mercury Thermometer\", \"filepath\": \"image/product/antique_mercury_thermometer.jpg\"},\n",
    "    {\"name\": \"Clinical Digital Thermometer\", \"filepath\": \"image/product/clinical_digital_thermometer.jpg\"},\n",
    "    {\"name\": \"Medical Clinical Thermometer\", \"filepath\": \"image/product/medical_clinical_thermometer.jpg\"},\n",
    "    {\"name\": \"Electronic Digital Stethoscope\", \"filepath\": \"image/product/electronic_digital_stethoscope.jpg\"},\n",
    "    {\"name\": \"Bluetooth Digital Stethoscope\", \"filepath\": \"image/product/bluetooth_digital_stethoscope.jpg\"},\n",
    "    {\"name\": \"Dual Head Acoustic Stethoscope\", \"filepath\": \"image/product/dual_head_acoustic_stethoscope.jpg\"},\n",
    "    {\"name\": \"Dual Head Professional Stethoscope\", \"filepath\": \"image/product/dual_head_professional_stethoscope.jpg\"},\n",
    "    {\"name\": \"Ultra Lightweight Stethoscope\", \"filepath\": \"image/product/ultra_lightweight_stethoscope.jpg\"},\n",
    "    {\"name\": \"Compact Lightweight Stethoscope\", \"filepath\": \"image/product/compact_lightweight_stethoscope.jpg\"},\n",
    "    {\"name\": \"Pediatric Stethoscope\", \"filepath\": \"image/product/pediatric_stethoscope.jpg\"},\n",
    "    {\"name\": \"Child-Friendly Stethoscope\", \"filepath\": \"image/product/child_friendly_stethoscope.jpg\"},\n",
    "    {\"name\": \"Home Basic First Aid Kit\", \"filepath\": \"image/product/home_basic_first_aid_kit.jpg\"},\n",
    "    {\"name\": \"Travel Basic First Aid Kit\", \"filepath\": \"image/product/travel_basic_first_aid_kit.jpg\"},\n",
    "    {\"name\": \"Advanced Home First Aid Kit\", \"filepath\": \"image/product/advanced_home_first_aid_kit.jpg\"},\n",
    "    {\"name\": \"Advanced Travel First Aid Kit\", \"filepath\": \"image/product/advanced_travel_first_aid_kit.jpg\"},\n",
    "    {\"name\": \"Compact Travel First Aid Kit\", \"filepath\": \"image/product/compact_travel_first_aid_kit.jpg\"},\n",
    "    {\"name\": \"Portable Travel First Aid Kit\", \"filepath\": \"image/product/portable_travel_first_aid_kit.jpg\"},\n",
    "    {\"name\": \"Industrial Grade First Aid Kit\", \"filepath\": \"image/product/industrial_first_aid_kit.jpg\"},\n",
    "    {\"name\": \"Heavy-Duty Industrial First Aid Kit\", \"filepath\": \"image/product/heavy_duty_industrial_first_aid_kit.jpg\"},\n",
    "    {\"name\": \"USB Digital Microscope\", \"filepath\": \"image/product/usb_digital_microscope.jpg\"},\n",
    "    {\"name\": \"Portable Digital Microscope\", \"filepath\": \"image/product/portable_digital_microscope.jpg\"},\n",
    "    {\"name\": \"Advanced Research Microscope\", \"filepath\": \"image/product/advanced_research_microscope.jpg\"},\n",
    "    {\"name\": \"Professional Biological Microscope\", \"filepath\": \"image/product/professional_bio_microscope.jpg\"},\n",
    "    {\"name\": \"Budget USB Microscope\", \"filepath\": \"image/product/budget_usb_microscope.jpg\"},\n",
    "    {\"name\": \"High-Res USB Microscope\", \"filepath\": \"image/product/high_res_usb_microscope.jpg\"},\n",
    "    {\"name\": \"Basic Student Microscope\", \"filepath\": \"image/product/basic_student_microscope.jpg\"},\n",
    "    {\"name\": \"Portable Student Microscope\", \"filepath\": \"image/product/portable_student_microscope.jpg\"},\n",
    "    {\"name\": \"Pack of Disposable Scalpel Blades\", \"filepath\": \"image/product/disposable_scalpel_blades.jpg\"},\n",
    "    {\"name\": \"Premium Disposable Scalpel Blades\", \"filepath\": \"image/product/premium_scalpel_blades.jpg\"},\n",
    "    {\"name\": \"Standard Surgical Scalpel\", \"filepath\": \"image/product/standard_surgical_scalpel.jpg\"},\n",
    "    {\"name\": \"Precision Surgical Scalpel\", \"filepath\": \"image/product/precision_surgical_scalpel.jpg\"},\n",
    "    {\"name\": \"Stainless Steel Scalpel\", \"filepath\": \"image/product/stainless_steel_scalpel.jpg\"},\n",
    "    {\"name\": \"Premium Stainless Steel Scalpel\", \"filepath\": \"image/product/premium_stainless_scalpel.jpg\"},\n",
    "    {\"name\": \"Sterile Scalpel Blade Pack\", \"filepath\": \"image/product/sterile_scalpel_blade_pack.jpg\"},\n",
    "    {\"name\": \"Extra Sterile Scalpel Blades\", \"filepath\": \"image/product/extra_sterile_scalpel_blades.jpg\"},\n",
    "    {\"name\": \"Portable ECG Monitor Pro\", \"filepath\": \"image/product/portable_ecg_monitor_pro.jpg\"},\n",
    "    {\"name\": \"Portable ECG Monitor Lite\", \"filepath\": \"image/product/portable_ecg_monitor_lite.jpg\"},\n",
    "    {\"name\": \"Wireless Heart Rate Monitor\", \"filepath\": \"image/product/wireless_heart_rate_monitor.jpg\"},\n",
    "    {\"name\": \"Chest Strap Heart Rate Monitor\", \"filepath\": \"image/product/chest_strap_heart_rate_monitor.jpg\"},\n",
    "    {\"name\": \"Digital Blood Pressure Monitor\", \"filepath\": \"image/product/digital_bp_monitor.jpg\"},\n",
    "    {\"name\": \"Arm Cuff Blood Pressure Monitor\", \"filepath\": \"image/product/arm_cuff_bp_monitor.jpg\"},\n",
    "    {\"name\": \"Portable EKG Machine\", \"filepath\": \"image/product/portable_ekg_machine.jpg\"},\n",
    "    {\"name\": \"Advanced EKG Machine\", \"filepath\": \"image/product/advanced_ekg_machine.jpg\"}\n",
    "]\n",
    "\n",
    "# Loop through the products list and download one image for each product\n",
    "for product in products:\n",
    "    download_image(product[\"name\"], product[\"filepath\"])\n"
   ]
  }
 ],
 "metadata": {
  "kernelspec": {
   "display_name": ".venv",
   "language": "python",
   "name": "python3"
  },
  "language_info": {
   "codemirror_mode": {
    "name": "ipython",
    "version": 3
   },
   "file_extension": ".py",
   "mimetype": "text/x-python",
   "name": "python",
   "nbconvert_exporter": "python",
   "pygments_lexer": "ipython3",
   "version": "3.12.3"
  }
 },
 "nbformat": 4,
 "nbformat_minor": 2
}
