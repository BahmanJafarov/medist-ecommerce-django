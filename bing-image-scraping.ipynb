{
 "cells": [
  {
   "cell_type": "code",
   "execution_count": null,
   "metadata": {},
   "outputs": [
    {
     "name": "stderr",
     "output_type": "stream",
     "text": [
      "2025-02-10 16:29:45,126 - INFO - icrawler.crawler - start crawling...\n",
      "2025-02-10 16:29:45,128 - INFO - icrawler.crawler - starting 1 feeder threads...\n",
      "2025-02-10 16:29:45,129 - INFO - feeder - thread feeder-001 exit\n",
      "2025-02-10 16:29:45,129 - INFO - icrawler.crawler - starting 1 parser threads...\n",
      "2025-02-10 16:29:45,134 - INFO - icrawler.crawler - starting 1 downloader threads...\n"
     ]
    },
    {
     "name": "stderr",
     "output_type": "stream",
     "text": [
      "2025-02-10 16:29:46,291 - INFO - parser - parsing result page https://www.bing.com/images/async?q=Smart Digital Weighing Scale&first=0\n",
      "2025-02-10 16:29:49,576 - INFO - downloader - image #1\thttp://www.digitalweighing-scales.com/photo/pl25210138-oiml_smart_touch_screen_bench_scale_digital_weighing_scales_with_printer.jpg\n",
      "2025-02-10 16:29:50,407 - INFO - downloader - downloaded images reach max num, thread downloader-001 is ready to exit\n",
      "2025-02-10 16:29:50,409 - INFO - downloader - thread downloader-001 exit\n",
      "2025-02-10 16:29:51,136 - INFO - icrawler.crawler - Crawling task done!\n",
      "2025-02-10 16:29:51,139 - INFO - icrawler.crawler - start crawling...\n",
      "2025-02-10 16:29:51,140 - INFO - icrawler.crawler - starting 1 feeder threads...\n",
      "2025-02-10 16:29:51,141 - INFO - feeder - thread feeder-001 exit\n",
      "2025-02-10 16:29:51,143 - INFO - icrawler.crawler - starting 1 parser threads...\n",
      "2025-02-10 16:29:51,145 - INFO - icrawler.crawler - starting 1 downloader threads...\n"
     ]
    },
    {
     "name": "stdout",
     "output_type": "stream",
     "text": [
      "Downloaded image for 'Smart Digital Weighing Scale' and saved as 'image/product/smart_digital_scale.jpg'\n"
     ]
    },
    {
     "name": "stderr",
     "output_type": "stream",
     "text": [
      "2025-02-10 16:29:51,350 - INFO - parser - downloaded image reached max num, thread parser-001 is ready to exit\n",
      "2025-02-10 16:29:51,352 - INFO - parser - thread parser-001 exit\n",
      "2025-02-10 16:29:52,235 - INFO - parser - parsing result page https://www.bing.com/images/async?q=Advanced Digital Weighing Scale&first=0\n",
      "2025-02-10 16:29:54,281 - ERROR - downloader - Response status code 404, file https://cdn1.npcdn.net/image/20181207_9dcfb8.jpg\n",
      "2025-02-10 16:29:54,760 - INFO - downloader - image #1\thttps://tiimg.tistatic.com/fp/1/008/008/highly-utilized-easily-compatible-heavy-duty-advanced-digital-weighing-scale-293.jpg\n",
      "2025-02-10 16:29:57,974 - INFO - downloader - downloaded images reach max num, thread downloader-001 is ready to exit\n",
      "2025-02-10 16:29:57,975 - INFO - downloader - thread downloader-001 exit\n",
      "2025-02-10 16:29:58,150 - INFO - icrawler.crawler - Crawling task done!\n",
      "2025-02-10 16:29:58,153 - INFO - icrawler.crawler - start crawling...\n",
      "2025-02-10 16:29:58,153 - INFO - icrawler.crawler - starting 1 feeder threads...\n",
      "2025-02-10 16:29:58,154 - INFO - feeder - thread feeder-001 exit\n",
      "2025-02-10 16:29:58,155 - INFO - icrawler.crawler - starting 1 parser threads...\n",
      "2025-02-10 16:29:58,158 - INFO - icrawler.crawler - starting 1 downloader threads...\n"
     ]
    },
    {
     "name": "stdout",
     "output_type": "stream",
     "text": [
      "Downloaded image for 'Advanced Digital Weighing Scale' and saved as 'image/product/advanced_digital_scale.jpg'\n"
     ]
    },
    {
     "name": "stderr",
     "output_type": "stream",
     "text": [
      "2025-02-10 16:29:58,765 - INFO - parser - downloaded image reached max num, thread parser-001 is ready to exit\n",
      "2025-02-10 16:29:58,766 - INFO - parser - thread parser-001 exit\n",
      "2025-02-10 16:29:59,163 - INFO - parser - parsing result page https://www.bing.com/images/async?q=Classic Mechanical Scale&first=0\n",
      "2025-02-10 16:30:01,435 - INFO - downloader - image #1\thttps://harrellmachinerysales.com/wp-content/uploads/2021/04/2514B-scaled.jpg\n",
      "2025-02-10 16:30:02,214 - INFO - downloader - downloaded images reach max num, thread downloader-001 is ready to exit\n",
      "2025-02-10 16:30:02,216 - INFO - downloader - thread downloader-001 exit\n",
      "2025-02-10 16:30:03,167 - INFO - icrawler.crawler - Crawling task done!\n",
      "2025-02-10 16:30:03,168 - INFO - icrawler.crawler - start crawling...\n",
      "2025-02-10 16:30:03,169 - INFO - icrawler.crawler - starting 1 feeder threads...\n",
      "2025-02-10 16:30:03,170 - INFO - feeder - thread feeder-001 exit\n",
      "2025-02-10 16:30:03,171 - INFO - icrawler.crawler - starting 1 parser threads...\n",
      "2025-02-10 16:30:03,173 - INFO - icrawler.crawler - starting 1 downloader threads...\n"
     ]
    },
    {
     "name": "stdout",
     "output_type": "stream",
     "text": [
      "Downloaded image for 'Classic Mechanical Scale' and saved as 'image/product/classic_mechanical_scale.jpg'\n"
     ]
    },
    {
     "name": "stderr",
     "output_type": "stream",
     "text": [
      "2025-02-10 16:30:03,440 - INFO - parser - downloaded image reached max num, thread parser-001 is ready to exit\n",
      "2025-02-10 16:30:03,441 - INFO - parser - thread parser-001 exit\n",
      "2025-02-10 16:30:04,102 - INFO - parser - parsing result page https://www.bing.com/images/async?q=Heavy Duty Mechanical Scale&first=0\n",
      "2025-02-10 16:30:04,789 - INFO - downloader - image #1\thttps://www.taylorusa.com/cdn/shop/products/THD32D_3097a877-8134-4ab7-8835-fad2411e6623.jpg\n",
      "2025-02-10 16:30:05,524 - INFO - downloader - downloaded images reach max num, thread downloader-001 is ready to exit\n",
      "2025-02-10 16:30:05,525 - INFO - downloader - thread downloader-001 exit\n",
      "2025-02-10 16:30:06,177 - INFO - icrawler.crawler - Crawling task done!\n",
      "2025-02-10 16:30:06,179 - INFO - icrawler.crawler - start crawling...\n",
      "2025-02-10 16:30:06,180 - INFO - icrawler.crawler - starting 1 feeder threads...\n",
      "2025-02-10 16:30:06,182 - INFO - feeder - thread feeder-001 exit\n",
      "2025-02-10 16:30:06,182 - INFO - icrawler.crawler - starting 1 parser threads...\n",
      "2025-02-10 16:30:06,184 - INFO - icrawler.crawler - starting 1 downloader threads...\n"
     ]
    },
    {
     "name": "stdout",
     "output_type": "stream",
     "text": [
      "Downloaded image for 'Heavy Duty Mechanical Scale' and saved as 'image/product/heavy_duty_mechanical_scale.jpg'\n"
     ]
    },
    {
     "name": "stderr",
     "output_type": "stream",
     "text": [
      "2025-02-10 16:30:06,791 - INFO - parser - downloaded image reached max num, thread parser-001 is ready to exit\n",
      "2025-02-10 16:30:06,792 - INFO - parser - thread parser-001 exit\n",
      "2025-02-10 16:30:07,118 - INFO - parser - parsing result page https://www.bing.com/images/async?q=WiFi Smart Body Weight Scale&first=0\n",
      "2025-02-10 16:30:07,884 - INFO - downloader - image #1\thttps://dj1ofsc4ivjxq.cloudfront.net/vmall/v1/2021-09-01-52f0a8af-b1bf-454b-bfd2-af8e02a75389.jpg\n",
      "2025-02-10 16:30:09,462 - INFO - downloader - downloaded images reach max num, thread downloader-001 is ready to exit\n",
      "2025-02-10 16:30:09,464 - INFO - downloader - thread downloader-001 exit\n",
      "2025-02-10 16:30:09,887 - INFO - parser - downloaded image reached max num, thread parser-001 is ready to exit\n",
      "2025-02-10 16:30:09,888 - INFO - parser - thread parser-001 exit\n",
      "2025-02-10 16:30:10,188 - INFO - icrawler.crawler - Crawling task done!\n",
      "2025-02-10 16:30:10,193 - INFO - icrawler.crawler - start crawling...\n",
      "2025-02-10 16:30:10,194 - INFO - icrawler.crawler - starting 1 feeder threads...\n",
      "2025-02-10 16:30:10,195 - INFO - feeder - thread feeder-001 exit\n",
      "2025-02-10 16:30:10,197 - INFO - icrawler.crawler - starting 1 parser threads...\n",
      "2025-02-10 16:30:10,199 - INFO - icrawler.crawler - starting 1 downloader threads...\n"
     ]
    },
    {
     "name": "stdout",
     "output_type": "stream",
     "text": [
      "Downloaded image for 'WiFi Smart Body Weight Scale' and saved as 'image/product/wifi_smart_scale.jpg'\n"
     ]
    },
    {
     "name": "stderr",
     "output_type": "stream",
     "text": [
      "2025-02-10 16:30:11,412 - INFO - parser - parsing result page https://www.bing.com/images/async?q=Smart Body Composition Analyzer&first=0\n",
      "2025-02-10 16:30:12,021 - INFO - downloader - image #1\thttps://m.media-amazon.com/images/I/61v0WWtI8lL.jpg\n",
      "2025-02-10 16:30:13,016 - INFO - downloader - downloaded images reach max num, thread downloader-001 is ready to exit\n",
      "2025-02-10 16:30:13,018 - INFO - downloader - thread downloader-001 exit\n",
      "2025-02-10 16:30:13,203 - INFO - icrawler.crawler - Crawling task done!\n",
      "2025-02-10 16:30:13,205 - INFO - icrawler.crawler - start crawling...\n",
      "2025-02-10 16:30:13,207 - INFO - icrawler.crawler - starting 1 feeder threads...\n",
      "2025-02-10 16:30:13,208 - INFO - feeder - thread feeder-001 exit\n",
      "2025-02-10 16:30:13,209 - INFO - icrawler.crawler - starting 1 parser threads...\n",
      "2025-02-10 16:30:13,212 - INFO - icrawler.crawler - starting 1 downloader threads...\n"
     ]
    },
    {
     "name": "stdout",
     "output_type": "stream",
     "text": [
      "Downloaded image for 'Smart Body Composition Analyzer' and saved as 'image/product/smart_body_composition.jpg'\n"
     ]
    },
    {
     "name": "stderr",
     "output_type": "stream",
     "text": [
      "2025-02-10 16:30:14,025 - INFO - parser - downloaded image reached max num, thread parser-001 is ready to exit\n",
      "2025-02-10 16:30:14,027 - INFO - parser - thread parser-001 exit\n",
      "2025-02-10 16:30:14,086 - INFO - parser - parsing result page https://www.bing.com/images/async?q=Sleek Bathroom Scale&first=0\n",
      "2025-02-10 16:30:14,770 - INFO - downloader - image #1\thttps://images-na.ssl-images-amazon.com/images/I/51vZn8Cl5RL._SL1280_.jpg\n",
      "2025-02-10 16:30:15,539 - INFO - downloader - downloaded images reach max num, thread downloader-001 is ready to exit\n",
      "2025-02-10 16:30:15,541 - INFO - downloader - thread downloader-001 exit\n",
      "2025-02-10 16:30:16,216 - INFO - icrawler.crawler - Crawling task done!\n",
      "2025-02-10 16:30:16,219 - INFO - icrawler.crawler - start crawling...\n",
      "2025-02-10 16:30:16,220 - INFO - icrawler.crawler - starting 1 feeder threads...\n",
      "2025-02-10 16:30:16,221 - INFO - feeder - thread feeder-001 exit\n",
      "2025-02-10 16:30:16,222 - INFO - icrawler.crawler - starting 1 parser threads...\n",
      "2025-02-10 16:30:16,225 - INFO - icrawler.crawler - starting 1 downloader threads...\n"
     ]
    },
    {
     "name": "stdout",
     "output_type": "stream",
     "text": [
      "Downloaded image for 'Sleek Bathroom Scale' and saved as 'image/product/sleek_bathroom_scale.jpg'\n"
     ]
    },
    {
     "name": "stderr",
     "output_type": "stream",
     "text": [
      "2025-02-10 16:30:16,772 - INFO - parser - downloaded image reached max num, thread parser-001 is ready to exit\n",
      "2025-02-10 16:30:16,774 - INFO - parser - thread parser-001 exit\n",
      "2025-02-10 16:30:17,536 - INFO - parser - parsing result page https://www.bing.com/images/async?q=Compact Bathroom Scale&first=0\n",
      "2025-02-10 16:30:18,242 - ERROR - downloader - Response status code 403, file https://www.therange.co.uk/_m5/2/2/1610613902_12_1038.jpg\n",
      "2025-02-10 16:30:19,685 - INFO - downloader - image #1\thttps://www.jungle.lk/wp-content/uploads/2018/06/Salter-Compact-Analogue-Bathroom-Scale-484WHKR.jpg\n",
      "2025-02-10 16:30:20,594 - INFO - downloader - downloaded images reach max num, thread downloader-001 is ready to exit\n",
      "2025-02-10 16:30:20,595 - INFO - downloader - thread downloader-001 exit\n",
      "2025-02-10 16:30:21,237 - INFO - icrawler.crawler - Crawling task done!\n",
      "2025-02-10 16:30:21,238 - INFO - icrawler.crawler - start crawling...\n",
      "2025-02-10 16:30:21,239 - INFO - icrawler.crawler - starting 1 feeder threads...\n",
      "2025-02-10 16:30:21,240 - INFO - feeder - thread feeder-001 exit\n",
      "2025-02-10 16:30:21,240 - INFO - icrawler.crawler - starting 1 parser threads...\n",
      "2025-02-10 16:30:21,241 - INFO - icrawler.crawler - starting 1 downloader threads...\n",
      "2025-02-10 16:30:21,245 - INFO - parser - downloaded image reached max num, thread parser-001 is ready to exit\n",
      "2025-02-10 16:30:21,246 - INFO - parser - thread parser-001 exit\n"
     ]
    },
    {
     "name": "stdout",
     "output_type": "stream",
     "text": [
      "Downloaded image for 'Compact Bathroom Scale' and saved as 'image/product/compact_bathroom_scale.jpg'\n"
     ]
    },
    {
     "name": "stderr",
     "output_type": "stream",
     "text": [
      "2025-02-10 16:30:22,176 - INFO - parser - parsing result page https://www.bing.com/images/async?q=Sterile Disposable Syringes 10ml&first=0\n",
      "2025-02-10 16:30:23,432 - INFO - downloader - image #1\thttps://image.made-in-china.com/2f0j00bHQUznYhsNcE/Disposable-Syringe-10ml-Made-of-PP-by-Eo-Gas-Sterilized.jpg\n",
      "2025-02-10 16:30:24,646 - INFO - downloader - downloaded images reach max num, thread downloader-001 is ready to exit\n",
      "2025-02-10 16:30:24,647 - INFO - downloader - thread downloader-001 exit\n",
      "2025-02-10 16:30:25,245 - INFO - icrawler.crawler - Crawling task done!\n",
      "2025-02-10 16:30:25,247 - INFO - icrawler.crawler - start crawling...\n",
      "2025-02-10 16:30:25,248 - INFO - icrawler.crawler - starting 1 feeder threads...\n",
      "2025-02-10 16:30:25,249 - INFO - feeder - thread feeder-001 exit\n",
      "2025-02-10 16:30:25,250 - INFO - icrawler.crawler - starting 1 parser threads...\n",
      "2025-02-10 16:30:25,254 - INFO - icrawler.crawler - starting 1 downloader threads...\n"
     ]
    },
    {
     "name": "stdout",
     "output_type": "stream",
     "text": [
      "Downloaded image for 'Sterile Disposable Syringes 10ml' and saved as 'image/product/sterile_disposable_syringes_10ml.jpg'\n"
     ]
    },
    {
     "name": "stderr",
     "output_type": "stream",
     "text": [
      "2025-02-10 16:30:26,220 - INFO - parser - downloaded image reached max num, thread parser-001 is ready to exit\n",
      "2025-02-10 16:30:26,221 - INFO - parser - thread parser-001 exit\n",
      "2025-02-10 16:30:26,384 - INFO - parser - parsing result page https://www.bing.com/images/async?q=Disposable Syringes 5ml&first=0\n",
      "2025-02-10 16:30:29,715 - INFO - downloader - image #1\thttp://www.medical-gauzes.com/photo/ps33856508-disposable_5ml_syringes_and_needles_for_medical_use.jpg\n",
      "2025-02-10 16:30:31,462 - INFO - downloader - downloaded images reach max num, thread downloader-001 is ready to exit\n",
      "2025-02-10 16:30:31,463 - INFO - downloader - thread downloader-001 exit\n",
      "2025-02-10 16:30:32,258 - INFO - icrawler.crawler - Crawling task done!\n",
      "2025-02-10 16:30:32,261 - INFO - icrawler.crawler - start crawling...\n",
      "2025-02-10 16:30:32,262 - INFO - icrawler.crawler - starting 1 feeder threads...\n",
      "2025-02-10 16:30:32,264 - INFO - feeder - thread feeder-001 exit\n",
      "2025-02-10 16:30:32,264 - INFO - icrawler.crawler - starting 1 parser threads...\n",
      "2025-02-10 16:30:32,267 - INFO - icrawler.crawler - starting 1 downloader threads...\n",
      "2025-02-10 16:30:32,421 - INFO - parser - downloaded image reached max num, thread parser-001 is ready to exit\n",
      "2025-02-10 16:30:32,422 - INFO - parser - thread parser-001 exit\n"
     ]
    },
    {
     "name": "stdout",
     "output_type": "stream",
     "text": [
      "Downloaded image for 'Disposable Syringes 5ml' and saved as 'image/product/disposable_syringes_5ml.jpg'\n"
     ]
    },
    {
     "name": "stderr",
     "output_type": "stream",
     "text": [
      "2025-02-10 16:30:33,306 - INFO - parser - parsing result page https://www.bing.com/images/async?q=Insulin Syringes - Pack of 50&first=0\n",
      "2025-02-10 16:30:34,230 - INFO - downloader - image #1\thttps://cheappinz.com/wp-content/uploads/2015/12/IMG_3991-600x450.jpg\n",
      "2025-02-10 16:30:37,208 - INFO - downloader - downloaded images reach max num, thread downloader-001 is ready to exit\n",
      "2025-02-10 16:30:37,209 - INFO - downloader - thread downloader-001 exit\n",
      "2025-02-10 16:30:37,271 - INFO - icrawler.crawler - Crawling task done!\n",
      "2025-02-10 16:30:37,275 - INFO - icrawler.crawler - start crawling...\n",
      "2025-02-10 16:30:37,276 - INFO - icrawler.crawler - starting 1 feeder threads...\n",
      "2025-02-10 16:30:37,277 - INFO - feeder - thread feeder-001 exit\n",
      "2025-02-10 16:30:37,278 - INFO - icrawler.crawler - starting 1 parser threads...\n",
      "2025-02-10 16:30:37,280 - INFO - icrawler.crawler - starting 1 downloader threads...\n"
     ]
    },
    {
     "name": "stdout",
     "output_type": "stream",
     "text": [
      "Downloaded image for 'Insulin Syringes - Pack of 50' and saved as 'image/product/insulin_syringes_50.jpg'\n"
     ]
    },
    {
     "name": "stderr",
     "output_type": "stream",
     "text": [
      "2025-02-10 16:30:38,216 - INFO - parser - parsing result page https://www.bing.com/images/async?q=Insulin Syringes - Pack of 100&first=0\n",
      "2025-02-10 16:30:38,234 - INFO - parser - downloaded image reached max num, thread parser-001 is ready to exit\n",
      "2025-02-10 16:30:38,238 - INFO - parser - thread parser-001 exit\n",
      "2025-02-10 16:30:39,505 - INFO - downloader - image #1\thttps://m.media-amazon.com/images/I/81vjcT-Eq-L.jpg\n",
      "2025-02-10 16:30:40,474 - INFO - downloader - downloaded images reach max num, thread downloader-001 is ready to exit\n",
      "2025-02-10 16:30:40,476 - INFO - downloader - thread downloader-001 exit\n",
      "2025-02-10 16:30:41,286 - INFO - icrawler.crawler - Crawling task done!\n",
      "2025-02-10 16:30:41,293 - INFO - icrawler.crawler - start crawling...\n",
      "2025-02-10 16:30:41,295 - INFO - icrawler.crawler - starting 1 feeder threads...\n",
      "2025-02-10 16:30:41,300 - INFO - feeder - thread feeder-001 exit\n",
      "2025-02-10 16:30:41,303 - INFO - icrawler.crawler - starting 1 parser threads...\n",
      "2025-02-10 16:30:41,314 - INFO - icrawler.crawler - starting 1 downloader threads...\n"
     ]
    },
    {
     "name": "stdout",
     "output_type": "stream",
     "text": [
      "Downloaded image for 'Insulin Syringes - Pack of 100' and saved as 'image/product/insulin_syringes_100.jpg'\n"
     ]
    },
    {
     "name": "stderr",
     "output_type": "stream",
     "text": [
      "2025-02-10 16:30:42,263 - INFO - parser - downloaded image reached max num, thread parser-001 is ready to exit\n",
      "2025-02-10 16:30:42,264 - INFO - parser - thread parser-001 exit\n",
      "2025-02-10 16:30:42,319 - INFO - parser - parsing result page https://www.bing.com/images/async?q=Auto-disable Safety Syringes&first=0\n",
      "2025-02-10 16:30:43,718 - INFO - downloader - image #1\thttps://improvemedicalusa.com/wp-content/uploads/2023/07/Safety-Auto-Disable-Syringe.jpg\n",
      "2025-02-10 16:30:46,522 - INFO - downloader - downloaded images reach max num, thread downloader-001 is ready to exit\n",
      "2025-02-10 16:30:46,523 - INFO - downloader - thread downloader-001 exit\n",
      "2025-02-10 16:30:47,323 - INFO - icrawler.crawler - Crawling task done!\n",
      "2025-02-10 16:30:47,325 - INFO - icrawler.crawler - start crawling...\n",
      "2025-02-10 16:30:47,326 - INFO - icrawler.crawler - starting 1 feeder threads...\n",
      "2025-02-10 16:30:47,327 - INFO - feeder - thread feeder-001 exit\n",
      "2025-02-10 16:30:47,329 - INFO - icrawler.crawler - starting 1 parser threads...\n",
      "2025-02-10 16:30:47,332 - INFO - icrawler.crawler - starting 1 downloader threads...\n",
      "2025-02-10 16:30:47,343 - INFO - parser - downloaded image reached max num, thread parser-001 is ready to exit\n",
      "2025-02-10 16:30:47,343 - INFO - parser - thread parser-001 exit\n"
     ]
    },
    {
     "name": "stdout",
     "output_type": "stream",
     "text": [
      "Downloaded image for 'Auto-disable Safety Syringes' and saved as 'image/product/auto_disable_syringes.jpg'\n"
     ]
    },
    {
     "name": "stderr",
     "output_type": "stream",
     "text": [
      "2025-02-10 16:30:48,762 - INFO - parser - parsing result page https://www.bing.com/images/async?q=Needle-Free Safety Syringes&first=0\n",
      "2025-02-10 16:30:51,009 - INFO - downloader - image #1\thttps://www.medismed.com/wp-content/uploads/2017/07/Needle-Retractable-safety-syringes-1024x724.jpg\n",
      "2025-02-10 16:30:52,867 - INFO - downloader - downloaded images reach max num, thread downloader-001 is ready to exit\n",
      "2025-02-10 16:30:52,868 - INFO - downloader - thread downloader-001 exit\n",
      "2025-02-10 16:30:53,013 - INFO - parser - downloaded image reached max num, thread parser-001 is ready to exit\n",
      "2025-02-10 16:30:53,015 - INFO - parser - thread parser-001 exit\n",
      "2025-02-10 16:30:53,337 - INFO - icrawler.crawler - Crawling task done!\n",
      "2025-02-10 16:30:53,340 - INFO - icrawler.crawler - start crawling...\n",
      "2025-02-10 16:30:53,342 - INFO - icrawler.crawler - starting 1 feeder threads...\n",
      "2025-02-10 16:30:53,344 - INFO - feeder - thread feeder-001 exit\n",
      "2025-02-10 16:30:53,344 - INFO - icrawler.crawler - starting 1 parser threads...\n",
      "2025-02-10 16:30:53,354 - INFO - icrawler.crawler - starting 1 downloader threads...\n"
     ]
    },
    {
     "name": "stdout",
     "output_type": "stream",
     "text": [
      "Downloaded image for 'Needle-Free Safety Syringes' and saved as 'image/product/needle_free_syringes.jpg'\n"
     ]
    },
    {
     "name": "stderr",
     "output_type": "stream",
     "text": [
      "2025-02-10 16:30:54,318 - INFO - parser - parsing result page https://www.bing.com/images/async?q=Luer Lock Syringes 5ml&first=0\n",
      "2025-02-10 16:30:55,225 - INFO - downloader - image #1\thttps://www.glassvials.com.au/4576-large_default/5ml-terumo-luer-lock-sterile-syringes.jpg\n",
      "2025-02-10 16:30:56,498 - INFO - downloader - downloaded images reach max num, thread downloader-001 is ready to exit\n",
      "2025-02-10 16:30:56,501 - INFO - downloader - thread downloader-001 exit\n",
      "2025-02-10 16:30:57,230 - INFO - parser - downloaded image reached max num, thread parser-001 is ready to exit\n",
      "2025-02-10 16:30:57,231 - INFO - parser - thread parser-001 exit\n",
      "2025-02-10 16:30:57,358 - INFO - icrawler.crawler - Crawling task done!\n",
      "2025-02-10 16:30:57,361 - INFO - icrawler.crawler - start crawling...\n",
      "2025-02-10 16:30:57,363 - INFO - icrawler.crawler - starting 1 feeder threads...\n",
      "2025-02-10 16:30:57,364 - INFO - feeder - thread feeder-001 exit\n",
      "2025-02-10 16:30:57,365 - INFO - icrawler.crawler - starting 1 parser threads...\n",
      "2025-02-10 16:30:57,368 - INFO - icrawler.crawler - starting 1 downloader threads...\n"
     ]
    },
    {
     "name": "stdout",
     "output_type": "stream",
     "text": [
      "Downloaded image for 'Luer Lock Syringes 5ml' and saved as 'image/product/luer_lock_5ml.jpg'\n"
     ]
    },
    {
     "name": "stderr",
     "output_type": "stream",
     "text": [
      "2025-02-10 16:30:58,117 - INFO - parser - parsing result page https://www.bing.com/images/async?q=Luer Lock Syringes 10ml&first=0\n",
      "2025-02-10 16:30:58,910 - INFO - downloader - image #1\thttps://cdn.shopify.com/s/files/1/0079/5377/6692/products/10ml_luer_lock_syringe_sterile_medical_plastic_disposable_1200x865.jpg\n",
      "2025-02-10 16:31:01,249 - INFO - downloader - downloaded images reach max num, thread downloader-001 is ready to exit\n",
      "2025-02-10 16:31:01,250 - INFO - downloader - thread downloader-001 exit\n",
      "2025-02-10 16:31:01,374 - INFO - icrawler.crawler - Crawling task done!\n",
      "2025-02-10 16:31:01,376 - INFO - icrawler.crawler - start crawling...\n",
      "2025-02-10 16:31:01,377 - INFO - icrawler.crawler - starting 1 feeder threads...\n",
      "2025-02-10 16:31:01,378 - INFO - feeder - thread feeder-001 exit\n",
      "2025-02-10 16:31:01,380 - INFO - icrawler.crawler - starting 1 parser threads...\n",
      "2025-02-10 16:31:01,382 - INFO - icrawler.crawler - starting 1 downloader threads...\n"
     ]
    },
    {
     "name": "stdout",
     "output_type": "stream",
     "text": [
      "Downloaded image for 'Luer Lock Syringes 10ml' and saved as 'image/product/luer_lock_10ml.jpg'\n"
     ]
    },
    {
     "name": "stderr",
     "output_type": "stream",
     "text": [
      "2025-02-10 16:31:01,914 - INFO - parser - downloaded image reached max num, thread parser-001 is ready to exit\n",
      "2025-02-10 16:31:01,915 - INFO - parser - thread parser-001 exit\n",
      "2025-02-10 16:31:02,174 - INFO - parser - parsing result page https://www.bing.com/images/async?q=Lightweight Foldable Wheelchair&first=0\n",
      "2025-02-10 16:31:02,756 - INFO - downloader - image #1\thttps://m.media-amazon.com/images/I/61Dr-FyPEtL._AC_.jpg\n",
      "2025-02-10 16:31:05,226 - INFO - downloader - downloaded images reach max num, thread downloader-001 is ready to exit\n",
      "2025-02-10 16:31:05,227 - INFO - downloader - thread downloader-001 exit\n",
      "2025-02-10 16:31:05,386 - INFO - icrawler.crawler - Crawling task done!\n",
      "2025-02-10 16:31:05,389 - INFO - icrawler.crawler - start crawling...\n",
      "2025-02-10 16:31:05,390 - INFO - icrawler.crawler - starting 1 feeder threads...\n",
      "2025-02-10 16:31:05,391 - INFO - feeder - thread feeder-001 exit\n",
      "2025-02-10 16:31:05,392 - INFO - icrawler.crawler - starting 1 parser threads...\n",
      "2025-02-10 16:31:05,394 - INFO - icrawler.crawler - starting 1 downloader threads...\n"
     ]
    },
    {
     "name": "stdout",
     "output_type": "stream",
     "text": [
      "Downloaded image for 'Lightweight Foldable Wheelchair' and saved as 'image/product/lightweight_foldable_wheelchair.jpg'\n"
     ]
    },
    {
     "name": "stderr",
     "output_type": "stream",
     "text": [
      "2025-02-10 16:31:05,760 - INFO - parser - downloaded image reached max num, thread parser-001 is ready to exit\n",
      "2025-02-10 16:31:05,761 - INFO - parser - thread parser-001 exit\n",
      "2025-02-10 16:31:06,499 - INFO - parser - parsing result page https://www.bing.com/images/async?q=Portable Foldable Wheelchair&first=0\n",
      "2025-02-10 16:31:07,720 - INFO - downloader - image #1\thttps://m.media-amazon.com/images/I/71zaHQ-J23L._AC_SL1400_.jpg\n",
      "2025-02-10 16:31:09,036 - INFO - downloader - downloaded images reach max num, thread downloader-001 is ready to exit\n",
      "2025-02-10 16:31:09,037 - INFO - downloader - thread downloader-001 exit\n",
      "2025-02-10 16:31:09,398 - INFO - icrawler.crawler - Crawling task done!\n",
      "2025-02-10 16:31:09,401 - INFO - icrawler.crawler - start crawling...\n",
      "2025-02-10 16:31:09,401 - INFO - icrawler.crawler - starting 1 feeder threads...\n",
      "2025-02-10 16:31:09,403 - INFO - feeder - thread feeder-001 exit\n",
      "2025-02-10 16:31:09,403 - INFO - icrawler.crawler - starting 1 parser threads...\n",
      "2025-02-10 16:31:09,406 - INFO - icrawler.crawler - starting 1 downloader threads...\n",
      "2025-02-10 16:31:09,550 - INFO - parser - downloaded image reached max num, thread parser-001 is ready to exit\n",
      "2025-02-10 16:31:09,551 - INFO - parser - thread parser-001 exit\n"
     ]
    },
    {
     "name": "stdout",
     "output_type": "stream",
     "text": [
      "Downloaded image for 'Portable Foldable Wheelchair' and saved as 'image/product/portable_foldable_wheelchair.jpg'\n"
     ]
    },
    {
     "name": "stderr",
     "output_type": "stream",
     "text": [
      "2025-02-10 16:31:10,903 - INFO - parser - parsing result page https://www.bing.com/images/async?q=Battery-Powered Electric Wheelchair&first=0\n",
      "2025-02-10 16:31:11,348 - INFO - downloader - image #1\thttps://cdn.shopify.com/s/files/1/0355/8676/8940/products/powerwheelchair-2_1000x.jpg\n",
      "2025-02-10 16:31:13,825 - INFO - downloader - downloaded images reach max num, thread downloader-001 is ready to exit\n",
      "2025-02-10 16:31:13,825 - INFO - downloader - thread downloader-001 exit\n",
      "2025-02-10 16:31:14,408 - INFO - icrawler.crawler - Crawling task done!\n",
      "2025-02-10 16:31:14,412 - INFO - icrawler.crawler - start crawling...\n",
      "2025-02-10 16:31:14,413 - INFO - icrawler.crawler - starting 1 feeder threads...\n",
      "2025-02-10 16:31:14,414 - INFO - feeder - thread feeder-001 exit\n",
      "2025-02-10 16:31:14,414 - INFO - icrawler.crawler - starting 1 parser threads...\n",
      "2025-02-10 16:31:14,419 - INFO - icrawler.crawler - starting 1 downloader threads...\n"
     ]
    },
    {
     "name": "stdout",
     "output_type": "stream",
     "text": [
      "Downloaded image for 'Battery-Powered Electric Wheelchair' and saved as 'image/product/battery_electric_wheelchair.jpg'\n"
     ]
    },
    {
     "name": "stderr",
     "output_type": "stream",
     "text": [
      "2025-02-10 16:31:15,352 - INFO - parser - downloaded image reached max num, thread parser-001 is ready to exit\n",
      "2025-02-10 16:31:15,353 - INFO - parser - thread parser-001 exit\n",
      "2025-02-10 16:31:15,674 - INFO - parser - parsing result page https://www.bing.com/images/async?q=Rechargeable Electric Wheelchair&first=0\n",
      "2025-02-10 16:31:23,377 - INFO - downloader - image #1\thttp://www.hecobattery.com/photo/ps1490436-10ah_24volt_electric_wheelchair_lithium_battery_in_compact_size_long_cycle_life.jpg\n",
      "2025-02-10 16:31:24,378 - INFO - downloader - downloaded images reach max num, thread downloader-001 is ready to exit\n",
      "2025-02-10 16:31:24,380 - INFO - downloader - thread downloader-001 exit\n",
      "2025-02-10 16:31:24,423 - INFO - icrawler.crawler - Crawling task done!\n",
      "2025-02-10 16:31:24,425 - INFO - icrawler.crawler - start crawling...\n",
      "2025-02-10 16:31:24,426 - INFO - icrawler.crawler - starting 1 feeder threads...\n",
      "2025-02-10 16:31:24,428 - INFO - feeder - thread feeder-001 exit\n",
      "2025-02-10 16:31:24,428 - INFO - icrawler.crawler - starting 1 parser threads...\n",
      "2025-02-10 16:31:24,431 - INFO - icrawler.crawler - starting 1 downloader threads...\n"
     ]
    },
    {
     "name": "stdout",
     "output_type": "stream",
     "text": [
      "Downloaded image for 'Rechargeable Electric Wheelchair' and saved as 'image/product/rechargeable_electric_wheelchair.jpg'\n"
     ]
    },
    {
     "name": "stderr",
     "output_type": "stream",
     "text": [
      "2025-02-10 16:31:24,729 - INFO - parser - downloaded image reached max num, thread parser-001 is ready to exit\n",
      "2025-02-10 16:31:24,731 - INFO - parser - thread parser-001 exit\n",
      "2025-02-10 16:31:25,323 - INFO - parser - parsing result page https://www.bing.com/images/async?q=Standard Manual Wheelchair&first=0\n",
      "2025-02-10 16:31:25,946 - INFO - downloader - image #1\thttps://cdn.shopify.com/s/files/1/1749/7193/products/Invacare-Standard-Wheelchair---Black_1678f6db-6af9-41df-bd18-9ffd5b6e8bcb.jpg\n",
      "2025-02-10 16:31:28,703 - INFO - downloader - downloaded images reach max num, thread downloader-001 is ready to exit\n",
      "2025-02-10 16:31:28,704 - INFO - downloader - thread downloader-001 exit\n",
      "2025-02-10 16:31:29,436 - INFO - icrawler.crawler - Crawling task done!\n",
      "2025-02-10 16:31:29,438 - INFO - icrawler.crawler - start crawling...\n",
      "2025-02-10 16:31:29,439 - INFO - icrawler.crawler - starting 1 feeder threads...\n",
      "2025-02-10 16:31:29,440 - INFO - feeder - thread feeder-001 exit\n",
      "2025-02-10 16:31:29,440 - INFO - icrawler.crawler - starting 1 parser threads...\n",
      "2025-02-10 16:31:29,444 - INFO - icrawler.crawler - starting 1 downloader threads...\n"
     ]
    },
    {
     "name": "stdout",
     "output_type": "stream",
     "text": [
      "Downloaded image for 'Standard Manual Wheelchair' and saved as 'image/product/standard_manual_wheelchair.jpg'\n"
     ]
    },
    {
     "name": "stderr",
     "output_type": "stream",
     "text": [
      "2025-02-10 16:31:29,951 - INFO - parser - downloaded image reached max num, thread parser-001 is ready to exit\n",
      "2025-02-10 16:31:29,952 - INFO - parser - thread parser-001 exit\n",
      "2025-02-10 16:31:30,465 - INFO - parser - parsing result page https://www.bing.com/images/async?q=Lightweight Manual Wheelchair&first=0\n",
      "2025-02-10 16:31:32,387 - INFO - downloader - image #1\thttps://www.alimed.com/_resources/cache/images/product/712406_1000x1000-pad.jpg\n",
      "2025-02-10 16:31:33,022 - INFO - downloader - downloaded images reach max num, thread downloader-001 is ready to exit\n",
      "2025-02-10 16:31:33,023 - INFO - downloader - thread downloader-001 exit\n",
      "2025-02-10 16:31:33,448 - INFO - icrawler.crawler - Crawling task done!\n",
      "2025-02-10 16:31:33,451 - INFO - icrawler.crawler - start crawling...\n",
      "2025-02-10 16:31:33,452 - INFO - icrawler.crawler - starting 1 feeder threads...\n",
      "2025-02-10 16:31:33,453 - INFO - feeder - thread feeder-001 exit\n",
      "2025-02-10 16:31:33,454 - INFO - icrawler.crawler - starting 1 parser threads...\n",
      "2025-02-10 16:31:33,457 - INFO - icrawler.crawler - starting 1 downloader threads...\n",
      "2025-02-10 16:31:33,519 - INFO - parser - downloaded image reached max num, thread parser-001 is ready to exit\n",
      "2025-02-10 16:31:33,520 - INFO - parser - thread parser-001 exit\n"
     ]
    },
    {
     "name": "stdout",
     "output_type": "stream",
     "text": [
      "Downloaded image for 'Lightweight Manual Wheelchair' and saved as 'image/product/lightweight_manual_wheelchair.jpg'\n"
     ]
    },
    {
     "name": "stderr",
     "output_type": "stream",
     "text": [
      "2025-02-10 16:31:34,561 - INFO - parser - parsing result page https://www.bing.com/images/async?q=Reclining Comfort Wheelchair&first=0\n",
      "2025-02-10 16:31:35,473 - INFO - downloader - image #1\thttps://www.1800wheelchair.com/media/catalog/product/cache/1/image/140720ac20424209c6bb28e1b7731856/k/m/km-5000-2.jpg\n",
      "2025-02-10 16:31:36,381 - INFO - downloader - downloaded images reach max num, thread downloader-001 is ready to exit\n",
      "2025-02-10 16:31:36,382 - INFO - downloader - thread downloader-001 exit\n",
      "2025-02-10 16:31:36,460 - INFO - icrawler.crawler - Crawling task done!\n",
      "2025-02-10 16:31:36,463 - INFO - icrawler.crawler - start crawling...\n",
      "2025-02-10 16:31:36,464 - INFO - icrawler.crawler - starting 1 feeder threads...\n",
      "2025-02-10 16:31:36,465 - INFO - feeder - thread feeder-001 exit\n",
      "2025-02-10 16:31:36,465 - INFO - icrawler.crawler - starting 1 parser threads...\n",
      "2025-02-10 16:31:36,469 - INFO - icrawler.crawler - starting 1 downloader threads...\n",
      "2025-02-10 16:31:36,476 - INFO - parser - downloaded image reached max num, thread parser-001 is ready to exit\n",
      "2025-02-10 16:31:36,477 - INFO - parser - thread parser-001 exit\n"
     ]
    },
    {
     "name": "stdout",
     "output_type": "stream",
     "text": [
      "Downloaded image for 'Reclining Comfort Wheelchair' and saved as 'image/product/reclining_comfort_wheelchair.jpg'\n"
     ]
    },
    {
     "name": "stderr",
     "output_type": "stream",
     "text": [
      "2025-02-10 16:31:37,296 - INFO - parser - parsing result page https://www.bing.com/images/async?q=Luxury Reclining Wheelchair&first=0\n",
      "2025-02-10 16:31:38,169 - INFO - downloader - image #1\thttps://image.made-in-china.com/2f0j00aqZcAuChMkby/Ksm-311-Luxury-Electric-Reclining-High-Back-Power-Wheelchair-Stand-up-Height-Adjustable-E-Mobility-Wheelchairs.jpg\n",
      "2025-02-10 16:31:38,324 - INFO - downloader - downloaded images reach max num, thread downloader-001 is ready to exit\n",
      "2025-02-10 16:31:38,325 - INFO - downloader - thread downloader-001 exit\n",
      "2025-02-10 16:31:38,473 - INFO - icrawler.crawler - Crawling task done!\n",
      "2025-02-10 16:31:38,475 - INFO - icrawler.crawler - start crawling...\n",
      "2025-02-10 16:31:38,476 - INFO - icrawler.crawler - starting 1 feeder threads...\n",
      "2025-02-10 16:31:38,477 - INFO - feeder - thread feeder-001 exit\n",
      "2025-02-10 16:31:38,477 - INFO - icrawler.crawler - starting 1 parser threads...\n",
      "2025-02-10 16:31:38,481 - INFO - icrawler.crawler - starting 1 downloader threads...\n"
     ]
    },
    {
     "name": "stdout",
     "output_type": "stream",
     "text": [
      "Downloaded image for 'Luxury Reclining Wheelchair' and saved as 'image/product/luxury_reclining_wheelchair.jpg'\n"
     ]
    },
    {
     "name": "stderr",
     "output_type": "stream",
     "text": [
      "2025-02-10 16:31:39,172 - INFO - parser - downloaded image reached max num, thread parser-001 is ready to exit\n",
      "2025-02-10 16:31:39,173 - INFO - parser - thread parser-001 exit\n",
      "2025-02-10 16:31:39,325 - INFO - parser - parsing result page https://www.bing.com/images/async?q=Hardcover Medical Research Notebook&first=0\n",
      "2025-02-10 16:31:40,063 - ERROR - downloader - Response status code 418, file https://snco.com/wp-content/uploads/2019/12/11-1-scaled-1536x1536.jpg\n",
      "2025-02-10 16:31:40,386 - ERROR - downloader - Response status code 418, file https://snco.com/wp-content/uploads/2019/12/02-scaled.jpg\n",
      "2025-02-10 16:31:40,762 - ERROR - downloader - Response status code 418, file https://snco.com/wp-content/uploads/2019/12/01-2.jpg\n",
      "2025-02-10 16:31:40,972 - ERROR - downloader - Response status code 418, file https://snco.com/wp-content/uploads/2019/12/black3.jpg\n",
      "2025-02-10 16:31:41,213 - ERROR - downloader - Response status code 418, file https://snco.com/wp-content/uploads/2019/12/26-scaled.jpg\n",
      "2025-02-10 16:31:41,406 - ERROR - downloader - Response status code 418, file https://snco.com/wp-content/uploads/2019/12/04-1-scaled.jpg\n",
      "2025-02-10 16:31:41,717 - ERROR - downloader - Response status code 418, file https://snco.com/wp-content/uploads/2019/12/21-2048x2048.jpg\n",
      "2025-02-10 16:31:41,920 - ERROR - downloader - Response status code 418, file https://snco.com/wp-content/uploads/2019/12/Spiral-Notebook-Big-1.jpg\n",
      "2025-02-10 16:31:42,515 - INFO - downloader - image #1\thttps://i.etsystatic.com/39107128/r/il/cc95b5/5891864710/il_300x300.5891864710_luxc.jpg\n",
      "2025-02-10 16:31:42,830 - INFO - downloader - downloaded images reach max num, thread downloader-001 is ready to exit\n",
      "2025-02-10 16:31:42,831 - INFO - downloader - thread downloader-001 exit\n",
      "2025-02-10 16:31:43,484 - INFO - icrawler.crawler - Crawling task done!\n",
      "2025-02-10 16:31:43,497 - INFO - icrawler.crawler - start crawling...\n",
      "2025-02-10 16:31:43,498 - INFO - icrawler.crawler - starting 1 feeder threads...\n",
      "2025-02-10 16:31:43,501 - INFO - feeder - thread feeder-001 exit\n",
      "2025-02-10 16:31:43,501 - INFO - icrawler.crawler - starting 1 parser threads...\n",
      "2025-02-10 16:31:43,504 - INFO - icrawler.crawler - starting 1 downloader threads...\n",
      "2025-02-10 16:31:43,518 - INFO - parser - downloaded image reached max num, thread parser-001 is ready to exit\n",
      "2025-02-10 16:31:43,519 - INFO - parser - thread parser-001 exit\n"
     ]
    },
    {
     "name": "stdout",
     "output_type": "stream",
     "text": [
      "Downloaded image for 'Hardcover Medical Research Notebook' and saved as 'image/product/hardcover_medical_notebook.jpg'\n"
     ]
    },
    {
     "name": "stderr",
     "output_type": "stream",
     "text": [
      "2025-02-10 16:31:44,798 - INFO - parser - parsing result page https://www.bing.com/images/async?q=A5 Medical Journal&first=0\n",
      "2025-02-10 16:31:45,568 - INFO - downloader - image #1\thttps://m.media-amazon.com/images/I/81O9TgmvW5L._AC_.jpg\n",
      "2025-02-10 16:31:45,915 - INFO - downloader - downloaded images reach max num, thread downloader-001 is ready to exit\n",
      "2025-02-10 16:31:45,916 - INFO - downloader - thread downloader-001 exit\n",
      "2025-02-10 16:31:46,507 - INFO - icrawler.crawler - Crawling task done!\n",
      "2025-02-10 16:31:46,510 - INFO - icrawler.crawler - start crawling...\n",
      "2025-02-10 16:31:46,511 - INFO - icrawler.crawler - starting 1 feeder threads...\n",
      "2025-02-10 16:31:46,513 - INFO - feeder - thread feeder-001 exit\n",
      "2025-02-10 16:31:46,514 - INFO - icrawler.crawler - starting 1 parser threads...\n",
      "2025-02-10 16:31:46,517 - INFO - icrawler.crawler - starting 1 downloader threads...\n",
      "2025-02-10 16:31:46,572 - INFO - parser - downloaded image reached max num, thread parser-001 is ready to exit\n",
      "2025-02-10 16:31:46,574 - INFO - parser - thread parser-001 exit\n"
     ]
    },
    {
     "name": "stdout",
     "output_type": "stream",
     "text": [
      "Downloaded image for 'A5 Medical Journal' and saved as 'image/product/a5_medical_journal.jpg'\n"
     ]
    },
    {
     "name": "stderr",
     "output_type": "stream",
     "text": [
      "2025-02-10 16:31:47,632 - INFO - parser - parsing result page https://www.bing.com/images/async?q=Pocket Medical Notebook&first=0\n",
      "2025-02-10 16:31:48,581 - INFO - downloader - image #1\thttps://d1mhq73dsagkr8.cloudfront.net/media/product/0/5/1678246639_05.jpg\n",
      "2025-02-10 16:31:50,202 - INFO - downloader - downloaded images reach max num, thread downloader-001 is ready to exit\n",
      "2025-02-10 16:31:50,203 - INFO - downloader - thread downloader-001 exit\n",
      "2025-02-10 16:31:50,522 - INFO - icrawler.crawler - Crawling task done!\n",
      "2025-02-10 16:31:50,524 - INFO - icrawler.crawler - start crawling...\n",
      "2025-02-10 16:31:50,525 - INFO - icrawler.crawler - starting 1 feeder threads...\n",
      "2025-02-10 16:31:50,526 - INFO - feeder - thread feeder-001 exit\n",
      "2025-02-10 16:31:50,526 - INFO - icrawler.crawler - starting 1 parser threads...\n",
      "2025-02-10 16:31:50,531 - INFO - icrawler.crawler - starting 1 downloader threads...\n",
      "2025-02-10 16:31:50,585 - INFO - parser - downloaded image reached max num, thread parser-001 is ready to exit\n",
      "2025-02-10 16:31:50,587 - INFO - parser - thread parser-001 exit\n"
     ]
    },
    {
     "name": "stdout",
     "output_type": "stream",
     "text": [
      "Downloaded image for 'Pocket Medical Notebook' and saved as 'image/product/pocket_medical_notebook.jpg'\n"
     ]
    },
    {
     "name": "stderr",
     "output_type": "stream",
     "text": [
      "2025-02-10 16:31:51,751 - INFO - parser - parsing result page https://www.bing.com/images/async?q=Compact Pocket Notebook&first=0\n",
      "2025-02-10 16:31:52,492 - INFO - downloader - image #1\thttps://m.media-amazon.com/images/I/71YdcI2KmHL._SL1500_.jpg\n",
      "2025-02-10 16:31:52,910 - INFO - downloader - downloaded images reach max num, thread downloader-001 is ready to exit\n",
      "2025-02-10 16:31:52,911 - INFO - downloader - thread downloader-001 exit\n",
      "2025-02-10 16:31:53,533 - INFO - icrawler.crawler - Crawling task done!\n",
      "2025-02-10 16:31:53,535 - INFO - icrawler.crawler - start crawling...\n",
      "2025-02-10 16:31:53,536 - INFO - icrawler.crawler - starting 1 feeder threads...\n",
      "2025-02-10 16:31:53,541 - INFO - feeder - thread feeder-001 exit\n",
      "2025-02-10 16:31:53,542 - INFO - icrawler.crawler - starting 1 parser threads...\n",
      "2025-02-10 16:31:53,544 - INFO - icrawler.crawler - starting 1 downloader threads...\n"
     ]
    },
    {
     "name": "stdout",
     "output_type": "stream",
     "text": [
      "Downloaded image for 'Compact Pocket Notebook' and saved as 'image/product/compact_pocket_notebook.jpg'\n"
     ]
    },
    {
     "name": "stderr",
     "output_type": "stream",
     "text": [
      "2025-02-10 16:31:54,496 - INFO - parser - downloaded image reached max num, thread parser-001 is ready to exit\n",
      "2025-02-10 16:31:54,497 - INFO - parser - thread parser-001 exit\n",
      "2025-02-10 16:31:55,038 - INFO - parser - parsing result page https://www.bing.com/images/async?q=Spiral Lab Notebook&first=0\n",
      "2025-02-10 16:31:55,830 - ERROR - downloader - Response status code 418, file https://snco.com/wp-content/uploads/2019/12/Spiral-Notebook-Big-1.jpg\n",
      "2025-02-10 16:31:56,740 - INFO - downloader - image #1\thttps://images-na.ssl-images-amazon.com/images/I/81kgilgomsL.jpg\n",
      "2025-02-10 16:31:58,458 - INFO - downloader - downloaded images reach max num, thread downloader-001 is ready to exit\n",
      "2025-02-10 16:31:58,460 - INFO - downloader - thread downloader-001 exit\n",
      "2025-02-10 16:31:58,550 - INFO - icrawler.crawler - Crawling task done!\n",
      "2025-02-10 16:31:58,553 - INFO - icrawler.crawler - start crawling...\n",
      "2025-02-10 16:31:58,553 - INFO - icrawler.crawler - starting 1 feeder threads...\n",
      "2025-02-10 16:31:58,554 - INFO - feeder - thread feeder-001 exit\n",
      "2025-02-10 16:31:58,555 - INFO - icrawler.crawler - starting 1 parser threads...\n",
      "2025-02-10 16:31:58,558 - INFO - icrawler.crawler - starting 1 downloader threads...\n",
      "2025-02-10 16:31:58,744 - INFO - parser - downloaded image reached max num, thread parser-001 is ready to exit\n",
      "2025-02-10 16:31:58,746 - INFO - parser - thread parser-001 exit\n"
     ]
    },
    {
     "name": "stdout",
     "output_type": "stream",
     "text": [
      "Downloaded image for 'Spiral Lab Notebook' and saved as 'image/product/spiral_lab_notebook.jpg'\n"
     ]
    },
    {
     "name": "stderr",
     "output_type": "stream",
     "text": [
      "2025-02-10 16:31:59,707 - INFO - parser - parsing result page https://www.bing.com/images/async?q=Scientific Lab Notebook&first=0\n",
      "2025-02-10 16:32:00,413 - ERROR - downloader - Response status code 418, file https://snco.com/wp-content/uploads/2019/12/02-scaled.jpg\n",
      "2025-02-10 16:32:00,596 - ERROR - downloader - Response status code 418, file https://snco.com/wp-content/uploads/2019/12/13-1-scaled-2048x2048.jpg\n",
      "2025-02-10 16:32:00,950 - ERROR - downloader - Response status code 418, file https://snco.com/wp-content/uploads/2019/12/11-1-scaled.jpg\n",
      "2025-02-10 16:32:02,596 - INFO - downloader - image #1\thttp://prodimage.images-bn.com/pimages/9781976445446_p0_v1_s1200x630.jpg\n",
      "2025-02-10 16:32:03,517 - INFO - downloader - downloaded images reach max num, thread downloader-001 is ready to exit\n",
      "2025-02-10 16:32:03,518 - INFO - downloader - thread downloader-001 exit\n",
      "2025-02-10 16:32:03,562 - INFO - icrawler.crawler - Crawling task done!\n",
      "2025-02-10 16:32:03,564 - INFO - icrawler.crawler - start crawling...\n",
      "2025-02-10 16:32:03,565 - INFO - icrawler.crawler - starting 1 feeder threads...\n",
      "2025-02-10 16:32:03,566 - INFO - feeder - thread feeder-001 exit\n",
      "2025-02-10 16:32:03,567 - INFO - icrawler.crawler - starting 1 parser threads...\n",
      "2025-02-10 16:32:03,570 - INFO - icrawler.crawler - starting 1 downloader threads...\n"
     ]
    },
    {
     "name": "stdout",
     "output_type": "stream",
     "text": [
      "Downloaded image for 'Scientific Lab Notebook' and saved as 'image/product/scientific_lab_notebook.jpg'\n"
     ]
    },
    {
     "name": "stderr",
     "output_type": "stream",
     "text": [
      "2025-02-10 16:32:03,953 - INFO - parser - downloaded image reached max num, thread parser-001 is ready to exit\n",
      "2025-02-10 16:32:03,954 - INFO - parser - thread parser-001 exit\n",
      "2025-02-10 16:32:05,086 - INFO - parser - parsing result page https://www.bing.com/images/async?q=Leather Pocket Journal&first=0\n",
      "2025-02-10 16:32:06,799 - INFO - downloader - image #1\thttps://cdn.shopify.com/s/files/1/2471/8942/products/2020-04-1714.48.37_2000x.jpg\n",
      "2025-02-10 16:32:08,438 - INFO - downloader - downloaded images reach max num, thread downloader-001 is ready to exit\n",
      "2025-02-10 16:32:08,439 - INFO - downloader - thread downloader-001 exit\n",
      "2025-02-10 16:32:08,575 - INFO - icrawler.crawler - Crawling task done!\n",
      "2025-02-10 16:32:08,578 - INFO - icrawler.crawler - start crawling...\n",
      "2025-02-10 16:32:08,579 - INFO - icrawler.crawler - starting 1 feeder threads...\n",
      "2025-02-10 16:32:08,580 - INFO - feeder - thread feeder-001 exit\n",
      "2025-02-10 16:32:08,581 - INFO - icrawler.crawler - starting 1 parser threads...\n",
      "2025-02-10 16:32:08,584 - INFO - icrawler.crawler - starting 1 downloader threads...\n"
     ]
    },
    {
     "name": "stdout",
     "output_type": "stream",
     "text": [
      "Downloaded image for 'Leather Pocket Journal' and saved as 'image/product/leather_pocket_journal.jpg'\n"
     ]
    },
    {
     "name": "stderr",
     "output_type": "stream",
     "text": [
      "2025-02-10 16:32:09,143 - INFO - parser - downloaded image reached max num, thread parser-001 is ready to exit\n",
      "2025-02-10 16:32:09,144 - INFO - parser - thread parser-001 exit\n",
      "2025-02-10 16:32:09,986 - INFO - parser - parsing result page https://www.bing.com/images/async?q=Mini Journal&first=0\n",
      "2025-02-10 16:32:10,934 - INFO - downloader - image #1\thttps://i.pinimg.com/originals/2d/b8/37/2db837b5177a430481d9df8f583147d4.jpg\n",
      "2025-02-10 16:32:12,532 - INFO - downloader - downloaded images reach max num, thread downloader-001 is ready to exit\n",
      "2025-02-10 16:32:12,533 - INFO - downloader - thread downloader-001 exit\n",
      "2025-02-10 16:32:12,588 - INFO - icrawler.crawler - Crawling task done!\n",
      "2025-02-10 16:32:12,591 - INFO - icrawler.crawler - start crawling...\n",
      "2025-02-10 16:32:12,592 - INFO - icrawler.crawler - starting 1 feeder threads...\n",
      "2025-02-10 16:32:12,593 - INFO - feeder - thread feeder-001 exit\n",
      "2025-02-10 16:32:12,594 - INFO - icrawler.crawler - starting 1 parser threads...\n",
      "2025-02-10 16:32:12,597 - INFO - icrawler.crawler - starting 1 downloader threads...\n"
     ]
    },
    {
     "name": "stdout",
     "output_type": "stream",
     "text": [
      "Downloaded image for 'Mini Journal' and saved as 'image/product/mini_journal.jpg'\n"
     ]
    },
    {
     "name": "stderr",
     "output_type": "stream",
     "text": [
      "2025-02-10 16:32:12,938 - INFO - parser - downloaded image reached max num, thread parser-001 is ready to exit\n",
      "2025-02-10 16:32:12,939 - INFO - parser - thread parser-001 exit\n",
      "2025-02-10 16:32:13,456 - INFO - parser - parsing result page https://www.bing.com/images/async?q=Adjustable Dumbbell Set (2-24 kg)&first=0\n",
      "2025-02-10 16:32:15,459 - INFO - downloader - image #1\thttps://ph-test-11.slatic.net/p/6acd0a6c75d2c864d7ce853c2f877ead.jpg\n",
      "2025-02-10 16:32:15,891 - INFO - downloader - downloaded images reach max num, thread downloader-001 is ready to exit\n",
      "2025-02-10 16:32:15,893 - INFO - downloader - thread downloader-001 exit\n",
      "2025-02-10 16:32:16,604 - INFO - icrawler.crawler - Crawling task done!\n",
      "2025-02-10 16:32:16,607 - INFO - icrawler.crawler - start crawling...\n",
      "2025-02-10 16:32:16,608 - INFO - icrawler.crawler - starting 1 feeder threads...\n",
      "2025-02-10 16:32:16,610 - INFO - feeder - thread feeder-001 exit\n",
      "2025-02-10 16:32:16,611 - INFO - icrawler.crawler - starting 1 parser threads...\n",
      "2025-02-10 16:32:16,615 - INFO - icrawler.crawler - starting 1 downloader threads...\n"
     ]
    },
    {
     "name": "stdout",
     "output_type": "stream",
     "text": [
      "Downloaded image for 'Adjustable Dumbbell Set (2-24 kg)' and saved as 'image/product/adjustable_dumbbell_set.jpg'\n"
     ]
    },
    {
     "name": "stderr",
     "output_type": "stream",
     "text": [
      "2025-02-10 16:32:17,511 - INFO - parser - downloaded image reached max num, thread parser-001 is ready to exit\n",
      "2025-02-10 16:32:17,512 - INFO - parser - thread parser-001 exit\n",
      "2025-02-10 16:32:17,557 - INFO - parser - parsing result page https://www.bing.com/images/async?q=Compact Adjustable Dumbbell&first=0\n",
      "2025-02-10 16:32:19,276 - INFO - downloader - image #1\thttps://www.gymreadyequipment.com/wp-content/uploads/2021/05/Bayou-Fitness-25-LB-Pair-Dumbbells-Adjustable-Dumbbell-Set-25-lb-Adjustable-Weight-Pair-Adjustable-Weights-Dumbbell-Space-Saving-Compact-2.jpg\n",
      "2025-02-10 16:32:20,155 - INFO - downloader - downloaded images reach max num, thread downloader-001 is ready to exit\n",
      "2025-02-10 16:32:20,156 - INFO - downloader - thread downloader-001 exit\n",
      "2025-02-10 16:32:20,620 - INFO - icrawler.crawler - Crawling task done!\n",
      "2025-02-10 16:32:20,623 - INFO - icrawler.crawler - start crawling...\n",
      "2025-02-10 16:32:20,624 - INFO - icrawler.crawler - starting 1 feeder threads...\n",
      "2025-02-10 16:32:20,625 - INFO - feeder - thread feeder-001 exit\n",
      "2025-02-10 16:32:20,626 - INFO - icrawler.crawler - starting 1 parser threads...\n",
      "2025-02-10 16:32:20,630 - INFO - icrawler.crawler - starting 1 downloader threads...\n"
     ]
    },
    {
     "name": "stdout",
     "output_type": "stream",
     "text": [
      "Downloaded image for 'Compact Adjustable Dumbbell' and saved as 'image/product/compact_adjustable_dumbbell.jpg'\n"
     ]
    },
    {
     "name": "stderr",
     "output_type": "stream",
     "text": [
      "2025-02-10 16:32:21,527 - INFO - parser - parsing result page https://www.bing.com/images/async?q=Hex Dumbbell Set&first=0\n",
      "2025-02-10 16:32:21,613 - INFO - parser - downloaded image reached max num, thread parser-001 is ready to exit\n",
      "2025-02-10 16:32:21,615 - INFO - parser - thread parser-001 exit\n",
      "2025-02-10 16:32:22,992 - INFO - downloader - image #1\thttps://www.gymreadyequipment.com/wp-content/uploads/2021/05/Epic-Fitness-150-Pound-Hex-Dumbbell-Set-with-Heavy-Duty-A-Frame-Rack-1-963x1024.jpg\n",
      "2025-02-10 16:32:24,279 - INFO - downloader - downloaded images reach max num, thread downloader-001 is ready to exit\n",
      "2025-02-10 16:32:24,281 - INFO - downloader - thread downloader-001 exit\n",
      "2025-02-10 16:32:24,635 - INFO - icrawler.crawler - Crawling task done!\n",
      "2025-02-10 16:32:24,638 - INFO - icrawler.crawler - start crawling...\n",
      "2025-02-10 16:32:24,639 - INFO - icrawler.crawler - starting 1 feeder threads...\n",
      "2025-02-10 16:32:24,640 - INFO - feeder - thread feeder-001 exit\n",
      "2025-02-10 16:32:24,641 - INFO - icrawler.crawler - starting 1 parser threads...\n",
      "2025-02-10 16:32:24,644 - INFO - icrawler.crawler - starting 1 downloader threads...\n"
     ]
    },
    {
     "name": "stdout",
     "output_type": "stream",
     "text": [
      "Downloaded image for 'Hex Dumbbell Set' and saved as 'image/product/hex_dumbbell_set.jpg'\n"
     ]
    },
    {
     "name": "stderr",
     "output_type": "stream",
     "text": [
      "2025-02-10 16:32:25,530 - INFO - parser - parsing result page https://www.bing.com/images/async?q=Single Hex Dumbbell&first=0\n",
      "2025-02-10 16:32:25,552 - INFO - parser - downloaded image reached max num, thread parser-001 is ready to exit\n",
      "2025-02-10 16:32:25,554 - INFO - parser - thread parser-001 exit\n",
      "2025-02-10 16:32:27,679 - INFO - downloader - image #1\thttp://hirakraja.com/417-large_default/rubber-hex-dumbbell-single.jpg\n",
      "2025-02-10 16:32:28,560 - INFO - downloader - downloaded images reach max num, thread downloader-001 is ready to exit\n",
      "2025-02-10 16:32:28,562 - INFO - downloader - thread downloader-001 exit\n",
      "2025-02-10 16:32:28,648 - INFO - icrawler.crawler - Crawling task done!\n",
      "2025-02-10 16:32:28,651 - INFO - icrawler.crawler - start crawling...\n",
      "2025-02-10 16:32:28,652 - INFO - icrawler.crawler - starting 1 feeder threads...\n",
      "2025-02-10 16:32:28,654 - INFO - feeder - thread feeder-001 exit\n",
      "2025-02-10 16:32:28,655 - INFO - icrawler.crawler - starting 1 parser threads...\n",
      "2025-02-10 16:32:28,658 - INFO - icrawler.crawler - starting 1 downloader threads...\n",
      "2025-02-10 16:32:28,683 - INFO - parser - downloaded image reached max num, thread parser-001 is ready to exit\n",
      "2025-02-10 16:32:28,684 - INFO - parser - thread parser-001 exit\n"
     ]
    },
    {
     "name": "stdout",
     "output_type": "stream",
     "text": [
      "Downloaded image for 'Single Hex Dumbbell' and saved as 'image/product/single_hex_dumbbell.jpg'\n"
     ]
    },
    {
     "name": "stderr",
     "output_type": "stream",
     "text": [
      "2025-02-10 16:32:30,070 - INFO - parser - parsing result page https://www.bing.com/images/async?q=Rubber-coated Dumbbell Pair&first=0\n",
      "2025-02-10 16:32:31,161 - INFO - downloader - image #1\thttps://fitnessrest.com/wp-content/uploads/2021/01/41IJIMuirqL.jpg\n",
      "2025-02-10 16:32:32,292 - INFO - downloader - downloaded images reach max num, thread downloader-001 is ready to exit\n",
      "2025-02-10 16:32:32,293 - INFO - downloader - thread downloader-001 exit\n",
      "2025-02-10 16:32:32,662 - INFO - icrawler.crawler - Crawling task done!\n",
      "2025-02-10 16:32:32,665 - INFO - icrawler.crawler - start crawling...\n",
      "2025-02-10 16:32:32,666 - INFO - icrawler.crawler - starting 1 feeder threads...\n",
      "2025-02-10 16:32:32,667 - INFO - feeder - thread feeder-001 exit\n",
      "2025-02-10 16:32:32,669 - INFO - icrawler.crawler - starting 1 parser threads...\n",
      "2025-02-10 16:32:32,672 - INFO - icrawler.crawler - starting 1 downloader threads...\n"
     ]
    },
    {
     "name": "stdout",
     "output_type": "stream",
     "text": [
      "Downloaded image for 'Rubber-coated Dumbbell Pair' and saved as 'image/product/rubber_coated_dumbbell_pair.jpg'\n"
     ]
    },
    {
     "name": "stderr",
     "output_type": "stream",
     "text": [
      "2025-02-10 16:32:33,125 - INFO - parser - downloaded image reached max num, thread parser-001 is ready to exit\n",
      "2025-02-10 16:32:33,126 - INFO - parser - thread parser-001 exit\n",
      "2025-02-10 16:32:33,871 - INFO - parser - parsing result page https://www.bing.com/images/async?q=Set of Rubber-coated Dumbbells&first=0\n",
      "2025-02-10 16:32:36,482 - INFO - downloader - image #1\thttps://www.fitnessemporium.com/wp-content/uploads/2020/04/61BQqslQdKL._AC_SL1001_.jpg\n",
      "2025-02-10 16:32:37,456 - INFO - downloader - downloaded images reach max num, thread downloader-001 is ready to exit\n",
      "2025-02-10 16:32:37,458 - INFO - downloader - thread downloader-001 exit\n",
      "2025-02-10 16:32:37,675 - INFO - icrawler.crawler - Crawling task done!\n",
      "2025-02-10 16:32:37,678 - INFO - icrawler.crawler - start crawling...\n",
      "2025-02-10 16:32:37,679 - INFO - icrawler.crawler - starting 1 feeder threads...\n",
      "2025-02-10 16:32:37,681 - INFO - feeder - thread feeder-001 exit\n",
      "2025-02-10 16:32:37,681 - INFO - icrawler.crawler - starting 1 parser threads...\n",
      "2025-02-10 16:32:37,683 - INFO - icrawler.crawler - starting 1 downloader threads...\n"
     ]
    },
    {
     "name": "stdout",
     "output_type": "stream",
     "text": [
      "Downloaded image for 'Set of Rubber-coated Dumbbells' and saved as 'image/product/rubber_coated_dumbbell_set.jpg'\n"
     ]
    },
    {
     "name": "stderr",
     "output_type": "stream",
     "text": [
      "2025-02-10 16:32:38,485 - INFO - parser - downloaded image reached max num, thread parser-001 is ready to exit\n",
      "2025-02-10 16:32:38,486 - INFO - parser - thread parser-001 exit\n",
      "2025-02-10 16:32:38,755 - INFO - parser - parsing result page https://www.bing.com/images/async?q=Vinyl Dumbbell Pair&first=0\n",
      "2025-02-10 16:32:40,387 - INFO - downloader - image #1\thttps://www.gymmart.com.au/assets/full/NT163-PVC-6.jpg\n",
      "2025-02-10 16:32:41,106 - INFO - downloader - downloaded images reach max num, thread downloader-001 is ready to exit\n",
      "2025-02-10 16:32:41,107 - INFO - downloader - thread downloader-001 exit\n",
      "2025-02-10 16:32:41,689 - INFO - icrawler.crawler - Crawling task done!\n",
      "2025-02-10 16:32:41,691 - INFO - icrawler.crawler - start crawling...\n",
      "2025-02-10 16:32:41,692 - INFO - icrawler.crawler - starting 1 feeder threads...\n",
      "2025-02-10 16:32:41,694 - INFO - feeder - thread feeder-001 exit\n",
      "2025-02-10 16:32:41,694 - INFO - icrawler.crawler - starting 1 parser threads...\n",
      "2025-02-10 16:32:41,698 - INFO - icrawler.crawler - starting 1 downloader threads...\n",
      "2025-02-10 16:32:41,808 - INFO - parser - downloaded image reached max num, thread parser-001 is ready to exit\n",
      "2025-02-10 16:32:41,809 - INFO - parser - thread parser-001 exit\n"
     ]
    },
    {
     "name": "stdout",
     "output_type": "stream",
     "text": [
      "Downloaded image for 'Vinyl Dumbbell Pair' and saved as 'image/product/vinyl_dumbbell_pair.jpg'\n"
     ]
    },
    {
     "name": "stderr",
     "output_type": "stream",
     "text": [
      "2025-02-10 16:32:42,739 - INFO - parser - parsing result page https://www.bing.com/images/async?q=Set of Vinyl Dumbbells&first=0\n",
      "2025-02-10 16:32:43,936 - INFO - downloader - image #1\thttps://www.just-rackets.co.uk/images/product/full/960010_VinylHantelset_1-2.jpg\n",
      "2025-02-10 16:32:46,930 - INFO - downloader - downloaded images reach max num, thread downloader-001 is ready to exit\n",
      "2025-02-10 16:32:46,931 - INFO - downloader - thread downloader-001 exit\n",
      "2025-02-10 16:32:47,703 - INFO - icrawler.crawler - Crawling task done!\n",
      "2025-02-10 16:32:47,706 - INFO - icrawler.crawler - start crawling...\n",
      "2025-02-10 16:32:47,707 - INFO - icrawler.crawler - starting 1 feeder threads...\n",
      "2025-02-10 16:32:47,709 - INFO - feeder - thread feeder-001 exit\n",
      "2025-02-10 16:32:47,710 - INFO - icrawler.crawler - starting 1 parser threads...\n",
      "2025-02-10 16:32:47,712 - INFO - icrawler.crawler - starting 1 downloader threads...\n",
      "2025-02-10 16:32:47,811 - INFO - parser - downloaded image reached max num, thread parser-001 is ready to exit\n",
      "2025-02-10 16:32:47,814 - INFO - parser - thread parser-001 exit\n"
     ]
    },
    {
     "name": "stdout",
     "output_type": "stream",
     "text": [
      "Downloaded image for 'Set of Vinyl Dumbbells' and saved as 'image/product/vinyl_dumbbell_set.jpg'\n"
     ]
    },
    {
     "name": "stderr",
     "output_type": "stream",
     "text": [
      "2025-02-10 16:32:48,878 - INFO - parser - parsing result page https://www.bing.com/images/async?q=Non-Contact Infrared Thermometer&first=0\n",
      "2025-02-10 16:32:51,234 - INFO - downloader - image #1\thttps://www.pearsondental.com/catalog/img_ext/z190120_Item_Side_Held.jpg\n",
      "2025-02-10 16:32:53,477 - INFO - downloader - downloaded images reach max num, thread downloader-001 is ready to exit\n",
      "2025-02-10 16:32:53,477 - INFO - downloader - thread downloader-001 exit\n",
      "2025-02-10 16:32:53,814 - INFO - icrawler.crawler - Crawling task done!\n",
      "2025-02-10 16:32:53,816 - INFO - icrawler.crawler - start crawling...\n",
      "2025-02-10 16:32:53,818 - INFO - icrawler.crawler - starting 1 feeder threads...\n",
      "2025-02-10 16:32:53,820 - INFO - feeder - thread feeder-001 exit\n",
      "2025-02-10 16:32:53,820 - INFO - icrawler.crawler - starting 1 parser threads...\n",
      "2025-02-10 16:32:53,825 - INFO - icrawler.crawler - starting 1 downloader threads...\n"
     ]
    },
    {
     "name": "stdout",
     "output_type": "stream",
     "text": [
      "Downloaded image for 'Non-Contact Infrared Thermometer' and saved as 'image/product/non_contact_infrared_thermometer.jpg'\n"
     ]
    },
    {
     "name": "stderr",
     "output_type": "stream",
     "text": [
      "2025-02-10 16:32:54,238 - INFO - parser - downloaded image reached max num, thread parser-001 is ready to exit\n",
      "2025-02-10 16:32:54,239 - INFO - parser - thread parser-001 exit\n",
      "2025-02-10 16:32:54,920 - INFO - parser - parsing result page https://www.bing.com/images/async?q=Infrared Thermometer with Laser Guide&first=0\n",
      "2025-02-10 16:32:56,770 - INFO - downloader - image #1\thttps://www.mitchellinstrument.com/media/catalog/product/cache/f786674a64f97061e04b793b6e166933/l/u/lutron-tm-969-hand.jpg\n",
      "2025-02-10 16:32:58,187 - INFO - downloader - downloaded images reach max num, thread downloader-001 is ready to exit\n",
      "2025-02-10 16:32:58,189 - INFO - downloader - thread downloader-001 exit\n",
      "2025-02-10 16:32:58,826 - INFO - icrawler.crawler - Crawling task done!\n",
      "2025-02-10 16:32:58,828 - INFO - icrawler.crawler - start crawling...\n",
      "2025-02-10 16:32:58,829 - INFO - icrawler.crawler - starting 1 feeder threads...\n",
      "2025-02-10 16:32:58,831 - INFO - feeder - thread feeder-001 exit\n",
      "2025-02-10 16:32:58,831 - INFO - icrawler.crawler - starting 1 parser threads...\n",
      "2025-02-10 16:32:58,834 - INFO - icrawler.crawler - starting 1 downloader threads...\n",
      "2025-02-10 16:32:58,944 - INFO - parser - downloaded image reached max num, thread parser-001 is ready to exit\n",
      "2025-02-10 16:32:58,945 - INFO - parser - thread parser-001 exit\n"
     ]
    },
    {
     "name": "stdout",
     "output_type": "stream",
     "text": [
      "Downloaded image for 'Infrared Thermometer with Laser Guide' and saved as 'image/product/laser_infrared_thermometer.jpg'\n"
     ]
    },
    {
     "name": "stderr",
     "output_type": "stream",
     "text": [
      "2025-02-10 16:32:59,754 - INFO - parser - parsing result page https://www.bing.com/images/async?q=Digital Oral Thermometer&first=0\n",
      "2025-02-10 16:33:00,596 - ERROR - downloader - Response status code 403, file https://athome.medline.com/media/catalog/product/cache/7018c0f431b5fb4345af92ab4b01d9b9/S/K/SKU_MDS9953_047_Outline_RGB.jpg\n",
      "2025-02-10 16:33:01,531 - INFO - downloader - image #1\thttps://www.dontwasteyourmoney.com/wp-content/uploads/2020/11/boncare-10s-digital-oral-thermometer-dark-blue-digital-thermometer.jpg\n",
      "2025-02-10 16:33:03,766 - INFO - downloader - downloaded images reach max num, thread downloader-001 is ready to exit\n",
      "2025-02-10 16:33:03,767 - INFO - downloader - thread downloader-001 exit\n",
      "2025-02-10 16:33:03,837 - INFO - icrawler.crawler - Crawling task done!\n",
      "2025-02-10 16:33:03,840 - INFO - icrawler.crawler - start crawling...\n",
      "2025-02-10 16:33:03,841 - INFO - icrawler.crawler - starting 1 feeder threads...\n",
      "2025-02-10 16:33:03,843 - INFO - feeder - thread feeder-001 exit\n",
      "2025-02-10 16:33:03,843 - INFO - icrawler.crawler - starting 1 parser threads...\n",
      "2025-02-10 16:33:03,847 - INFO - icrawler.crawler - starting 1 downloader threads...\n"
     ]
    },
    {
     "name": "stdout",
     "output_type": "stream",
     "text": [
      "Downloaded image for 'Digital Oral Thermometer' and saved as 'image/product/digital_oral_thermometer.jpg'\n"
     ]
    },
    {
     "name": "stderr",
     "output_type": "stream",
     "text": [
      "2025-02-10 16:33:04,536 - INFO - parser - downloaded image reached max num, thread parser-001 is ready to exit\n",
      "2025-02-10 16:33:04,537 - INFO - parser - thread parser-001 exit\n",
      "2025-02-10 16:33:04,635 - INFO - parser - parsing result page https://www.bing.com/images/async?q=Digital Ear Thermometer&first=0\n",
      "2025-02-10 16:33:05,669 - INFO - downloader - image #1\thttps://www.medicalsupplies.co.uk/user/products/large/drive-in-ear-digital-thermometer-with-lcd-display-3.jpg\n",
      "2025-02-10 16:33:06,906 - INFO - downloader - downloaded images reach max num, thread downloader-001 is ready to exit\n",
      "2025-02-10 16:33:06,907 - INFO - downloader - thread downloader-001 exit\n",
      "2025-02-10 16:33:07,674 - INFO - parser - downloaded image reached max num, thread parser-001 is ready to exit\n",
      "2025-02-10 16:33:07,674 - INFO - parser - thread parser-001 exit\n",
      "2025-02-10 16:33:07,852 - INFO - icrawler.crawler - Crawling task done!\n",
      "2025-02-10 16:33:07,856 - INFO - icrawler.crawler - start crawling...\n",
      "2025-02-10 16:33:07,857 - INFO - icrawler.crawler - starting 1 feeder threads...\n",
      "2025-02-10 16:33:07,858 - INFO - feeder - thread feeder-001 exit\n",
      "2025-02-10 16:33:07,859 - INFO - icrawler.crawler - starting 1 parser threads...\n",
      "2025-02-10 16:33:07,862 - INFO - icrawler.crawler - starting 1 downloader threads...\n"
     ]
    },
    {
     "name": "stdout",
     "output_type": "stream",
     "text": [
      "Downloaded image for 'Digital Ear Thermometer' and saved as 'image/product/digital_ear_thermometer.jpg'\n"
     ]
    },
    {
     "name": "stderr",
     "output_type": "stream",
     "text": [
      "2025-02-10 16:33:09,120 - INFO - parser - parsing result page https://www.bing.com/images/async?q=Classic Mercury Thermometer&first=0\n",
      "2025-02-10 16:33:09,703 - INFO - downloader - image #1\thttps://thumbs.dreamstime.com/b/classic-mercury-thermometer-measuring-ambient-temperature-hanging-outside-window-readings-minus-degrees-celsius-239710363.jpg\n",
      "2025-02-10 16:33:09,842 - INFO - downloader - downloaded images reach max num, thread downloader-001 is ready to exit\n",
      "2025-02-10 16:33:09,843 - INFO - downloader - thread downloader-001 exit\n",
      "2025-02-10 16:33:09,865 - INFO - icrawler.crawler - Crawling task done!\n",
      "2025-02-10 16:33:09,868 - INFO - icrawler.crawler - start crawling...\n",
      "2025-02-10 16:33:09,869 - INFO - icrawler.crawler - starting 1 feeder threads...\n",
      "2025-02-10 16:33:09,871 - INFO - feeder - thread feeder-001 exit\n",
      "2025-02-10 16:33:09,872 - INFO - icrawler.crawler - starting 1 parser threads...\n",
      "2025-02-10 16:33:09,874 - INFO - icrawler.crawler - starting 1 downloader threads...\n"
     ]
    },
    {
     "name": "stdout",
     "output_type": "stream",
     "text": [
      "Downloaded image for 'Classic Mercury Thermometer' and saved as 'image/product/classic_mercury_thermometer.jpg'\n"
     ]
    },
    {
     "name": "stderr",
     "output_type": "stream",
     "text": [
      "2025-02-10 16:33:10,706 - INFO - parser - downloaded image reached max num, thread parser-001 is ready to exit\n",
      "2025-02-10 16:33:10,707 - INFO - parser - thread parser-001 exit\n",
      "2025-02-10 16:33:11,713 - INFO - parser - parsing result page https://www.bing.com/images/async?q=Antique Mercury Thermometer&first=0\n",
      "2025-02-10 16:33:12,770 - INFO - downloader - image #1\thttps://cdn.shopify.com/s/files/1/0250/8550/products/Regency_Thermometer_by_Thomas_Rubergall_1.jpg\n",
      "2025-02-10 16:33:14,163 - INFO - downloader - downloaded images reach max num, thread downloader-001 is ready to exit\n",
      "2025-02-10 16:33:14,164 - INFO - downloader - thread downloader-001 exit\n",
      "2025-02-10 16:33:14,774 - INFO - parser - downloaded image reached max num, thread parser-001 is ready to exit\n",
      "2025-02-10 16:33:14,775 - INFO - parser - thread parser-001 exit\n",
      "2025-02-10 16:33:14,881 - INFO - icrawler.crawler - Crawling task done!\n",
      "2025-02-10 16:33:14,887 - INFO - icrawler.crawler - start crawling...\n",
      "2025-02-10 16:33:14,889 - INFO - icrawler.crawler - starting 1 feeder threads...\n",
      "2025-02-10 16:33:14,891 - INFO - feeder - thread feeder-001 exit\n",
      "2025-02-10 16:33:14,891 - INFO - icrawler.crawler - starting 1 parser threads...\n",
      "2025-02-10 16:33:14,894 - INFO - icrawler.crawler - starting 1 downloader threads...\n"
     ]
    },
    {
     "name": "stdout",
     "output_type": "stream",
     "text": [
      "Downloaded image for 'Antique Mercury Thermometer' and saved as 'image/product/antique_mercury_thermometer.jpg'\n"
     ]
    },
    {
     "name": "stderr",
     "output_type": "stream",
     "text": [
      "2025-02-10 16:33:16,119 - INFO - parser - parsing result page https://www.bing.com/images/async?q=Clinical Digital Thermometer&first=0\n",
      "2025-02-10 16:33:17,195 - INFO - downloader - image #1\thttps://cdn.images.fecom-media.com/B8A86654_A86654-PHE-MEA-P01.jpg\n",
      "2025-02-10 16:33:19,082 - INFO - downloader - downloaded images reach max num, thread downloader-001 is ready to exit\n",
      "2025-02-10 16:33:19,084 - INFO - downloader - thread downloader-001 exit\n",
      "2025-02-10 16:33:19,900 - INFO - icrawler.crawler - Crawling task done!\n",
      "2025-02-10 16:33:19,903 - INFO - icrawler.crawler - start crawling...\n",
      "2025-02-10 16:33:19,905 - INFO - icrawler.crawler - starting 1 feeder threads...\n",
      "2025-02-10 16:33:19,907 - INFO - feeder - thread feeder-001 exit\n",
      "2025-02-10 16:33:19,908 - INFO - icrawler.crawler - starting 1 parser threads...\n",
      "2025-02-10 16:33:19,911 - INFO - icrawler.crawler - starting 1 downloader threads...\n"
     ]
    },
    {
     "name": "stdout",
     "output_type": "stream",
     "text": [
      "Downloaded image for 'Clinical Digital Thermometer' and saved as 'image/product/clinical_digital_thermometer.jpg'\n"
     ]
    },
    {
     "name": "stderr",
     "output_type": "stream",
     "text": [
      "2025-02-10 16:33:20,147 - INFO - parser - downloaded image reached max num, thread parser-001 is ready to exit\n",
      "2025-02-10 16:33:20,148 - INFO - parser - thread parser-001 exit\n",
      "2025-02-10 16:33:21,015 - INFO - parser - parsing result page https://www.bing.com/images/async?q=Medical Clinical Thermometer&first=0\n",
      "2025-02-10 16:33:22,185 - INFO - downloader - image #1\thttps://m.media-amazon.com/images/I/711TA1qCEmL._AC_SL1500_.jpg\n",
      "2025-02-10 16:33:23,362 - INFO - downloader - downloaded images reach max num, thread downloader-001 is ready to exit\n",
      "2025-02-10 16:33:23,363 - INFO - downloader - thread downloader-001 exit\n",
      "2025-02-10 16:33:23,915 - INFO - icrawler.crawler - Crawling task done!\n",
      "2025-02-10 16:33:23,918 - INFO - icrawler.crawler - start crawling...\n",
      "2025-02-10 16:33:23,919 - INFO - icrawler.crawler - starting 1 feeder threads...\n",
      "2025-02-10 16:33:23,920 - INFO - feeder - thread feeder-001 exit\n",
      "2025-02-10 16:33:23,921 - INFO - icrawler.crawler - starting 1 parser threads...\n",
      "2025-02-10 16:33:23,925 - INFO - icrawler.crawler - starting 1 downloader threads...\n",
      "2025-02-10 16:33:24,072 - INFO - parser - downloaded image reached max num, thread parser-001 is ready to exit\n",
      "2025-02-10 16:33:24,073 - INFO - parser - thread parser-001 exit\n"
     ]
    },
    {
     "name": "stdout",
     "output_type": "stream",
     "text": [
      "Downloaded image for 'Medical Clinical Thermometer' and saved as 'image/product/medical_clinical_thermometer.jpg'\n"
     ]
    },
    {
     "name": "stderr",
     "output_type": "stream",
     "text": [
      "2025-02-10 16:33:24,899 - INFO - parser - parsing result page https://www.bing.com/images/async?q=Electronic Digital Stethoscope&first=0\n",
      "2025-02-10 16:33:26,715 - INFO - downloader - image #1\thttps://www.mystethoscope.com/image/cache/data/3100/3100-BK_xpkg01_rgb-850x1300.jpg\n",
      "2025-02-10 16:33:29,521 - INFO - downloader - downloaded images reach max num, thread downloader-001 is ready to exit\n",
      "2025-02-10 16:33:29,524 - INFO - downloader - thread downloader-001 exit\n",
      "2025-02-10 16:33:29,930 - INFO - icrawler.crawler - Crawling task done!\n",
      "2025-02-10 16:33:29,933 - INFO - icrawler.crawler - start crawling...\n",
      "2025-02-10 16:33:29,934 - INFO - icrawler.crawler - starting 1 feeder threads...\n",
      "2025-02-10 16:33:29,935 - INFO - feeder - thread feeder-001 exit\n",
      "2025-02-10 16:33:29,936 - INFO - icrawler.crawler - starting 1 parser threads...\n",
      "2025-02-10 16:33:29,940 - INFO - icrawler.crawler - starting 1 downloader threads...\n",
      "2025-02-10 16:33:29,957 - INFO - parser - downloaded image reached max num, thread parser-001 is ready to exit\n",
      "2025-02-10 16:33:29,958 - INFO - parser - thread parser-001 exit\n"
     ]
    },
    {
     "name": "stdout",
     "output_type": "stream",
     "text": [
      "Downloaded image for 'Electronic Digital Stethoscope' and saved as 'image/product/electronic_digital_stethoscope.jpg'\n"
     ]
    },
    {
     "name": "stderr",
     "output_type": "stream",
     "text": [
      "2025-02-10 16:33:30,872 - INFO - parser - parsing result page https://www.bing.com/images/async?q=Bluetooth Digital Stethoscope&first=0\n",
      "2025-02-10 16:33:33,210 - INFO - downloader - image #1\thttps://medsupplyna.com/wp-content/uploads/2023/01/New-Electronic-Medical-Bluetooth-Digital-Stethoscope-Wireless-Intelligent-Can-Be-Connected-To-Professional-Doctor-Estetoscopio-3.jpg\n",
      "2025-02-10 16:33:34,846 - INFO - downloader - downloaded images reach max num, thread downloader-001 is ready to exit\n",
      "2025-02-10 16:33:34,847 - INFO - downloader - thread downloader-001 exit\n",
      "2025-02-10 16:33:34,943 - INFO - icrawler.crawler - Crawling task done!\n",
      "2025-02-10 16:33:34,946 - INFO - icrawler.crawler - start crawling...\n",
      "2025-02-10 16:33:34,947 - INFO - icrawler.crawler - starting 1 feeder threads...\n",
      "2025-02-10 16:33:34,948 - INFO - feeder - thread feeder-001 exit\n",
      "2025-02-10 16:33:34,950 - INFO - icrawler.crawler - starting 1 parser threads...\n",
      "2025-02-10 16:33:34,952 - INFO - icrawler.crawler - starting 1 downloader threads...\n"
     ]
    },
    {
     "name": "stdout",
     "output_type": "stream",
     "text": [
      "Downloaded image for 'Bluetooth Digital Stethoscope' and saved as 'image/product/bluetooth_digital_stethoscope.jpg'\n"
     ]
    },
    {
     "name": "stderr",
     "output_type": "stream",
     "text": [
      "2025-02-10 16:33:35,214 - INFO - parser - downloaded image reached max num, thread parser-001 is ready to exit\n",
      "2025-02-10 16:33:35,215 - INFO - parser - thread parser-001 exit\n",
      "2025-02-10 16:33:36,027 - INFO - parser - parsing result page https://www.bing.com/images/async?q=Dual Head Acoustic Stethoscope&first=0\n",
      "2025-02-10 16:33:37,331 - INFO - downloader - image #1\thttps://images.nexusapp.co/assets/05/af/bd/86296203.jpg\n",
      "2025-02-10 16:33:37,723 - INFO - downloader - downloaded images reach max num, thread downloader-001 is ready to exit\n",
      "2025-02-10 16:33:37,724 - INFO - downloader - thread downloader-001 exit\n",
      "2025-02-10 16:33:37,957 - INFO - icrawler.crawler - Crawling task done!\n",
      "2025-02-10 16:33:37,959 - INFO - icrawler.crawler - start crawling...\n",
      "2025-02-10 16:33:37,960 - INFO - icrawler.crawler - starting 1 feeder threads...\n",
      "2025-02-10 16:33:37,962 - INFO - feeder - thread feeder-001 exit\n",
      "2025-02-10 16:33:37,962 - INFO - icrawler.crawler - starting 1 parser threads...\n",
      "2025-02-10 16:33:37,965 - INFO - icrawler.crawler - starting 1 downloader threads...\n",
      "2025-02-10 16:33:38,081 - INFO - parser - downloaded image reached max num, thread parser-001 is ready to exit\n",
      "2025-02-10 16:33:38,082 - INFO - parser - thread parser-001 exit\n"
     ]
    },
    {
     "name": "stdout",
     "output_type": "stream",
     "text": [
      "Downloaded image for 'Dual Head Acoustic Stethoscope' and saved as 'image/product/dual_head_acoustic_stethoscope.jpg'\n"
     ]
    },
    {
     "name": "stderr",
     "output_type": "stream",
     "text": [
      "2025-02-10 16:33:39,280 - INFO - parser - parsing result page https://www.bing.com/images/async?q=Dual Head Professional Stethoscope&first=0\n",
      "2025-02-10 16:33:41,062 - INFO - downloader - image #1\thttps://www.carolina.com/images/product/large/691646_w.jpg\n",
      "2025-02-10 16:33:42,568 - INFO - downloader - downloaded images reach max num, thread downloader-001 is ready to exit\n",
      "2025-02-10 16:33:42,569 - INFO - downloader - thread downloader-001 exit\n",
      "2025-02-10 16:33:42,969 - INFO - icrawler.crawler - Crawling task done!\n",
      "2025-02-10 16:33:42,972 - INFO - icrawler.crawler - start crawling...\n",
      "2025-02-10 16:33:42,974 - INFO - icrawler.crawler - starting 1 feeder threads...\n",
      "2025-02-10 16:33:42,976 - INFO - feeder - thread feeder-001 exit\n",
      "2025-02-10 16:33:42,977 - INFO - icrawler.crawler - starting 1 parser threads...\n",
      "2025-02-10 16:33:42,980 - INFO - icrawler.crawler - starting 1 downloader threads...\n"
     ]
    },
    {
     "name": "stdout",
     "output_type": "stream",
     "text": [
      "Downloaded image for 'Dual Head Professional Stethoscope' and saved as 'image/product/dual_head_professional_stethoscope.jpg'\n"
     ]
    },
    {
     "name": "stderr",
     "output_type": "stream",
     "text": [
      "2025-02-10 16:33:43,327 - INFO - parser - downloaded image reached max num, thread parser-001 is ready to exit\n",
      "2025-02-10 16:33:43,328 - INFO - parser - thread parser-001 exit\n",
      "2025-02-10 16:33:44,241 - INFO - parser - parsing result page https://www.bing.com/images/async?q=Ultra Lightweight Stethoscope&first=0\n",
      "2025-02-10 16:33:44,796 - INFO - downloader - image #1\thttps://images-na.ssl-images-amazon.com/images/I/31aNOujRcyL.jpg\n",
      "2025-02-10 16:33:45,455 - INFO - downloader - downloaded images reach max num, thread downloader-001 is ready to exit\n",
      "2025-02-10 16:33:45,458 - INFO - downloader - thread downloader-001 exit\n",
      "2025-02-10 16:33:45,985 - INFO - icrawler.crawler - Crawling task done!\n",
      "2025-02-10 16:33:45,988 - INFO - icrawler.crawler - start crawling...\n",
      "2025-02-10 16:33:45,989 - INFO - icrawler.crawler - starting 1 feeder threads...\n",
      "2025-02-10 16:33:45,991 - INFO - feeder - thread feeder-001 exit\n",
      "2025-02-10 16:33:45,992 - INFO - icrawler.crawler - starting 1 parser threads...\n",
      "2025-02-10 16:33:45,995 - INFO - icrawler.crawler - starting 1 downloader threads...\n"
     ]
    },
    {
     "name": "stdout",
     "output_type": "stream",
     "text": [
      "Downloaded image for 'Ultra Lightweight Stethoscope' and saved as 'image/product/ultra_lightweight_stethoscope.jpg'\n"
     ]
    },
    {
     "name": "stderr",
     "output_type": "stream",
     "text": [
      "2025-02-10 16:33:46,799 - INFO - parser - downloaded image reached max num, thread parser-001 is ready to exit\n",
      "2025-02-10 16:33:46,800 - INFO - parser - thread parser-001 exit\n",
      "2025-02-10 16:33:46,833 - INFO - parser - parsing result page https://www.bing.com/images/async?q=Compact Lightweight Stethoscope&first=0\n",
      "2025-02-10 16:33:49,805 - INFO - downloader - image #1\thttp://www.byustore.com/site/product_images/916193+Lightweight+Ii+Se+Stethoscope_GREEN-1.jpg\n",
      "2025-02-10 16:33:50,424 - INFO - downloader - downloaded images reach max num, thread downloader-001 is ready to exit\n",
      "2025-02-10 16:33:50,425 - INFO - downloader - thread downloader-001 exit\n",
      "2025-02-10 16:33:50,999 - INFO - icrawler.crawler - Crawling task done!\n",
      "2025-02-10 16:33:51,001 - INFO - icrawler.crawler - start crawling...\n",
      "2025-02-10 16:33:51,002 - INFO - icrawler.crawler - starting 1 feeder threads...\n",
      "2025-02-10 16:33:51,004 - INFO - feeder - thread feeder-001 exit\n",
      "2025-02-10 16:33:51,006 - INFO - icrawler.crawler - starting 1 parser threads...\n",
      "2025-02-10 16:33:51,008 - INFO - icrawler.crawler - starting 1 downloader threads...\n"
     ]
    },
    {
     "name": "stdout",
     "output_type": "stream",
     "text": [
      "Downloaded image for 'Compact Lightweight Stethoscope' and saved as 'image/product/compact_lightweight_stethoscope.jpg'\n"
     ]
    },
    {
     "name": "stderr",
     "output_type": "stream",
     "text": [
      "2025-02-10 16:33:51,809 - INFO - parser - downloaded image reached max num, thread parser-001 is ready to exit\n",
      "2025-02-10 16:33:51,810 - INFO - parser - thread parser-001 exit\n",
      "2025-02-10 16:33:52,306 - INFO - parser - parsing result page https://www.bing.com/images/async?q=Pediatric Stethoscope&first=0\n",
      "2025-02-10 16:33:54,162 - INFO - downloader - image #1\thttps://www.alimed.com/_resources/cache/images/product/95-628_1000x1000-pad.jpg\n",
      "2025-02-10 16:33:55,207 - INFO - downloader - downloaded images reach max num, thread downloader-001 is ready to exit\n",
      "2025-02-10 16:33:55,208 - INFO - downloader - thread downloader-001 exit\n",
      "2025-02-10 16:33:56,013 - INFO - icrawler.crawler - Crawling task done!\n",
      "2025-02-10 16:33:56,016 - INFO - icrawler.crawler - start crawling...\n",
      "2025-02-10 16:33:56,016 - INFO - icrawler.crawler - starting 1 feeder threads...\n",
      "2025-02-10 16:33:56,018 - INFO - feeder - thread feeder-001 exit\n",
      "2025-02-10 16:33:56,019 - INFO - icrawler.crawler - starting 1 parser threads...\n",
      "2025-02-10 16:33:56,022 - INFO - icrawler.crawler - starting 1 downloader threads...\n"
     ]
    },
    {
     "name": "stdout",
     "output_type": "stream",
     "text": [
      "Downloaded image for 'Pediatric Stethoscope' and saved as 'image/product/pediatric_stethoscope.jpg'\n"
     ]
    },
    {
     "name": "stderr",
     "output_type": "stream",
     "text": [
      "2025-02-10 16:33:56,361 - INFO - parser - downloaded image reached max num, thread parser-001 is ready to exit\n",
      "2025-02-10 16:33:56,363 - INFO - parser - thread parser-001 exit\n",
      "2025-02-10 16:33:57,378 - INFO - parser - parsing result page https://www.bing.com/images/async?q=Child-Friendly Stethoscope&first=0\n",
      "2025-02-10 16:33:58,796 - INFO - downloader - image #1\thttps://thumbs.dreamstime.com/z/stethoscope-children-4751898.jpg\n",
      "2025-02-10 16:33:59,223 - INFO - downloader - downloaded images reach max num, thread downloader-001 is ready to exit\n",
      "2025-02-10 16:33:59,225 - INFO - downloader - thread downloader-001 exit\n",
      "2025-02-10 16:33:59,433 - INFO - parser - downloaded image reached max num, thread parser-001 is ready to exit\n",
      "2025-02-10 16:33:59,434 - INFO - parser - thread parser-001 exit\n",
      "2025-02-10 16:34:00,026 - INFO - icrawler.crawler - Crawling task done!\n",
      "2025-02-10 16:34:00,035 - INFO - icrawler.crawler - start crawling...\n",
      "2025-02-10 16:34:00,036 - INFO - icrawler.crawler - starting 1 feeder threads...\n",
      "2025-02-10 16:34:00,038 - INFO - feeder - thread feeder-001 exit\n",
      "2025-02-10 16:34:00,038 - INFO - icrawler.crawler - starting 1 parser threads...\n",
      "2025-02-10 16:34:00,042 - INFO - icrawler.crawler - starting 1 downloader threads...\n"
     ]
    },
    {
     "name": "stdout",
     "output_type": "stream",
     "text": [
      "Downloaded image for 'Child-Friendly Stethoscope' and saved as 'image/product/child_friendly_stethoscope.jpg'\n"
     ]
    },
    {
     "name": "stderr",
     "output_type": "stream",
     "text": [
      "2025-02-10 16:34:01,223 - INFO - parser - parsing result page https://www.bing.com/images/async?q=Home Basic First Aid Kit&first=0\n",
      "2025-02-10 16:34:02,234 - INFO - downloader - image #1\thttps://assuredfas.ca/wp-content/uploads/2020/12/afas_basic_first_aid_1024.jpg\n",
      "2025-02-10 16:34:02,939 - INFO - downloader - downloaded images reach max num, thread downloader-001 is ready to exit\n",
      "2025-02-10 16:34:02,940 - INFO - downloader - thread downloader-001 exit\n",
      "2025-02-10 16:34:03,047 - INFO - icrawler.crawler - Crawling task done!\n",
      "2025-02-10 16:34:03,049 - INFO - icrawler.crawler - start crawling...\n",
      "2025-02-10 16:34:03,050 - INFO - icrawler.crawler - starting 1 feeder threads...\n",
      "2025-02-10 16:34:03,052 - INFO - feeder - thread feeder-001 exit\n",
      "2025-02-10 16:34:03,053 - INFO - icrawler.crawler - starting 1 parser threads...\n",
      "2025-02-10 16:34:03,055 - INFO - icrawler.crawler - starting 1 downloader threads...\n",
      "2025-02-10 16:34:03,238 - INFO - parser - downloaded image reached max num, thread parser-001 is ready to exit\n",
      "2025-02-10 16:34:03,239 - INFO - parser - thread parser-001 exit\n"
     ]
    },
    {
     "name": "stdout",
     "output_type": "stream",
     "text": [
      "Downloaded image for 'Home Basic First Aid Kit' and saved as 'image/product/home_basic_first_aid_kit.jpg'\n"
     ]
    },
    {
     "name": "stderr",
     "output_type": "stream",
     "text": [
      "2025-02-10 16:34:04,050 - INFO - parser - parsing result page https://www.bing.com/images/async?q=Travel Basic First Aid Kit&first=0\n",
      "2025-02-10 16:34:04,681 - INFO - downloader - image #1\thttps://m.media-amazon.com/images/I/8138RvQgMoL._AC_SL1500_.jpg\n",
      "2025-02-10 16:34:05,582 - INFO - downloader - downloaded images reach max num, thread downloader-001 is ready to exit\n",
      "2025-02-10 16:34:05,583 - INFO - downloader - thread downloader-001 exit\n",
      "2025-02-10 16:34:06,057 - INFO - icrawler.crawler - Crawling task done!\n",
      "2025-02-10 16:34:06,059 - INFO - icrawler.crawler - start crawling...\n",
      "2025-02-10 16:34:06,060 - INFO - icrawler.crawler - starting 1 feeder threads...\n",
      "2025-02-10 16:34:06,062 - INFO - feeder - thread feeder-001 exit\n",
      "2025-02-10 16:34:06,062 - INFO - icrawler.crawler - starting 1 parser threads...\n",
      "2025-02-10 16:34:06,067 - INFO - icrawler.crawler - starting 1 downloader threads...\n"
     ]
    },
    {
     "name": "stdout",
     "output_type": "stream",
     "text": [
      "Downloaded image for 'Travel Basic First Aid Kit' and saved as 'image/product/travel_basic_first_aid_kit.jpg'\n"
     ]
    },
    {
     "name": "stderr",
     "output_type": "stream",
     "text": [
      "2025-02-10 16:34:06,684 - INFO - parser - downloaded image reached max num, thread parser-001 is ready to exit\n",
      "2025-02-10 16:34:06,685 - INFO - parser - thread parser-001 exit\n",
      "2025-02-10 16:34:06,837 - INFO - parser - parsing result page https://www.bing.com/images/async?q=Advanced Home First Aid Kit&first=0\n",
      "2025-02-10 16:34:07,478 - INFO - downloader - image #1\thttps://m.media-amazon.com/images/I/91vS8yYGxLL._AC_SL1500_.jpg\n",
      "2025-02-10 16:34:08,543 - INFO - downloader - downloaded images reach max num, thread downloader-001 is ready to exit\n",
      "2025-02-10 16:34:08,544 - INFO - downloader - thread downloader-001 exit\n",
      "2025-02-10 16:34:09,071 - INFO - icrawler.crawler - Crawling task done!\n",
      "2025-02-10 16:34:09,074 - INFO - icrawler.crawler - start crawling...\n",
      "2025-02-10 16:34:09,075 - INFO - icrawler.crawler - starting 1 feeder threads...\n",
      "2025-02-10 16:34:09,076 - INFO - feeder - thread feeder-001 exit\n",
      "2025-02-10 16:34:09,076 - INFO - icrawler.crawler - starting 1 parser threads...\n",
      "2025-02-10 16:34:09,081 - INFO - icrawler.crawler - starting 1 downloader threads...\n"
     ]
    },
    {
     "name": "stdout",
     "output_type": "stream",
     "text": [
      "Downloaded image for 'Advanced Home First Aid Kit' and saved as 'image/product/advanced_home_first_aid_kit.jpg'\n"
     ]
    },
    {
     "name": "stderr",
     "output_type": "stream",
     "text": [
      "2025-02-10 16:34:09,481 - INFO - parser - downloaded image reached max num, thread parser-001 is ready to exit\n",
      "2025-02-10 16:34:09,482 - INFO - parser - thread parser-001 exit\n",
      "2025-02-10 16:34:10,181 - INFO - parser - parsing result page https://www.bing.com/images/async?q=Advanced Travel First Aid Kit&first=0\n",
      "2025-02-10 16:34:11,689 - INFO - downloader - image #1\thttps://images.sportsdirect.com/images/imgzoom/78/78431508_xxl.jpg\n",
      "2025-02-10 16:34:12,515 - INFO - downloader - downloaded images reach max num, thread downloader-001 is ready to exit\n",
      "2025-02-10 16:34:12,516 - INFO - downloader - thread downloader-001 exit\n",
      "2025-02-10 16:34:13,082 - INFO - icrawler.crawler - Crawling task done!\n",
      "2025-02-10 16:34:13,085 - INFO - icrawler.crawler - start crawling...\n",
      "2025-02-10 16:34:13,086 - INFO - icrawler.crawler - starting 1 feeder threads...\n",
      "2025-02-10 16:34:13,088 - INFO - feeder - thread feeder-001 exit\n",
      "2025-02-10 16:34:13,088 - INFO - icrawler.crawler - starting 1 parser threads...\n",
      "2025-02-10 16:34:13,092 - INFO - icrawler.crawler - starting 1 downloader threads...\n",
      "2025-02-10 16:34:13,208 - INFO - parser - downloaded image reached max num, thread parser-001 is ready to exit\n",
      "2025-02-10 16:34:13,209 - INFO - parser - thread parser-001 exit\n"
     ]
    },
    {
     "name": "stdout",
     "output_type": "stream",
     "text": [
      "Downloaded image for 'Advanced Travel First Aid Kit' and saved as 'image/product/advanced_travel_first_aid_kit.jpg'\n"
     ]
    },
    {
     "name": "stderr",
     "output_type": "stream",
     "text": [
      "2025-02-10 16:34:14,385 - INFO - parser - parsing result page https://www.bing.com/images/async?q=Compact Travel First Aid Kit&first=0\n",
      "2025-02-10 16:34:14,987 - INFO - downloader - image #1\thttps://m.media-amazon.com/images/I/61ALYKratOL._AC_SL1500_.jpg\n",
      "2025-02-10 16:34:15,289 - INFO - downloader - downloaded images reach max num, thread downloader-001 is ready to exit\n",
      "2025-02-10 16:34:15,290 - INFO - downloader - thread downloader-001 exit\n",
      "2025-02-10 16:34:16,094 - INFO - icrawler.crawler - Crawling task done!\n",
      "2025-02-10 16:34:16,096 - INFO - icrawler.crawler - start crawling...\n",
      "2025-02-10 16:34:16,097 - INFO - icrawler.crawler - starting 1 feeder threads...\n",
      "2025-02-10 16:34:16,098 - INFO - feeder - thread feeder-001 exit\n",
      "2025-02-10 16:34:16,100 - INFO - icrawler.crawler - starting 1 parser threads...\n",
      "2025-02-10 16:34:16,104 - INFO - icrawler.crawler - starting 1 downloader threads...\n"
     ]
    },
    {
     "name": "stdout",
     "output_type": "stream",
     "text": [
      "Downloaded image for 'Compact Travel First Aid Kit' and saved as 'image/product/compact_travel_first_aid_kit.jpg'\n"
     ]
    },
    {
     "name": "stderr",
     "output_type": "stream",
     "text": [
      "2025-02-10 16:34:16,991 - INFO - parser - downloaded image reached max num, thread parser-001 is ready to exit\n",
      "2025-02-10 16:34:16,993 - INFO - parser - thread parser-001 exit\n",
      "2025-02-10 16:34:17,679 - INFO - parser - parsing result page https://www.bing.com/images/async?q=Portable Travel First Aid Kit&first=0\n",
      "2025-02-10 16:34:18,253 - INFO - downloader - image #1\thttps://m.media-amazon.com/images/I/81JCoIxaa4L.jpg\n",
      "2025-02-10 16:34:18,855 - INFO - downloader - downloaded images reach max num, thread downloader-001 is ready to exit\n",
      "2025-02-10 16:34:18,856 - INFO - downloader - thread downloader-001 exit\n",
      "2025-02-10 16:34:19,108 - INFO - icrawler.crawler - Crawling task done!\n",
      "2025-02-10 16:34:19,111 - INFO - icrawler.crawler - start crawling...\n",
      "2025-02-10 16:34:19,112 - INFO - icrawler.crawler - starting 1 feeder threads...\n",
      "2025-02-10 16:34:19,113 - INFO - feeder - thread feeder-001 exit\n",
      "2025-02-10 16:34:19,113 - INFO - icrawler.crawler - starting 1 parser threads...\n",
      "2025-02-10 16:34:19,117 - INFO - icrawler.crawler - starting 1 downloader threads...\n",
      "2025-02-10 16:34:19,257 - INFO - parser - downloaded image reached max num, thread parser-001 is ready to exit\n",
      "2025-02-10 16:34:19,258 - INFO - parser - thread parser-001 exit\n"
     ]
    },
    {
     "name": "stdout",
     "output_type": "stream",
     "text": [
      "Downloaded image for 'Portable Travel First Aid Kit' and saved as 'image/product/portable_travel_first_aid_kit.jpg'\n"
     ]
    },
    {
     "name": "stderr",
     "output_type": "stream",
     "text": [
      "2025-02-10 16:34:20,345 - INFO - parser - parsing result page https://www.bing.com/images/async?q=Industrial Grade First Aid Kit&first=0\n",
      "2025-02-10 16:34:21,375 - INFO - downloader - image #1\thttps://www.equip4work.co.uk/media/img/shop/srcpd/061050.jpg\n",
      "2025-02-10 16:34:23,015 - INFO - downloader - downloaded images reach max num, thread downloader-001 is ready to exit\n",
      "2025-02-10 16:34:23,016 - INFO - downloader - thread downloader-001 exit\n",
      "2025-02-10 16:34:23,122 - INFO - icrawler.crawler - Crawling task done!\n",
      "2025-02-10 16:34:23,125 - INFO - icrawler.crawler - start crawling...\n",
      "2025-02-10 16:34:23,126 - INFO - icrawler.crawler - starting 1 feeder threads...\n",
      "2025-02-10 16:34:23,128 - INFO - feeder - thread feeder-001 exit\n",
      "2025-02-10 16:34:23,128 - INFO - icrawler.crawler - starting 1 parser threads...\n",
      "2025-02-10 16:34:23,132 - INFO - icrawler.crawler - starting 1 downloader threads...\n"
     ]
    },
    {
     "name": "stdout",
     "output_type": "stream",
     "text": [
      "Downloaded image for 'Industrial Grade First Aid Kit' and saved as 'image/product/industrial_first_aid_kit.jpg'\n"
     ]
    },
    {
     "name": "stderr",
     "output_type": "stream",
     "text": [
      "2025-02-10 16:34:23,378 - INFO - parser - downloaded image reached max num, thread parser-001 is ready to exit\n",
      "2025-02-10 16:34:23,380 - INFO - parser - thread parser-001 exit\n",
      "2025-02-10 16:34:24,112 - INFO - parser - parsing result page https://www.bing.com/images/async?q=Heavy-Duty Industrial First Aid Kit&first=0\n",
      "2025-02-10 16:34:24,869 - INFO - downloader - image #1\thttps://www.equip4work.co.uk/media/img/shop/srcpd/061050.jpg\n",
      "2025-02-10 16:34:27,935 - INFO - downloader - downloaded images reach max num, thread downloader-001 is ready to exit\n",
      "2025-02-10 16:34:27,936 - INFO - downloader - thread downloader-001 exit\n",
      "2025-02-10 16:34:28,136 - INFO - icrawler.crawler - Crawling task done!\n",
      "2025-02-10 16:34:28,138 - INFO - icrawler.crawler - start crawling...\n",
      "2025-02-10 16:34:28,140 - INFO - icrawler.crawler - starting 1 feeder threads...\n",
      "2025-02-10 16:34:28,141 - INFO - feeder - thread feeder-001 exit\n",
      "2025-02-10 16:34:28,141 - INFO - icrawler.crawler - starting 1 parser threads...\n",
      "2025-02-10 16:34:28,146 - INFO - icrawler.crawler - starting 1 downloader threads...\n"
     ]
    },
    {
     "name": "stdout",
     "output_type": "stream",
     "text": [
      "Downloaded image for 'Heavy-Duty Industrial First Aid Kit' and saved as 'image/product/heavy_duty_industrial_first_aid_kit.jpg'\n"
     ]
    },
    {
     "name": "stderr",
     "output_type": "stream",
     "text": [
      "2025-02-10 16:34:28,873 - INFO - parser - downloaded image reached max num, thread parser-001 is ready to exit\n",
      "2025-02-10 16:34:28,874 - INFO - parser - thread parser-001 exit\n",
      "2025-02-10 16:34:29,536 - INFO - parser - parsing result page https://www.bing.com/images/async?q=USB Digital Microscope&first=0\n",
      "2025-02-10 16:34:30,863 - INFO - downloader - image #1\thttps://m.media-amazon.com/images/I/61bsLh2RtDL._SL1276_.jpg\n",
      "2025-02-10 16:34:31,898 - INFO - downloader - downloaded images reach max num, thread downloader-001 is ready to exit\n",
      "2025-02-10 16:34:31,899 - INFO - downloader - thread downloader-001 exit\n",
      "2025-02-10 16:34:32,148 - INFO - icrawler.crawler - Crawling task done!\n",
      "2025-02-10 16:34:32,151 - INFO - icrawler.crawler - start crawling...\n",
      "2025-02-10 16:34:32,152 - INFO - icrawler.crawler - starting 1 feeder threads...\n",
      "2025-02-10 16:34:32,154 - INFO - feeder - thread feeder-001 exit\n",
      "2025-02-10 16:34:32,154 - INFO - icrawler.crawler - starting 1 parser threads...\n",
      "2025-02-10 16:34:32,157 - INFO - icrawler.crawler - starting 1 downloader threads...\n"
     ]
    },
    {
     "name": "stdout",
     "output_type": "stream",
     "text": [
      "Downloaded image for 'USB Digital Microscope' and saved as 'image/product/usb_digital_microscope.jpg'\n"
     ]
    },
    {
     "name": "stderr",
     "output_type": "stream",
     "text": [
      "2025-02-10 16:34:32,593 - INFO - parser - downloaded image reached max num, thread parser-001 is ready to exit\n",
      "2025-02-10 16:34:32,594 - INFO - parser - thread parser-001 exit\n",
      "2025-02-10 16:34:33,119 - INFO - parser - parsing result page https://www.bing.com/images/async?q=Portable Digital Microscope&first=0\n",
      "2025-02-10 16:34:34,341 - INFO - downloader - image #1\thttps://www.bhphotovideo.com/images/images2000x2000/Celestron_44310_Micro_2_4_LCD_Handheld_761336.jpg\n",
      "2025-02-10 16:34:38,997 - INFO - downloader - downloaded images reach max num, thread downloader-001 is ready to exit\n",
      "2025-02-10 16:34:38,998 - INFO - downloader - thread downloader-001 exit\n",
      "2025-02-10 16:34:39,161 - INFO - icrawler.crawler - Crawling task done!\n",
      "2025-02-10 16:34:39,163 - INFO - icrawler.crawler - start crawling...\n",
      "2025-02-10 16:34:39,164 - INFO - icrawler.crawler - starting 1 feeder threads...\n",
      "2025-02-10 16:34:39,166 - INFO - feeder - thread feeder-001 exit\n",
      "2025-02-10 16:34:39,166 - INFO - icrawler.crawler - starting 1 parser threads...\n",
      "2025-02-10 16:34:39,170 - INFO - icrawler.crawler - starting 1 downloader threads...\n",
      "2025-02-10 16:34:39,174 - INFO - parser - downloaded image reached max num, thread parser-001 is ready to exit\n",
      "2025-02-10 16:34:39,175 - INFO - parser - thread parser-001 exit\n"
     ]
    },
    {
     "name": "stdout",
     "output_type": "stream",
     "text": [
      "Downloaded image for 'Portable Digital Microscope' and saved as 'image/product/portable_digital_microscope.jpg'\n"
     ]
    },
    {
     "name": "stderr",
     "output_type": "stream",
     "text": [
      "2025-02-10 16:34:40,089 - INFO - parser - parsing result page https://www.bing.com/images/async?q=Advanced Research Microscope&first=0\n",
      "2025-02-10 16:34:41,648 - INFO - downloader - image #1\thttps://www.carolina.com/images/product/large/591075_mic.jpg\n",
      "2025-02-10 16:34:42,311 - INFO - downloader - downloaded images reach max num, thread downloader-001 is ready to exit\n",
      "2025-02-10 16:34:42,312 - INFO - downloader - thread downloader-001 exit\n",
      "2025-02-10 16:34:43,175 - INFO - icrawler.crawler - Crawling task done!\n",
      "2025-02-10 16:34:43,177 - INFO - icrawler.crawler - start crawling...\n",
      "2025-02-10 16:34:43,178 - INFO - icrawler.crawler - starting 1 feeder threads...\n",
      "2025-02-10 16:34:43,179 - INFO - feeder - thread feeder-001 exit\n",
      "2025-02-10 16:34:43,179 - INFO - icrawler.crawler - starting 1 parser threads...\n",
      "2025-02-10 16:34:43,183 - INFO - icrawler.crawler - starting 1 downloader threads...\n"
     ]
    },
    {
     "name": "stdout",
     "output_type": "stream",
     "text": [
      "Downloaded image for 'Advanced Research Microscope' and saved as 'image/product/advanced_research_microscope.jpg'\n"
     ]
    },
    {
     "name": "stderr",
     "output_type": "stream",
     "text": [
      "2025-02-10 16:34:44,145 - INFO - parser - downloaded image reached max num, thread parser-001 is ready to exit\n",
      "2025-02-10 16:34:44,146 - INFO - parser - thread parser-001 exit\n",
      "2025-02-10 16:34:44,364 - INFO - parser - parsing result page https://www.bing.com/images/async?q=Professional Biological Microscope&first=0\n",
      "2025-02-10 16:34:45,494 - INFO - downloader - image #1\thttp://www.digital-usb-microscopes.com/assets/images/Motic/B Series/B3 Clinlab.jpg\n",
      "2025-02-10 16:34:46,466 - INFO - downloader - downloaded images reach max num, thread downloader-001 is ready to exit\n",
      "2025-02-10 16:34:46,467 - INFO - downloader - thread downloader-001 exit\n",
      "2025-02-10 16:34:47,187 - INFO - icrawler.crawler - Crawling task done!\n",
      "2025-02-10 16:34:47,190 - INFO - icrawler.crawler - start crawling...\n",
      "2025-02-10 16:34:47,191 - INFO - icrawler.crawler - starting 1 feeder threads...\n",
      "2025-02-10 16:34:47,193 - INFO - feeder - thread feeder-001 exit\n",
      "2025-02-10 16:34:47,194 - INFO - icrawler.crawler - starting 1 parser threads...\n",
      "2025-02-10 16:34:47,196 - INFO - icrawler.crawler - starting 1 downloader threads...\n"
     ]
    },
    {
     "name": "stdout",
     "output_type": "stream",
     "text": [
      "Downloaded image for 'Professional Biological Microscope' and saved as 'image/product/professional_bio_microscope.jpg'\n"
     ]
    },
    {
     "name": "stderr",
     "output_type": "stream",
     "text": [
      "2025-02-10 16:34:47,411 - INFO - parser - downloaded image reached max num, thread parser-001 is ready to exit\n",
      "2025-02-10 16:34:47,413 - INFO - parser - thread parser-001 exit\n",
      "2025-02-10 16:34:48,403 - INFO - parser - parsing result page https://www.bing.com/images/async?q=Budget USB Microscope&first=0\n",
      "2025-02-10 16:34:49,465 - INFO - downloader - image #1\thttps://asset.conrad.com/media10/isa/160267/c1/-/en/191376_LB_00_FB/image.jpg\n",
      "2025-02-10 16:34:50,032 - INFO - downloader - downloaded images reach max num, thread downloader-001 is ready to exit\n",
      "2025-02-10 16:34:50,033 - INFO - downloader - thread downloader-001 exit\n",
      "2025-02-10 16:34:50,200 - INFO - icrawler.crawler - Crawling task done!\n",
      "2025-02-10 16:34:50,203 - INFO - icrawler.crawler - start crawling...\n",
      "2025-02-10 16:34:50,204 - INFO - icrawler.crawler - starting 1 feeder threads...\n",
      "2025-02-10 16:34:50,206 - INFO - feeder - thread feeder-001 exit\n",
      "2025-02-10 16:34:50,206 - INFO - icrawler.crawler - starting 1 parser threads...\n",
      "2025-02-10 16:34:50,210 - INFO - icrawler.crawler - starting 1 downloader threads...\n"
     ]
    },
    {
     "name": "stdout",
     "output_type": "stream",
     "text": [
      "Downloaded image for 'Budget USB Microscope' and saved as 'image/product/budget_usb_microscope.jpg'\n"
     ]
    },
    {
     "name": "stderr",
     "output_type": "stream",
     "text": [
      "2025-02-10 16:34:50,457 - INFO - parser - downloaded image reached max num, thread parser-001 is ready to exit\n",
      "2025-02-10 16:34:50,459 - INFO - parser - thread parser-001 exit\n",
      "2025-02-10 16:34:51,352 - INFO - parser - parsing result page https://www.bing.com/images/async?q=High-Res USB Microscope&first=0\n",
      "2025-02-10 16:34:52,177 - INFO - downloader - image #1\thttps://m.media-amazon.com/images/I/61u9CgmWPQL._AC_SL1200_.jpg\n",
      "2025-02-10 16:34:52,546 - INFO - downloader - downloaded images reach max num, thread downloader-001 is ready to exit\n",
      "2025-02-10 16:34:52,547 - INFO - downloader - thread downloader-001 exit\n",
      "2025-02-10 16:34:53,215 - INFO - icrawler.crawler - Crawling task done!\n",
      "2025-02-10 16:34:53,217 - INFO - icrawler.crawler - start crawling...\n",
      "2025-02-10 16:34:53,218 - INFO - icrawler.crawler - starting 1 feeder threads...\n",
      "2025-02-10 16:34:53,220 - INFO - feeder - thread feeder-001 exit\n",
      "2025-02-10 16:34:53,221 - INFO - icrawler.crawler - starting 1 parser threads...\n",
      "2025-02-10 16:34:53,224 - INFO - icrawler.crawler - starting 1 downloader threads...\n"
     ]
    },
    {
     "name": "stdout",
     "output_type": "stream",
     "text": [
      "Downloaded image for 'High-Res USB Microscope' and saved as 'image/product/high_res_usb_microscope.jpg'\n"
     ]
    },
    {
     "name": "stderr",
     "output_type": "stream",
     "text": [
      "2025-02-10 16:34:54,130 - INFO - parser - parsing result page https://www.bing.com/images/async?q=Basic Student Microscope&first=0\n",
      "2025-02-10 16:34:54,180 - INFO - parser - downloaded image reached max num, thread parser-001 is ready to exit\n",
      "2025-02-10 16:34:54,183 - INFO - parser - thread parser-001 exit\n",
      "2025-02-10 16:34:56,151 - INFO - downloader - image #1\thttps://www.learningstore.com.my/image/cache/data/EC2135a-500x500.jpg\n",
      "2025-02-10 16:34:57,319 - INFO - downloader - downloaded images reach max num, thread downloader-001 is ready to exit\n",
      "2025-02-10 16:34:57,320 - INFO - downloader - thread downloader-001 exit\n",
      "2025-02-10 16:34:58,188 - INFO - parser - downloaded image reached max num, thread parser-001 is ready to exit\n",
      "2025-02-10 16:34:58,190 - INFO - parser - thread parser-001 exit\n",
      "2025-02-10 16:34:58,230 - INFO - icrawler.crawler - Crawling task done!\n",
      "2025-02-10 16:34:58,234 - INFO - icrawler.crawler - start crawling...\n",
      "2025-02-10 16:34:58,236 - INFO - icrawler.crawler - starting 1 feeder threads...\n",
      "2025-02-10 16:34:58,238 - INFO - feeder - thread feeder-001 exit\n",
      "2025-02-10 16:34:58,239 - INFO - icrawler.crawler - starting 1 parser threads...\n",
      "2025-02-10 16:34:58,243 - INFO - icrawler.crawler - starting 1 downloader threads...\n"
     ]
    },
    {
     "name": "stdout",
     "output_type": "stream",
     "text": [
      "Downloaded image for 'Basic Student Microscope' and saved as 'image/product/basic_student_microscope.jpg'\n"
     ]
    },
    {
     "name": "stderr",
     "output_type": "stream",
     "text": [
      "2025-02-10 16:34:59,460 - INFO - parser - parsing result page https://www.bing.com/images/async?q=Portable Student Microscope&first=0\n",
      "2025-02-10 16:35:00,123 - INFO - downloader - image #1\thttps://tiimg.tistatic.com/fp/1/005/489/durable-portable-student-microscope-327.jpg\n",
      "2025-02-10 16:35:00,877 - INFO - downloader - downloaded images reach max num, thread downloader-001 is ready to exit\n",
      "2025-02-10 16:35:00,878 - INFO - downloader - thread downloader-001 exit\n",
      "2025-02-10 16:35:01,247 - INFO - icrawler.crawler - Crawling task done!\n",
      "2025-02-10 16:35:01,248 - INFO - icrawler.crawler - start crawling...\n",
      "2025-02-10 16:35:01,249 - INFO - icrawler.crawler - starting 1 feeder threads...\n",
      "2025-02-10 16:35:01,250 - INFO - feeder - thread feeder-001 exit\n",
      "2025-02-10 16:35:01,250 - INFO - icrawler.crawler - starting 1 parser threads...\n",
      "2025-02-10 16:35:01,251 - INFO - icrawler.crawler - starting 1 downloader threads...\n"
     ]
    },
    {
     "name": "stdout",
     "output_type": "stream",
     "text": [
      "Downloaded image for 'Portable Student Microscope' and saved as 'image/product/portable_student_microscope.jpg'\n"
     ]
    },
    {
     "name": "stderr",
     "output_type": "stream",
     "text": [
      "2025-02-10 16:35:02,127 - INFO - parser - downloaded image reached max num, thread parser-001 is ready to exit\n",
      "2025-02-10 16:35:02,128 - INFO - parser - thread parser-001 exit\n",
      "2025-02-10 16:35:02,326 - INFO - parser - parsing result page https://www.bing.com/images/async?q=Pack of Disposable Scalpel Blades&first=0\n",
      "2025-02-10 16:35:03,558 - INFO - downloader - image #1\thttps://m.media-amazon.com/images/I/61MRVPeW6rL.jpg\n",
      "2025-02-10 16:35:03,871 - INFO - downloader - downloaded images reach max num, thread downloader-001 is ready to exit\n",
      "2025-02-10 16:35:03,873 - INFO - downloader - thread downloader-001 exit\n",
      "2025-02-10 16:35:04,254 - INFO - icrawler.crawler - Crawling task done!\n",
      "2025-02-10 16:35:04,256 - INFO - icrawler.crawler - start crawling...\n",
      "2025-02-10 16:35:04,258 - INFO - icrawler.crawler - starting 1 feeder threads...\n",
      "2025-02-10 16:35:04,259 - INFO - feeder - thread feeder-001 exit\n",
      "2025-02-10 16:35:04,260 - INFO - icrawler.crawler - starting 1 parser threads...\n",
      "2025-02-10 16:35:04,262 - INFO - icrawler.crawler - starting 1 downloader threads...\n",
      "2025-02-10 16:35:04,452 - INFO - parser - downloaded image reached max num, thread parser-001 is ready to exit\n",
      "2025-02-10 16:35:04,454 - INFO - parser - thread parser-001 exit\n"
     ]
    },
    {
     "name": "stdout",
     "output_type": "stream",
     "text": [
      "Downloaded image for 'Pack of Disposable Scalpel Blades' and saved as 'image/product/disposable_scalpel_blades.jpg'\n"
     ]
    },
    {
     "name": "stderr",
     "output_type": "stream",
     "text": [
      "2025-02-10 16:35:05,216 - INFO - parser - parsing result page https://www.bing.com/images/async?q=Premium Disposable Scalpel Blades&first=0\n",
      "2025-02-10 16:35:05,774 - INFO - downloader - image #1\thttps://m.media-amazon.com/images/I/71povtigEKL._SL1500_.jpg\n",
      "2025-02-10 16:35:06,639 - INFO - downloader - downloaded images reach max num, thread downloader-001 is ready to exit\n",
      "2025-02-10 16:35:06,640 - INFO - downloader - thread downloader-001 exit\n",
      "2025-02-10 16:35:07,269 - INFO - icrawler.crawler - Crawling task done!\n",
      "2025-02-10 16:35:07,271 - INFO - icrawler.crawler - start crawling...\n",
      "2025-02-10 16:35:07,272 - INFO - icrawler.crawler - starting 1 feeder threads...\n",
      "2025-02-10 16:35:07,273 - INFO - feeder - thread feeder-001 exit\n",
      "2025-02-10 16:35:07,273 - INFO - icrawler.crawler - starting 1 parser threads...\n",
      "2025-02-10 16:35:07,275 - INFO - icrawler.crawler - starting 1 downloader threads...\n"
     ]
    },
    {
     "name": "stdout",
     "output_type": "stream",
     "text": [
      "Downloaded image for 'Premium Disposable Scalpel Blades' and saved as 'image/product/premium_scalpel_blades.jpg'\n"
     ]
    },
    {
     "name": "stderr",
     "output_type": "stream",
     "text": [
      "2025-02-10 16:35:07,778 - INFO - parser - downloaded image reached max num, thread parser-001 is ready to exit\n",
      "2025-02-10 16:35:07,779 - INFO - parser - thread parser-001 exit\n",
      "2025-02-10 16:35:08,099 - INFO - parser - parsing result page https://www.bing.com/images/async?q=Standard Surgical Scalpel&first=0\n",
      "2025-02-10 16:35:08,792 - INFO - downloader - image #1\thttps://thumbs.dreamstime.com/z/surgical-scalpel-standard-replaceable-blade-instrument-32314426.jpg\n",
      "2025-02-10 16:35:09,467 - INFO - downloader - downloaded images reach max num, thread downloader-001 is ready to exit\n",
      "2025-02-10 16:35:09,467 - INFO - downloader - thread downloader-001 exit\n",
      "2025-02-10 16:35:10,277 - INFO - icrawler.crawler - Crawling task done!\n",
      "2025-02-10 16:35:10,279 - INFO - icrawler.crawler - start crawling...\n",
      "2025-02-10 16:35:10,280 - INFO - icrawler.crawler - starting 1 feeder threads...\n",
      "2025-02-10 16:35:10,281 - INFO - feeder - thread feeder-001 exit\n",
      "2025-02-10 16:35:10,281 - INFO - icrawler.crawler - starting 1 parser threads...\n",
      "2025-02-10 16:35:10,283 - INFO - icrawler.crawler - starting 1 downloader threads...\n"
     ]
    },
    {
     "name": "stdout",
     "output_type": "stream",
     "text": [
      "Downloaded image for 'Standard Surgical Scalpel' and saved as 'image/product/standard_surgical_scalpel.jpg'\n"
     ]
    },
    {
     "name": "stderr",
     "output_type": "stream",
     "text": [
      "2025-02-10 16:35:10,795 - INFO - parser - downloaded image reached max num, thread parser-001 is ready to exit\n",
      "2025-02-10 16:35:10,796 - INFO - parser - thread parser-001 exit\n",
      "2025-02-10 16:35:11,055 - INFO - parser - parsing result page https://www.bing.com/images/async?q=Precision Surgical Scalpel&first=0\n",
      "2025-02-10 16:35:11,574 - INFO - downloader - image #1\thttps://c8.alamy.com/comp/2R1CN9B/scalpel-blade-surgical-instrument-angled-close-up-surgery-precision-stainless-steal-equipment-specialized-medical-cutting-health-care-white-background-2R1CN9B.jpg\n",
      "2025-02-10 16:35:12,150 - INFO - downloader - downloaded images reach max num, thread downloader-001 is ready to exit\n",
      "2025-02-10 16:35:12,151 - INFO - downloader - thread downloader-001 exit\n",
      "2025-02-10 16:35:12,287 - INFO - icrawler.crawler - Crawling task done!\n",
      "2025-02-10 16:35:12,290 - INFO - icrawler.crawler - start crawling...\n",
      "2025-02-10 16:35:12,291 - INFO - icrawler.crawler - starting 1 feeder threads...\n",
      "2025-02-10 16:35:12,293 - INFO - feeder - thread feeder-001 exit\n",
      "2025-02-10 16:35:12,294 - INFO - icrawler.crawler - starting 1 parser threads...\n",
      "2025-02-10 16:35:12,297 - INFO - icrawler.crawler - starting 1 downloader threads...\n"
     ]
    },
    {
     "name": "stdout",
     "output_type": "stream",
     "text": [
      "Downloaded image for 'Precision Surgical Scalpel' and saved as 'image/product/precision_surgical_scalpel.jpg'\n"
     ]
    },
    {
     "name": "stderr",
     "output_type": "stream",
     "text": [
      "2025-02-10 16:35:12,577 - INFO - parser - downloaded image reached max num, thread parser-001 is ready to exit\n",
      "2025-02-10 16:35:12,578 - INFO - parser - thread parser-001 exit\n",
      "2025-02-10 16:35:13,269 - INFO - parser - parsing result page https://www.bing.com/images/async?q=Stainless Steel Scalpel&first=0\n",
      "2025-02-10 16:35:13,696 - INFO - downloader - image #1\thttps://c8.alamy.com/comp/2PTMC3B/surgical-stainless-steel-metal-scalpel-on-a-white-background-3d-rendering-2PTMC3B.jpg\n",
      "2025-02-10 16:35:14,345 - INFO - downloader - downloaded images reach max num, thread downloader-001 is ready to exit\n",
      "2025-02-10 16:35:14,347 - INFO - downloader - thread downloader-001 exit\n",
      "2025-02-10 16:35:15,300 - INFO - icrawler.crawler - Crawling task done!\n",
      "2025-02-10 16:35:15,302 - INFO - icrawler.crawler - start crawling...\n",
      "2025-02-10 16:35:15,303 - INFO - icrawler.crawler - starting 1 feeder threads...\n",
      "2025-02-10 16:35:15,305 - INFO - feeder - thread feeder-001 exit\n",
      "2025-02-10 16:35:15,305 - INFO - icrawler.crawler - starting 1 parser threads...\n",
      "2025-02-10 16:35:15,310 - INFO - icrawler.crawler - starting 1 downloader threads...\n"
     ]
    },
    {
     "name": "stdout",
     "output_type": "stream",
     "text": [
      "Downloaded image for 'Stainless Steel Scalpel' and saved as 'image/product/stainless_steel_scalpel.jpg'\n"
     ]
    },
    {
     "name": "stderr",
     "output_type": "stream",
     "text": [
      "2025-02-10 16:35:15,700 - INFO - parser - downloaded image reached max num, thread parser-001 is ready to exit\n",
      "2025-02-10 16:35:15,701 - INFO - parser - thread parser-001 exit\n",
      "2025-02-10 16:35:16,351 - INFO - parser - parsing result page https://www.bing.com/images/async?q=Premium Stainless Steel Scalpel&first=0\n",
      "2025-02-10 16:35:16,748 - INFO - downloader - image #1\thttps://images-na.ssl-images-amazon.com/images/I/71h9tphyX7L._SX522_.jpg\n",
      "2025-02-10 16:35:18,687 - INFO - downloader - downloaded images reach max num, thread downloader-001 is ready to exit\n",
      "2025-02-10 16:35:18,688 - INFO - downloader - thread downloader-001 exit\n",
      "2025-02-10 16:35:18,751 - INFO - parser - downloaded image reached max num, thread parser-001 is ready to exit\n",
      "2025-02-10 16:35:18,751 - INFO - parser - thread parser-001 exit\n",
      "2025-02-10 16:35:19,313 - INFO - icrawler.crawler - Crawling task done!\n",
      "2025-02-10 16:35:19,316 - INFO - icrawler.crawler - start crawling...\n",
      "2025-02-10 16:35:19,317 - INFO - icrawler.crawler - starting 1 feeder threads...\n",
      "2025-02-10 16:35:19,318 - INFO - feeder - thread feeder-001 exit\n",
      "2025-02-10 16:35:19,319 - INFO - icrawler.crawler - starting 1 parser threads...\n",
      "2025-02-10 16:35:19,321 - INFO - icrawler.crawler - starting 1 downloader threads...\n"
     ]
    },
    {
     "name": "stdout",
     "output_type": "stream",
     "text": [
      "Downloaded image for 'Premium Stainless Steel Scalpel' and saved as 'image/product/premium_stainless_scalpel.jpg'\n"
     ]
    },
    {
     "name": "stderr",
     "output_type": "stream",
     "text": [
      "2025-02-10 16:35:20,429 - INFO - parser - parsing result page https://www.bing.com/images/async?q=Sterile Scalpel Blade Pack&first=0\n",
      "2025-02-10 16:35:21,118 - INFO - downloader - image #1\thttps://www.beelineindustries.com/assets/images/1103.jpg\n",
      "2025-02-10 16:35:22,164 - INFO - downloader - downloaded images reach max num, thread downloader-001 is ready to exit\n",
      "2025-02-10 16:35:22,166 - INFO - downloader - thread downloader-001 exit\n",
      "2025-02-10 16:35:22,325 - INFO - icrawler.crawler - Crawling task done!\n",
      "2025-02-10 16:35:22,328 - INFO - icrawler.crawler - start crawling...\n",
      "2025-02-10 16:35:22,329 - INFO - icrawler.crawler - starting 1 feeder threads...\n",
      "2025-02-10 16:35:22,331 - INFO - feeder - thread feeder-001 exit\n",
      "2025-02-10 16:35:22,331 - INFO - icrawler.crawler - starting 1 parser threads...\n",
      "2025-02-10 16:35:22,334 - INFO - icrawler.crawler - starting 1 downloader threads...\n"
     ]
    },
    {
     "name": "stdout",
     "output_type": "stream",
     "text": [
      "Downloaded image for 'Sterile Scalpel Blade Pack' and saved as 'image/product/sterile_scalpel_blade_pack.jpg'\n"
     ]
    },
    {
     "name": "stderr",
     "output_type": "stream",
     "text": [
      "2025-02-10 16:35:23,121 - INFO - parser - downloaded image reached max num, thread parser-001 is ready to exit\n",
      "2025-02-10 16:35:23,122 - INFO - parser - thread parser-001 exit\n",
      "2025-02-10 16:35:23,238 - INFO - parser - parsing result page https://www.bing.com/images/async?q=Extra Sterile Scalpel Blades&first=0\n",
      "2025-02-10 16:35:24,318 - INFO - downloader - image #1\thttps://marlettaenterprises.com/wp-content/uploads/2016/10/3635-15C.jpg\n",
      "2025-02-10 16:35:26,054 - INFO - downloader - downloaded images reach max num, thread downloader-001 is ready to exit\n",
      "2025-02-10 16:35:26,055 - INFO - downloader - thread downloader-001 exit\n",
      "2025-02-10 16:35:26,338 - INFO - icrawler.crawler - Crawling task done!\n",
      "2025-02-10 16:35:26,342 - INFO - icrawler.crawler - start crawling...\n",
      "2025-02-10 16:35:26,343 - INFO - icrawler.crawler - starting 1 feeder threads...\n",
      "2025-02-10 16:35:26,344 - INFO - feeder - thread feeder-001 exit\n",
      "2025-02-10 16:35:26,345 - INFO - icrawler.crawler - starting 1 parser threads...\n",
      "2025-02-10 16:35:26,349 - INFO - icrawler.crawler - starting 1 downloader threads...\n"
     ]
    },
    {
     "name": "stdout",
     "output_type": "stream",
     "text": [
      "Downloaded image for 'Extra Sterile Scalpel Blades' and saved as 'image/product/extra_sterile_scalpel_blades.jpg'\n"
     ]
    },
    {
     "name": "stderr",
     "output_type": "stream",
     "text": [
      "2025-02-10 16:35:27,291 - INFO - parser - downloaded image reached max num, thread parser-001 is ready to exit\n",
      "2025-02-10 16:35:27,293 - INFO - parser - thread parser-001 exit\n",
      "2025-02-10 16:35:27,512 - INFO - parser - parsing result page https://www.bing.com/images/async?q=Portable ECG Monitor Pro&first=0\n",
      "2025-02-10 16:35:28,306 - INFO - downloader - image #1\thttps://m.media-amazon.com/images/I/61Fq9mcfuiL.jpg\n",
      "2025-02-10 16:35:30,355 - INFO - downloader - downloaded images reach max num, thread downloader-001 is ready to exit\n",
      "2025-02-10 16:35:30,356 - INFO - downloader - thread downloader-001 exit\n",
      "2025-02-10 16:35:31,353 - INFO - icrawler.crawler - Crawling task done!\n",
      "2025-02-10 16:35:31,356 - INFO - icrawler.crawler - start crawling...\n",
      "2025-02-10 16:35:31,357 - INFO - icrawler.crawler - starting 1 feeder threads...\n",
      "2025-02-10 16:35:31,359 - INFO - feeder - thread feeder-001 exit\n",
      "2025-02-10 16:35:31,359 - INFO - icrawler.crawler - starting 1 parser threads...\n",
      "2025-02-10 16:35:31,362 - INFO - icrawler.crawler - starting 1 downloader threads...\n"
     ]
    },
    {
     "name": "stdout",
     "output_type": "stream",
     "text": [
      "Downloaded image for 'Portable ECG Monitor Pro' and saved as 'image/product/portable_ecg_monitor_pro.jpg'\n"
     ]
    },
    {
     "name": "stderr",
     "output_type": "stream",
     "text": [
      "2025-02-10 16:35:32,310 - INFO - parser - downloaded image reached max num, thread parser-001 is ready to exit\n",
      "2025-02-10 16:35:32,311 - INFO - parser - thread parser-001 exit\n",
      "2025-02-10 16:35:32,478 - INFO - parser - parsing result page https://www.bing.com/images/async?q=Portable ECG Monitor Lite&first=0\n",
      "2025-02-10 16:35:33,682 - INFO - downloader - image #1\thttps://img.medicalexpo.com/images_me/photo-g/100940-8264459.jpg\n",
      "2025-02-10 16:35:34,428 - INFO - downloader - downloaded images reach max num, thread downloader-001 is ready to exit\n",
      "2025-02-10 16:35:34,429 - INFO - downloader - thread downloader-001 exit\n",
      "2025-02-10 16:35:34,538 - INFO - parser - downloaded image reached max num, thread parser-001 is ready to exit\n",
      "2025-02-10 16:35:34,539 - INFO - parser - thread parser-001 exit\n",
      "2025-02-10 16:35:35,366 - INFO - icrawler.crawler - Crawling task done!\n",
      "2025-02-10 16:35:35,370 - INFO - icrawler.crawler - start crawling...\n",
      "2025-02-10 16:35:35,371 - INFO - icrawler.crawler - starting 1 feeder threads...\n",
      "2025-02-10 16:35:35,372 - INFO - feeder - thread feeder-001 exit\n",
      "2025-02-10 16:35:35,373 - INFO - icrawler.crawler - starting 1 parser threads...\n",
      "2025-02-10 16:35:35,376 - INFO - icrawler.crawler - starting 1 downloader threads...\n"
     ]
    },
    {
     "name": "stdout",
     "output_type": "stream",
     "text": [
      "Downloaded image for 'Portable ECG Monitor Lite' and saved as 'image/product/portable_ecg_monitor_lite.jpg'\n"
     ]
    },
    {
     "name": "stderr",
     "output_type": "stream",
     "text": [
      "2025-02-10 16:35:36,626 - INFO - parser - parsing result page https://www.bing.com/images/async?q=Wireless Heart Rate Monitor&first=0\n",
      "2025-02-10 16:35:37,237 - INFO - downloader - image #1\thttps://m.media-amazon.com/images/I/71SrDS4+RaL._AC_SL1500_.jpg\n",
      "2025-02-10 16:35:37,986 - INFO - downloader - downloaded images reach max num, thread downloader-001 is ready to exit\n",
      "2025-02-10 16:35:37,987 - INFO - downloader - thread downloader-001 exit\n",
      "2025-02-10 16:35:38,381 - INFO - icrawler.crawler - Crawling task done!\n",
      "2025-02-10 16:35:38,383 - INFO - icrawler.crawler - start crawling...\n",
      "2025-02-10 16:35:38,384 - INFO - icrawler.crawler - starting 1 feeder threads...\n",
      "2025-02-10 16:35:38,385 - INFO - feeder - thread feeder-001 exit\n",
      "2025-02-10 16:35:38,386 - INFO - icrawler.crawler - starting 1 parser threads...\n",
      "2025-02-10 16:35:38,389 - INFO - icrawler.crawler - starting 1 downloader threads...\n"
     ]
    },
    {
     "name": "stdout",
     "output_type": "stream",
     "text": [
      "Downloaded image for 'Wireless Heart Rate Monitor' and saved as 'image/product/wireless_heart_rate_monitor.jpg'\n"
     ]
    },
    {
     "name": "stderr",
     "output_type": "stream",
     "text": [
      "2025-02-10 16:35:39,241 - INFO - parser - downloaded image reached max num, thread parser-001 is ready to exit\n",
      "2025-02-10 16:35:39,243 - INFO - parser - thread parser-001 exit\n",
      "2025-02-10 16:35:39,421 - INFO - parser - parsing result page https://www.bing.com/images/async?q=Chest Strap Heart Rate Monitor&first=0\n",
      "2025-02-10 16:35:40,277 - INFO - downloader - image #1\thttps://images-na.ssl-images-amazon.com/images/G/02/aplusautomation/vendorimages/d895fca1-8d4e-4656-9189-ada620fae947.jpg\n",
      "2025-02-10 16:35:40,754 - INFO - downloader - downloaded images reach max num, thread downloader-001 is ready to exit\n",
      "2025-02-10 16:35:40,755 - INFO - downloader - thread downloader-001 exit\n",
      "2025-02-10 16:35:41,394 - INFO - icrawler.crawler - Crawling task done!\n",
      "2025-02-10 16:35:41,397 - INFO - icrawler.crawler - start crawling...\n",
      "2025-02-10 16:35:41,398 - INFO - icrawler.crawler - starting 1 feeder threads...\n",
      "2025-02-10 16:35:41,399 - INFO - feeder - thread feeder-001 exit\n",
      "2025-02-10 16:35:41,400 - INFO - icrawler.crawler - starting 1 parser threads...\n",
      "2025-02-10 16:35:41,403 - INFO - icrawler.crawler - starting 1 downloader threads...\n"
     ]
    },
    {
     "name": "stdout",
     "output_type": "stream",
     "text": [
      "Downloaded image for 'Chest Strap Heart Rate Monitor' and saved as 'image/product/chest_strap_heart_rate_monitor.jpg'\n"
     ]
    },
    {
     "name": "stderr",
     "output_type": "stream",
     "text": [
      "2025-02-10 16:35:42,282 - INFO - parser - downloaded image reached max num, thread parser-001 is ready to exit\n",
      "2025-02-10 16:35:42,283 - INFO - parser - thread parser-001 exit\n",
      "2025-02-10 16:35:42,343 - INFO - parser - parsing result page https://www.bing.com/images/async?q=Digital Blood Pressure Monitor&first=0\n",
      "2025-02-10 16:35:42,887 - INFO - downloader - image #1\thttps://m.media-amazon.com/images/I/81DauJbC4NL._SL1500_.jpg\n",
      "2025-02-10 16:35:44,147 - INFO - downloader - downloaded images reach max num, thread downloader-001 is ready to exit\n",
      "2025-02-10 16:35:44,148 - INFO - downloader - thread downloader-001 exit\n",
      "2025-02-10 16:35:44,407 - INFO - icrawler.crawler - Crawling task done!\n",
      "2025-02-10 16:35:44,411 - INFO - icrawler.crawler - start crawling...\n",
      "2025-02-10 16:35:44,412 - INFO - icrawler.crawler - starting 1 feeder threads...\n",
      "2025-02-10 16:35:44,414 - INFO - feeder - thread feeder-001 exit\n",
      "2025-02-10 16:35:44,414 - INFO - icrawler.crawler - starting 1 parser threads...\n",
      "2025-02-10 16:35:44,417 - INFO - icrawler.crawler - starting 1 downloader threads...\n"
     ]
    },
    {
     "name": "stdout",
     "output_type": "stream",
     "text": [
      "Downloaded image for 'Digital Blood Pressure Monitor' and saved as 'image/product/digital_bp_monitor.jpg'\n"
     ]
    },
    {
     "name": "stderr",
     "output_type": "stream",
     "text": [
      "2025-02-10 16:35:44,890 - INFO - parser - downloaded image reached max num, thread parser-001 is ready to exit\n",
      "2025-02-10 16:35:44,891 - INFO - parser - thread parser-001 exit\n",
      "2025-02-10 16:35:45,423 - INFO - parser - parsing result page https://www.bing.com/images/async?q=Arm Cuff Blood Pressure Monitor&first=0\n",
      "2025-02-10 16:35:46,701 - INFO - downloader - image #1\thttps://m.media-amazon.com/images/S/aplus-media/vc/fa0f950b-9a99-4201-8b99-b8a282e02bde.jpg\n",
      "2025-02-10 16:35:47,342 - INFO - downloader - downloaded images reach max num, thread downloader-001 is ready to exit\n",
      "2025-02-10 16:35:47,344 - INFO - downloader - thread downloader-001 exit\n",
      "2025-02-10 16:35:47,421 - INFO - icrawler.crawler - Crawling task done!\n",
      "2025-02-10 16:35:47,425 - INFO - icrawler.crawler - start crawling...\n",
      "2025-02-10 16:35:47,427 - INFO - icrawler.crawler - starting 1 feeder threads...\n",
      "2025-02-10 16:35:47,428 - INFO - feeder - thread feeder-001 exit\n",
      "2025-02-10 16:35:47,429 - INFO - icrawler.crawler - starting 1 parser threads...\n",
      "2025-02-10 16:35:47,432 - INFO - icrawler.crawler - starting 1 downloader threads...\n",
      "2025-02-10 16:35:47,478 - INFO - parser - downloaded image reached max num, thread parser-001 is ready to exit\n",
      "2025-02-10 16:35:47,479 - INFO - parser - thread parser-001 exit\n"
     ]
    },
    {
     "name": "stdout",
     "output_type": "stream",
     "text": [
      "Downloaded image for 'Arm Cuff Blood Pressure Monitor' and saved as 'image/product/arm_cuff_bp_monitor.jpg'\n"
     ]
    },
    {
     "name": "stderr",
     "output_type": "stream",
     "text": [
      "2025-02-10 16:35:48,490 - INFO - parser - parsing result page https://www.bing.com/images/async?q=Portable EKG Machine&first=0\n",
      "2025-02-10 16:35:50,538 - INFO - downloader - image #1\thttps://numed.co.uk/files/uploads/Product/mac 600 ecg 2.jpg\n",
      "2025-02-10 16:35:51,974 - INFO - downloader - downloaded images reach max num, thread downloader-001 is ready to exit\n",
      "2025-02-10 16:35:51,976 - INFO - downloader - thread downloader-001 exit\n",
      "2025-02-10 16:35:52,436 - INFO - icrawler.crawler - Crawling task done!\n",
      "2025-02-10 16:35:52,438 - INFO - icrawler.crawler - start crawling...\n",
      "2025-02-10 16:35:52,439 - INFO - icrawler.crawler - starting 1 feeder threads...\n",
      "2025-02-10 16:35:52,441 - INFO - feeder - thread feeder-001 exit\n",
      "2025-02-10 16:35:52,442 - INFO - icrawler.crawler - starting 1 parser threads...\n",
      "2025-02-10 16:35:52,446 - INFO - icrawler.crawler - starting 1 downloader threads...\n",
      "2025-02-10 16:35:52,544 - INFO - parser - downloaded image reached max num, thread parser-001 is ready to exit\n",
      "2025-02-10 16:35:52,546 - INFO - parser - thread parser-001 exit\n"
     ]
    },
    {
     "name": "stdout",
     "output_type": "stream",
     "text": [
      "Downloaded image for 'Portable EKG Machine' and saved as 'image/product/portable_ekg_machine.jpg'\n"
     ]
    },
    {
     "name": "stderr",
     "output_type": "stream",
     "text": [
      "2025-02-10 16:35:53,327 - INFO - parser - parsing result page https://www.bing.com/images/async?q=Advanced EKG Machine&first=0\n",
      "2025-02-10 16:35:54,050 - INFO - downloader - image #1\thttps://embramedical.com/wp-content/uploads/2021/07/Embra-E-18-Advanced-ECG-Machine.jpg\n",
      "2025-02-10 16:35:54,962 - INFO - downloader - downloaded images reach max num, thread downloader-001 is ready to exit\n",
      "2025-02-10 16:35:54,963 - INFO - downloader - thread downloader-001 exit\n",
      "2025-02-10 16:35:55,450 - INFO - icrawler.crawler - Crawling task done!\n"
     ]
    },
    {
     "name": "stdout",
     "output_type": "stream",
     "text": [
      "Downloaded image for 'Advanced EKG Machine' and saved as 'image/product/advanced_ekg_machine.jpg'\n"
     ]
    },
    {
     "name": "stderr",
     "output_type": "stream",
     "text": [
      "2025-02-10 16:35:56,053 - INFO - parser - downloaded image reached max num, thread parser-001 is ready to exit\n",
      "2025-02-10 16:35:56,054 - INFO - parser - thread parser-001 exit\n"
     ]
    }
   ],
   "source": [
    "import os\n",
    "import shutil\n",
    "from icrawler.builtin import BingImageCrawler\n",
    "\n",
    "def download_image(keyword, save_path):\n",
    "    \"\"\"\n",
    "    Searches for an image using the given keyword and downloads one image.\n",
    "    Then moves (renames) the downloaded image to the desired save_path.\n",
    "    \"\"\"\n",
    "    # Temporary directory where images will be downloaded by the crawler\n",
    "    temp_dir = \"temp_images\"\n",
    "    if not os.path.exists(temp_dir):\n",
    "        os.makedirs(temp_dir)\n",
    "    \n",
    "    # Create and configure the Bing image crawler\n",
    "    crawler = BingImageCrawler(storage={\"root_dir\": temp_dir})\n",
    "    \n",
    "    # Crawl for one image using the product name as the keyword\n",
    "    crawler.crawl(keyword=keyword, max_num=1)\n",
    "    \n",
    "    # Get a list of files downloaded in temp_dir\n",
    "    downloaded_files = os.listdir(temp_dir)\n",
    "    if not downloaded_files:\n",
    "        print(f\"No image found for keyword: {keyword}\")\n",
    "        return\n",
    "    \n",
    "    # Choose the first downloaded file\n",
    "    downloaded_file = os.path.join(temp_dir, downloaded_files[0])\n",
    "    \n",
    "    # Ensure the target directory exists\n",
    "    target_dir = os.path.dirname(save_path)\n",
    "    if not os.path.exists(target_dir):\n",
    "        os.makedirs(target_dir)\n",
    "    \n",
    "    # Move (rename) the file to the desired save path\n",
    "    shutil.move(downloaded_file, save_path)\n",
    "    print(f\"Downloaded image for '{keyword}' and saved as '{save_path}'\")\n",
    "    \n",
    "    # Clean up any remaining files in the temporary directory\n",
    "    for f in os.listdir(temp_dir):\n",
    "        os.remove(os.path.join(temp_dir, f))\n",
    "\n",
    "# List of products with their search keywords and desired image file paths.\n",
    "# (You can extend this list to include all 44 subcategories and desired product names.)\n",
    "products = [\n",
    "    {\"name\": \"Smart Digital Weighing Scale\", \"filepath\": \"image/product/smart_digital_scale.jpg\"},\n",
    "    {\"name\": \"Advanced Digital Weighing Scale\", \"filepath\": \"image/product/advanced_digital_scale.jpg\"},\n",
    "    {\"name\": \"Classic Mechanical Scale\", \"filepath\": \"image/product/classic_mechanical_scale.jpg\"},\n",
    "    {\"name\": \"Heavy Duty Mechanical Scale\", \"filepath\": \"image/product/heavy_duty_mechanical_scale.jpg\"},\n",
    "    {\"name\": \"WiFi Smart Body Weight Scale\", \"filepath\": \"image/product/wifi_smart_scale.jpg\"},\n",
    "    {\"name\": \"Smart Body Composition Analyzer\", \"filepath\": \"image/product/smart_body_composition.jpg\"},\n",
    "    {\"name\": \"Sleek Bathroom Scale\", \"filepath\": \"image/product/sleek_bathroom_scale.jpg\"},\n",
    "    {\"name\": \"Compact Bathroom Scale\", \"filepath\": \"image/product/compact_bathroom_scale.jpg\"},\n",
    "    {\"name\": \"Sterile Disposable Syringes 10ml\", \"filepath\": \"image/product/sterile_disposable_syringes_10ml.jpg\"},\n",
    "    {\"name\": \"Disposable Syringes 5ml\", \"filepath\": \"image/product/disposable_syringes_5ml.jpg\"},\n",
    "    {\"name\": \"Insulin Syringes - Pack of 50\", \"filepath\": \"image/product/insulin_syringes_50.jpg\"},\n",
    "    {\"name\": \"Insulin Syringes - Pack of 100\", \"filepath\": \"image/product/insulin_syringes_100.jpg\"},\n",
    "    {\"name\": \"Auto-disable Safety Syringes\", \"filepath\": \"image/product/auto_disable_syringes.jpg\"},\n",
    "    {\"name\": \"Needle-Free Safety Syringes\", \"filepath\": \"image/product/needle_free_syringes.jpg\"},\n",
    "    {\"name\": \"Luer Lock Syringes 5ml\", \"filepath\": \"image/product/luer_lock_5ml.jpg\"},\n",
    "    {\"name\": \"Luer Lock Syringes 10ml\", \"filepath\": \"image/product/luer_lock_10ml.jpg\"},\n",
    "    {\"name\": \"Lightweight Foldable Wheelchair\", \"filepath\": \"image/product/lightweight_foldable_wheelchair.jpg\"},\n",
    "    {\"name\": \"Portable Foldable Wheelchair\", \"filepath\": \"image/product/portable_foldable_wheelchair.jpg\"},\n",
    "    {\"name\": \"Battery-Powered Electric Wheelchair\", \"filepath\": \"image/product/battery_electric_wheelchair.jpg\"},\n",
    "    {\"name\": \"Rechargeable Electric Wheelchair\", \"filepath\": \"image/product/rechargeable_electric_wheelchair.jpg\"},\n",
    "    {\"name\": \"Standard Manual Wheelchair\", \"filepath\": \"image/product/standard_manual_wheelchair.jpg\"},\n",
    "    {\"name\": \"Lightweight Manual Wheelchair\", \"filepath\": \"image/product/lightweight_manual_wheelchair.jpg\"},\n",
    "    {\"name\": \"Reclining Comfort Wheelchair\", \"filepath\": \"image/product/reclining_comfort_wheelchair.jpg\"},\n",
    "    {\"name\": \"Luxury Reclining Wheelchair\", \"filepath\": \"image/product/luxury_reclining_wheelchair.jpg\"},\n",
    "    {\"name\": \"Hardcover Medical Research Notebook\", \"filepath\": \"image/product/hardcover_medical_notebook.jpg\"},\n",
    "    {\"name\": \"A5 Medical Journal\", \"filepath\": \"image/product/a5_medical_journal.jpg\"},\n",
    "    {\"name\": \"Pocket Medical Notebook\", \"filepath\": \"image/product/pocket_medical_notebook.jpg\"},\n",
    "    {\"name\": \"Compact Pocket Notebook\", \"filepath\": \"image/product/compact_pocket_notebook.jpg\"},\n",
    "    {\"name\": \"Spiral Lab Notebook\", \"filepath\": \"image/product/spiral_lab_notebook.jpg\"},\n",
    "    {\"name\": \"Scientific Lab Notebook\", \"filepath\": \"image/product/scientific_lab_notebook.jpg\"},\n",
    "    {\"name\": \"Leather Pocket Journal\", \"filepath\": \"image/product/leather_pocket_journal.jpg\"},\n",
    "    {\"name\": \"Mini Journal\", \"filepath\": \"image/product/mini_journal.jpg\"},\n",
    "    {\"name\": \"Adjustable Dumbbell Set (2-24 kg)\", \"filepath\": \"image/product/adjustable_dumbbell_set.jpg\"},\n",
    "    {\"name\": \"Compact Adjustable Dumbbell\", \"filepath\": \"image/product/compact_adjustable_dumbbell.jpg\"},\n",
    "    {\"name\": \"Hex Dumbbell Set\", \"filepath\": \"image/product/hex_dumbbell_set.jpg\"},\n",
    "    {\"name\": \"Single Hex Dumbbell\", \"filepath\": \"image/product/single_hex_dumbbell.jpg\"},\n",
    "    {\"name\": \"Rubber-coated Dumbbell Pair\", \"filepath\": \"image/product/rubber_coated_dumbbell_pair.jpg\"},\n",
    "    {\"name\": \"Set of Rubber-coated Dumbbells\", \"filepath\": \"image/product/rubber_coated_dumbbell_set.jpg\"},\n",
    "    {\"name\": \"Vinyl Dumbbell Pair\", \"filepath\": \"image/product/vinyl_dumbbell_pair.jpg\"},\n",
    "    {\"name\": \"Set of Vinyl Dumbbells\", \"filepath\": \"image/product/vinyl_dumbbell_set.jpg\"},\n",
    "    {\"name\": \"Non-Contact Infrared Thermometer\", \"filepath\": \"image/product/non_contact_infrared_thermometer.jpg\"},\n",
    "    {\"name\": \"Infrared Thermometer with Laser Guide\", \"filepath\": \"image/product/laser_infrared_thermometer.jpg\"},\n",
    "    {\"name\": \"Digital Oral Thermometer\", \"filepath\": \"image/product/digital_oral_thermometer.jpg\"},\n",
    "    {\"name\": \"Digital Ear Thermometer\", \"filepath\": \"image/product/digital_ear_thermometer.jpg\"},\n",
    "    {\"name\": \"Classic Mercury Thermometer\", \"filepath\": \"image/product/classic_mercury_thermometer.jpg\"},\n",
    "    {\"name\": \"Antique Mercury Thermometer\", \"filepath\": \"image/product/antique_mercury_thermometer.jpg\"},\n",
    "    {\"name\": \"Clinical Digital Thermometer\", \"filepath\": \"image/product/clinical_digital_thermometer.jpg\"},\n",
    "    {\"name\": \"Medical Clinical Thermometer\", \"filepath\": \"image/product/medical_clinical_thermometer.jpg\"},\n",
    "    {\"name\": \"Electronic Digital Stethoscope\", \"filepath\": \"image/product/electronic_digital_stethoscope.jpg\"},\n",
    "    {\"name\": \"Bluetooth Digital Stethoscope\", \"filepath\": \"image/product/bluetooth_digital_stethoscope.jpg\"},\n",
    "    {\"name\": \"Dual Head Acoustic Stethoscope\", \"filepath\": \"image/product/dual_head_acoustic_stethoscope.jpg\"},\n",
    "    {\"name\": \"Dual Head Professional Stethoscope\", \"filepath\": \"image/product/dual_head_professional_stethoscope.jpg\"},\n",
    "    {\"name\": \"Ultra Lightweight Stethoscope\", \"filepath\": \"image/product/ultra_lightweight_stethoscope.jpg\"},\n",
    "    {\"name\": \"Compact Lightweight Stethoscope\", \"filepath\": \"image/product/compact_lightweight_stethoscope.jpg\"},\n",
    "    {\"name\": \"Pediatric Stethoscope\", \"filepath\": \"image/product/pediatric_stethoscope.jpg\"},\n",
    "    {\"name\": \"Child-Friendly Stethoscope\", \"filepath\": \"image/product/child_friendly_stethoscope.jpg\"},\n",
    "    {\"name\": \"Home Basic First Aid Kit\", \"filepath\": \"image/product/home_basic_first_aid_kit.jpg\"},\n",
    "    {\"name\": \"Travel Basic First Aid Kit\", \"filepath\": \"image/product/travel_basic_first_aid_kit.jpg\"},\n",
    "    {\"name\": \"Advanced Home First Aid Kit\", \"filepath\": \"image/product/advanced_home_first_aid_kit.jpg\"},\n",
    "    {\"name\": \"Advanced Travel First Aid Kit\", \"filepath\": \"image/product/advanced_travel_first_aid_kit.jpg\"},\n",
    "    {\"name\": \"Compact Travel First Aid Kit\", \"filepath\": \"image/product/compact_travel_first_aid_kit.jpg\"},\n",
    "    {\"name\": \"Portable Travel First Aid Kit\", \"filepath\": \"image/product/portable_travel_first_aid_kit.jpg\"},\n",
    "    {\"name\": \"Industrial Grade First Aid Kit\", \"filepath\": \"image/product/industrial_first_aid_kit.jpg\"},\n",
    "    {\"name\": \"Heavy-Duty Industrial First Aid Kit\", \"filepath\": \"image/product/heavy_duty_industrial_first_aid_kit.jpg\"},\n",
    "    {\"name\": \"USB Digital Microscope\", \"filepath\": \"image/product/usb_digital_microscope.jpg\"},\n",
    "    {\"name\": \"Portable Digital Microscope\", \"filepath\": \"image/product/portable_digital_microscope.jpg\"},\n",
    "    {\"name\": \"Advanced Research Microscope\", \"filepath\": \"image/product/advanced_research_microscope.jpg\"},\n",
    "    {\"name\": \"Professional Biological Microscope\", \"filepath\": \"image/product/professional_bio_microscope.jpg\"},\n",
    "    {\"name\": \"Budget USB Microscope\", \"filepath\": \"image/product/budget_usb_microscope.jpg\"},\n",
    "    {\"name\": \"High-Res USB Microscope\", \"filepath\": \"image/product/high_res_usb_microscope.jpg\"},\n",
    "    {\"name\": \"Basic Student Microscope\", \"filepath\": \"image/product/basic_student_microscope.jpg\"},\n",
    "    {\"name\": \"Portable Student Microscope\", \"filepath\": \"image/product/portable_student_microscope.jpg\"},\n",
    "    {\"name\": \"Pack of Disposable Scalpel Blades\", \"filepath\": \"image/product/disposable_scalpel_blades.jpg\"},\n",
    "    {\"name\": \"Premium Disposable Scalpel Blades\", \"filepath\": \"image/product/premium_scalpel_blades.jpg\"},\n",
    "    {\"name\": \"Standard Surgical Scalpel\", \"filepath\": \"image/product/standard_surgical_scalpel.jpg\"},\n",
    "    {\"name\": \"Precision Surgical Scalpel\", \"filepath\": \"image/product/precision_surgical_scalpel.jpg\"},\n",
    "    {\"name\": \"Stainless Steel Scalpel\", \"filepath\": \"image/product/stainless_steel_scalpel.jpg\"},\n",
    "    {\"name\": \"Premium Stainless Steel Scalpel\", \"filepath\": \"image/product/premium_stainless_scalpel.jpg\"},\n",
    "    {\"name\": \"Sterile Scalpel Blade Pack\", \"filepath\": \"image/product/sterile_scalpel_blade_pack.jpg\"},\n",
    "    {\"name\": \"Extra Sterile Scalpel Blades\", \"filepath\": \"image/product/extra_sterile_scalpel_blades.jpg\"},\n",
    "    {\"name\": \"Portable ECG Monitor Pro\", \"filepath\": \"image/product/portable_ecg_monitor_pro.jpg\"},\n",
    "    {\"name\": \"Portable ECG Monitor Lite\", \"filepath\": \"image/product/portable_ecg_monitor_lite.jpg\"},\n",
    "    {\"name\": \"Wireless Heart Rate Monitor\", \"filepath\": \"image/product/wireless_heart_rate_monitor.jpg\"},\n",
    "    {\"name\": \"Chest Strap Heart Rate Monitor\", \"filepath\": \"image/product/chest_strap_heart_rate_monitor.jpg\"},\n",
    "    {\"name\": \"Digital Blood Pressure Monitor\", \"filepath\": \"image/product/digital_bp_monitor.jpg\"},\n",
    "    {\"name\": \"Arm Cuff Blood Pressure Monitor\", \"filepath\": \"image/product/arm_cuff_bp_monitor.jpg\"},\n",
    "    {\"name\": \"Portable EKG Machine\", \"filepath\": \"image/product/portable_ekg_machine.jpg\"},\n",
    "    {\"name\": \"Advanced EKG Machine\", \"filepath\": \"image/product/advanced_ekg_machine.jpg\"}\n",
    "]\n",
    "\n",
    "# Loop through the products list and download one image for each product\n",
    "for product in products:\n",
    "    download_image(product[\"name\"], product[\"filepath\"])\n"
   ]
  }
 ],
 "metadata": {
  "kernelspec": {
   "display_name": ".venv",
   "language": "python",
   "name": "python3"
  },
  "language_info": {
   "codemirror_mode": {
    "name": "ipython",
    "version": 3
   },
   "file_extension": ".py",
   "mimetype": "text/x-python",
   "name": "python",
   "nbconvert_exporter": "python",
   "pygments_lexer": "ipython3",
   "version": "3.12.3"
  }
 },
 "nbformat": 4,
 "nbformat_minor": 2
}
